{
 "cells": [
  {
   "attachments": {},
   "cell_type": "markdown",
   "metadata": {},
   "source": [
    "### AB Model from spec"
   ]
  },
  {
   "attachments": {},
   "cell_type": "markdown",
   "metadata": {},
   "source": [
    "Package installation"
   ]
  },
  {
   "cell_type": "code",
   "execution_count": null,
   "metadata": {},
   "outputs": [],
   "source": [
    "# !pip3 install seaborn\n",
    "# !pip3 install python-statemachine\n",
    "# !pip3 install mesa\n",
    "# !pip3 install transitions\n",
    "# !pip3 install scipy\n",
    "# !pip3 install cufflinks\n",
    "# !pip3 install graphviz pygraphviz\n",
    "# !pip3 install graphviz\n",
    "# !pip3 install transitions[diagrams]\n",
    "# !pip3 uninstall mesa"
   ]
  },
  {
   "attachments": {},
   "cell_type": "markdown",
   "metadata": {},
   "source": [
    "Package importation"
   ]
  },
  {
   "cell_type": "code",
   "execution_count": null,
   "metadata": {},
   "outputs": [],
   "source": [
    "# imports\n",
    "import os\n",
    "import seaborn as sns\n",
    "from random import choice\n",
    "import warnings\n",
    "warnings.simplefilter(\"ignore\")\n",
    "import pandas as pd\n",
    "import numpy as np\n",
    "import mesa\n",
    "from mesa import Agent, Model\n",
    "from mesa.time import RandomActivation, RandomActivationByType, SimultaneousActivation\n",
    "from mesa.datacollection import DataCollector\n",
    "from matplotlib import pyplot as plt, patches\n",
    "import scipy.stats as ss\n",
    "import cufflinks as cf\n",
    "cf.go_offline()\n",
    "from plotly.offline import iplot\n",
    "from transitions import Machine\n",
    "import random\n",
    "from transitions.extensions import GraphMachine\n",
    "import graphviz\n",
    "import timeit\n",
    "\n",
    "import logging\n",
    "# os.environ[\"PATH\"] += os.pathsep + '/Users/ia329/homebrew/bin' # for graphviz"
   ]
  },
  {
   "attachments": {},
   "cell_type": "markdown",
   "metadata": {},
   "source": [
    "Model component importation"
   ]
  },
  {
   "cell_type": "code",
   "execution_count": null,
   "metadata": {},
   "outputs": [],
   "source": [
    "from EV.agent import EV, ChargeStation\n",
    "import EV.model as model\n",
    "from EV.statemachine import EVSM, LSM\n",
    "from EV.model import get_evs_charge, get_evs_charge_level, get_evs_active, get_evs_queue, get_evs_travel, get_evs_not_idle, get_active_chargestations, get_eod_evs_socs, get_evs_destinations, get_ev_distance_covered\n",
    "# old:  get_evs_charging,"
   ]
  },
  {
   "attachments": {},
   "cell_type": "markdown",
   "metadata": {},
   "source": [
    "State diagram"
   ]
  },
  {
   "attachments": {},
   "cell_type": "markdown",
   "metadata": {},
   "source": [
    "### Model"
   ]
  },
  {
   "attachments": {},
   "cell_type": "markdown",
   "metadata": {},
   "source": [
    "Model parameters"
   ]
  },
  {
   "cell_type": "code",
   "execution_count": null,
   "metadata": {},
   "outputs": [],
   "source": [
    "ticks =  48 # 3600 ticks = 3600 seconds = 1 hour\n",
    "no_evs = 5\n",
    "# no of css must be fixed\n",
    "no_css = 5"
   ]
  },
  {
   "attachments": {},
   "cell_type": "markdown",
   "metadata": {},
   "source": [
    "Run Model"
   ]
  },
  {
   "cell_type": "code",
   "execution_count": null,
   "metadata": {},
   "outputs": [],
   "source": [
    "model_run = model.EVModel(ticks=ticks, no_evs=no_evs, no_css=no_css)\n",
    "for i in range(ticks):\n",
    "    model_run.step()"
   ]
  },
  {
   "cell_type": "code",
   "execution_count": null,
   "metadata": {},
   "outputs": [],
   "source": [
    "run_stats = model_run.datacollector.get_model_vars_dataframe()\n",
    "print(run_stats)"
   ]
  },
  {
   "cell_type": "code",
   "execution_count": null,
   "metadata": {},
   "outputs": [],
   "source": [
    "a = 26 % 24\n",
    "print(a) "
   ]
  },
  {
   "attachments": {},
   "cell_type": "markdown",
   "metadata": {},
   "source": [
    "Export results to CSV file"
   ]
  },
  {
   "cell_type": "code",
   "execution_count": null,
   "metadata": {},
   "outputs": [],
   "source": [
    "model_run.datacollector.get_model_vars_dataframe().to_csv('06_03_5EV_agent_model_output.csv')"
   ]
  },
  {
   "cell_type": "code",
   "execution_count": null,
   "metadata": {},
   "outputs": [],
   "source": [
    "# def unpack_datacollector(dc):\n",
    "#     \"\"\"\n",
    "#     Unpacks the data from a DataCollector instance in Mesa.\n",
    "    \n",
    "#     Args:\n",
    "#         dc (DataCollector): A DataCollector instance in Mesa.\n",
    "    \n",
    "#     Returns:\n",
    "#         A dictionary with the keys as the variable names and the values as the lists of data for each variable.\n",
    "#     \"\"\"\n",
    "#     data = {}\n",
    "#     for varname, var in dc.model_vars.items():\n",
    "#         data[varname] = var.get_data()\n",
    "#     return data"
   ]
  },
  {
   "attachments": {},
   "cell_type": "markdown",
   "metadata": {},
   "source": [
    "### Data import and preprocessing"
   ]
  },
  {
   "attachments": {},
   "cell_type": "markdown",
   "metadata": {},
   "source": [
    "Helper functions. May eventually move to external module"
   ]
  },
  {
   "cell_type": "code",
   "execution_count": null,
   "metadata": {},
   "outputs": [],
   "source": [
    "def split_column_values(df, col_name):\n",
    "    \"\"\"\n",
    "    Splits the values in a column by commas and creates a new column for each value.\n",
    "\n",
    "    Args:\n",
    "        df (pandas.DataFrame): A pandas DataFrame.\n",
    "        col_name (str): The name of the column to split.\n",
    "\n",
    "    Returns:\n",
    "        A pandas DataFrame with additional columns for each value in the input column.\n",
    "    \"\"\"\n",
    "    # Get the unique values in the column\n",
    "    unique_values = set(df[col_name].str.cat(sep=',').split(','))\n",
    "\n",
    "    # Create a new column for each unique value\n",
    "    for value in unique_values:\n",
    "        df[value] = df[col_name].str.contains(value).astype(int)\n",
    "\n",
    "    # Drop the original column\n",
    "    df.drop(col_name, axis=1, inplace=True)\n",
    "\n",
    "    return df\n",
    "\n",
    "\n",
    "def unpack_and_join(df, column_name):\n",
    "    \"\"\"\n",
    "    Unpacks the values in a column by commas and creates a new column for each value. Removes square brackets from the values.\n",
    "\n",
    "    Args:\n",
    "        df (pandas.DataFrame): A pandas DataFrame.\n",
    "        column_name (str): The name of the column to unpack.\n",
    "\n",
    "    Returns:\n",
    "        A pandas DataFrame with additional columns for each value in the input column.\n",
    "        \n",
    "    \"\"\"\n",
    "    # Get the column values as a list of strings\n",
    "    column_values = df[column_name].tolist()\n",
    "\n",
    "    # Strip the square brackets from the strings\n",
    "    column_values = [s.strip(\"[]\") for s in column_values]\n",
    "\n",
    "    # Split the strings on commas and create a list of lists\n",
    "    split_values = [s.split(\",\") for s in column_values]\n",
    "\n",
    "    # Get the number of columns needed\n",
    "    num_cols = max([len(row) for row in split_values])\n",
    "\n",
    "    # Create the new columns in the output dataframe\n",
    "    column_names = [column_name+\"_unpacked_\"+str(i) for i in range(num_cols)]\n",
    "    new_df = pd.DataFrame(columns=column_names)\n",
    "\n",
    "    # Loop over the original column values and add the unpacked values to the new dataframe\n",
    "    for vals in split_values:\n",
    "        row_data = {}\n",
    "        for i in range(num_cols):\n",
    "            if i < len(vals):\n",
    "                row_data[column_name+\"_unpacked_\"+str(i)] = vals[i].strip()\n",
    "            else:\n",
    "                row_data[column_name+\"_unpacked_\"+str(i)] = \"\"\n",
    "        new_df = new_df.append(row_data, ignore_index=True)\n",
    "\n",
    "    # Merge the original dataframe with the new unpacked dataframe\n",
    "    merged_df = pd.concat([df, new_df], axis=1)\n",
    "\n",
    "    return merged_df\n"
   ]
  },
  {
   "attachments": {},
   "cell_type": "markdown",
   "metadata": {},
   "source": [
    "Data import"
   ]
  },
  {
   "cell_type": "code",
   "execution_count": null,
   "metadata": {},
   "outputs": [],
   "source": [
    "data = pd.read_csv('06_03_5EV_agent_model_output.csv')"
   ]
  },
  {
   "cell_type": "code",
   "execution_count": null,
   "metadata": {},
   "outputs": [],
   "source": [
    "data.info()\n",
    "# data.head()"
   ]
  },
  {
   "cell_type": "code",
   "execution_count": null,
   "metadata": {},
   "outputs": [],
   "source": [
    "a = unpack_and_join(data, 'EVs Charge Level')\n",
    "# print(a)"
   ]
  },
  {
   "cell_type": "code",
   "execution_count": null,
   "metadata": {},
   "outputs": [],
   "source": [
    "# # EV charge level per EV per timestep - 20 EVs unpacked\n",
    "# newdf = a[['EVs Charge Level', 'EVs Charge Level_unpacked_0', 'EVs Charge Level_unpacked_1', 'EVs Charge Level_unpacked_2', 'EVs Charge Level_unpacked_3', 'EVs Charge Level_unpacked_4', 'EVs Charge Level_unpacked_5', 'EVs Charge Level_unpacked_6', 'EVs Charge Level_unpacked_7', 'EVs Charge Level_unpacked_8', 'EVs Charge Level_unpacked_9', 'EVs Charge Level_unpacked_10', 'EVs Charge Level_unpacked_11', 'EVs Charge Level_unpacked_12', 'EVs Charge Level_unpacked_13', 'EVs Charge Level_unpacked_14', 'EVs Charge Level_unpacked_15', 'EVs Charge Level_unpacked_16', 'EVs Charge Level_unpacked_17', 'EVs Charge Level_unpacked_18', 'EVs Charge Level_unpacked_19']]\n",
    "# newdf.head()\n",
    "\n",
    "# EV charge level per EV per timestep - 20 EVs unpacked\n",
    "newdf = a[['EVs Charge Level', 'EVs Charge Level_unpacked_0', 'EVs Charge Level_unpacked_1', 'EVs Charge Level_unpacked_2', 'EVs Charge Level_unpacked_3', 'EVs Charge Level_unpacked_4']]\n",
    "newdf.head()"
   ]
  },
  {
   "cell_type": "code",
   "execution_count": null,
   "metadata": {},
   "outputs": [],
   "source": [
    "import plotly.express as px\n",
    "import plotly.graph_objs as go\n",
    "import pandas as pd\n",
    "\n",
    "# def add_integer_column(df):\n",
    "#     n_rows = df.shape[0] # get number of rows\n",
    "#     df['new_col'] = pd.Series(range(n_rows)) # create new column with range of integers\n",
    "#     return df\n",
    "\n",
    "def add_time_col(df):\n",
    "    n_rows = df.shape[0] # get number of rows\n",
    "    df.insert(0, 'Timestep', pd.Series(range(n_rows))) # insert new column at index 0\n",
    "    return df\n",
    "\n",
    "def plot_data_scatter(df, x_col, y_col):\n",
    "    \"\"\"\n",
    "    Plots data from two columns in a Pandas DataFrame using Plotly.\n",
    "\n",
    "    Parameters:\n",
    "    -----------\n",
    "    df : pandas.DataFrame\n",
    "        The DataFrame containing the data to be plotted.\n",
    "    x_col : str\n",
    "        The name of the column containing the x-axis data.\n",
    "    y_col : str\n",
    "        The name of the column containing the y-axis data.\n",
    "\n",
    "    Returns:\n",
    "    --------\n",
    "    fig : plotly.graph_objs._figure.Figure\n",
    "        The Plotly figure object containing the scatter plot.\n",
    "    \"\"\"\n",
    "    fig = px.scatter(df, x=x_col, y=y_col)\n",
    "    return fig\n",
    "\n",
    "def plot_data_line(df, x_col, y_col):\n",
    "    \"\"\"\n",
    "    Plots data from two columns in a Pandas DataFrame using Plotly.\n",
    "\n",
    "    Parameters:\n",
    "    -----------\n",
    "    df : pandas.DataFrame\n",
    "        The DataFrame containing the data to be plotted.\n",
    "    x_col : str\n",
    "        The name of the column containing the x-axis data.\n",
    "    y_col : str\n",
    "        The name of the column containing the y-axis data.\n",
    "\n",
    "    Returns:\n",
    "    --------\n",
    "    fig : plotly.graph_objs._figure.Figure\n",
    "        The Plotly figure object containing the line plot.\n",
    "    \"\"\"\n",
    "    fig = go.Figure()\n",
    "    fig.add_trace(go.Scatter(x=df[x_col], y=df[y_col], mode='lines'))\n",
    "    fig.update_layout(title='Line Plot', xaxis_title=x_col, yaxis_title=y_col)\n",
    "    return fig\n",
    "\n",
    "def plot_data_heatmap(df, x_col, y_col, z_col):\n",
    "    \"\"\"\n",
    "    Plots data from three columns in a Pandas DataFrame using Plotly.\n",
    "\n",
    "    Parameters:\n",
    "    -----------\n",
    "    df : pandas.DataFrame\n",
    "        The DataFrame containing the data to be plotted.\n",
    "    x_col : str\n",
    "        The name of the column containing the x-axis data.\n",
    "    y_col : str\n",
    "        The name of the column containing the y-axis data.\n",
    "    z_col : str\n",
    "        The name of the column containing the z-axis data.\n",
    "\n",
    "    Returns:\n",
    "    --------\n",
    "    fig : plotly.graph_objs._figure.Figure\n",
    "        The Plotly figure object containing the heatmap.\n",
    "    \"\"\"\n",
    "    fig = go.Figure()\n",
    "    fig.add_trace(go.Heatmap(x=df[x_col], y=df[y_col], z=df[z_col]))\n",
    "    fig.update_layout(title='Heatmap', xaxis_title=x_col, yaxis_title=y_col)\n",
    "    return fig\n",
    "\n",
    "def plot_data_lines(df, x_col, y_cols):\n",
    "    \"\"\"\n",
    "    Plots data from multiple columns in a Pandas DataFrame as multiple lines using Plotly.\n",
    "\n",
    "    Parameters:\n",
    "    -----------\n",
    "    df : pandas.DataFrame\n",
    "        The DataFrame containing the data to be plotted.\n",
    "    x_col : str\n",
    "        The name of the column containing the x-axis data.\n",
    "    y_cols : list of str\n",
    "        The names of the columns containing the y-axis data.\n",
    "\n",
    "    Returns:\n",
    "    --------\n",
    "    fig : plotly.graph_objs._figure.Figure\n",
    "        The Plotly figure object containing the multiple line plot.\n",
    "    \"\"\"\n",
    "    fig = go.Figure()\n",
    "    for y_col in y_cols:\n",
    "        fig.add_trace(go.Scatter(x=df[x_col], y=df[y_col], mode='lines', name=y_col))\n",
    "\n",
    "    fig.update_layout(title='Multiple Line Plot', xaxis_title=x_col, yaxis_title='Value')\n",
    "    \n",
    "    # Sort the y-axis in ascending order\n",
    "    fig.update_yaxes(autorange=\"reversed\")\n",
    "    \n",
    "    return fig\n"
   ]
  },
  {
   "cell_type": "code",
   "execution_count": null,
   "metadata": {},
   "outputs": [],
   "source": [
    "add_time_col(newdf)\n",
    "newdf.head()"
   ]
  },
  {
   "attachments": {},
   "cell_type": "markdown",
   "metadata": {},
   "source": [
    "### Batching"
   ]
  },
  {
   "cell_type": "code",
   "execution_count": null,
   "metadata": {},
   "outputs": [],
   "source": [
    "from mesa.batchrunner import BatchRunner\n",
    "\n",
    "EVcounts = (100,500,1000)\n",
    "cpcounts = (1,2)\n",
    "tickcounts = (24,48)\n",
    "model_reporters={'EVs Charged': get_evs_charged,\n",
    "                'EVs Activated': get_evs_active,\n",
    "                'EVs Travelling': get_evs_travel,\n",
    "                'EVs Charge Level': get_evs_charge_level,\n",
    "                'EVs Currently charging': get_evs_charging,\n",
    "                'EVs Not Idle': get_evs_not_idle,\n",
    "                'EOD Battery SOC': get_eod_evs_socs,\n",
    "                'EVs Destinations': get_evs_destinations,\n",
    "                }\n",
    "# parameters = {\"no_evs\": range(1000,20000,3000), \"no_cps\": 1}\n",
    "parameters = {\"no_evs\": EVcounts, \"no_cps\": cpcounts, \"ticks\": tickcounts}\n",
    "batch_run = BatchRunner(model.EVModel, parameters, max_steps=24, iterations=1, model_reporters= model_reporters) #iterations=1\n",
    "batch_run.run_all()"
   ]
  },
  {
   "cell_type": "code",
   "execution_count": null,
   "metadata": {},
   "outputs": [],
   "source": [
    "# batch_df = batch_run.get_model_vars_dataframe()"
   ]
  },
  {
   "cell_type": "code",
   "execution_count": null,
   "metadata": {},
   "outputs": [],
   "source": [
    "# print(batch_df)"
   ]
  },
  {
   "attachments": {},
   "cell_type": "markdown",
   "metadata": {},
   "source": [
    "### Visualisations"
   ]
  },
  {
   "attachments": {},
   "cell_type": "markdown",
   "metadata": {},
   "source": [
    "Scatter plot"
   ]
  },
  {
   "cell_type": "code",
   "execution_count": null,
   "metadata": {},
   "outputs": [],
   "source": [
    "# plot_data_lines(newdf, 'Timestep', ['EVs Charge Level_unpacked_0', 'EVs Charge Level_unpacked_1', 'EVs Charge Level_unpacked_2', 'EVs Charge Level_unpacked_3', 'EVs Charge Level_unpacked_4'])"
   ]
  },
  {
   "cell_type": "code",
   "execution_count": null,
   "metadata": {},
   "outputs": [],
   "source": []
  },
  {
   "attachments": {},
   "cell_type": "markdown",
   "metadata": {},
   "source": [
    "### Scrapbook"
   ]
  },
  {
   "cell_type": "code",
   "execution_count": null,
   "metadata": {},
   "outputs": [],
   "source": []
  }
 ],
 "metadata": {
  "kernelspec": {
   "display_name": "Python 3",
   "language": "python",
   "name": "python3"
  },
  "language_info": {
   "codemirror_mode": {
    "name": "ipython",
    "version": 3
   },
   "file_extension": ".py",
   "mimetype": "text/x-python",
   "name": "python",
   "nbconvert_exporter": "python",
   "pygments_lexer": "ipython3",
   "version": "3.11.2"
  },
  "orig_nbformat": 4,
  "vscode": {
   "interpreter": {
    "hash": "aee8b7b246df8f9039afb4144a1f6fd8d2ca17a180786b69acc140d282b71a49"
   }
  }
 },
 "nbformat": 4,
 "nbformat_minor": 2
}
