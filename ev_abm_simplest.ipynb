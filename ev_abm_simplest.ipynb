{
 "cells": [
  {
   "attachments": {},
   "cell_type": "markdown",
   "metadata": {},
   "source": [
    "### AB Model from spec"
   ]
  },
  {
   "attachments": {},
   "cell_type": "markdown",
   "metadata": {},
   "source": [
    "Package installation"
   ]
  },
  {
   "cell_type": "code",
   "execution_count": 1,
   "metadata": {},
   "outputs": [],
   "source": [
    "# !pip3 install seaborn\n",
    "# !pip3 install python-statemachine\n",
    "# !pip3 install mesa\n",
    "# !pip3 install transitions\n",
    "# !pip3 install scipy\n",
    "# !pip3 install cufflinks\n",
    "# !pip3 install graphviz pygraphviz\n",
    "# !pip3 install graphviz\n",
    "# !pip3 install transitions[diagrams]\n",
    "# !pip3 uninstall mesa"
   ]
  },
  {
   "attachments": {},
   "cell_type": "markdown",
   "metadata": {},
   "source": [
    "Package importation"
   ]
  },
  {
   "cell_type": "code",
   "execution_count": 2,
   "metadata": {},
   "outputs": [
    {
     "data": {
      "text/html": [
       "        <script type=\"text/javascript\">\n",
       "        window.PlotlyConfig = {MathJaxConfig: 'local'};\n",
       "        if (window.MathJax && window.MathJax.Hub && window.MathJax.Hub.Config) {window.MathJax.Hub.Config({SVG: {font: \"STIX-Web\"}});}\n",
       "        if (typeof require !== 'undefined') {\n",
       "        require.undef(\"plotly\");\n",
       "        requirejs.config({\n",
       "            paths: {\n",
       "                'plotly': ['https://cdn.plot.ly/plotly-2.18.2.min']\n",
       "            }\n",
       "        });\n",
       "        require(['plotly'], function(Plotly) {\n",
       "            window._Plotly = Plotly;\n",
       "        });\n",
       "        }\n",
       "        </script>\n",
       "        "
      ]
     },
     "metadata": {},
     "output_type": "display_data"
    }
   ],
   "source": [
    "# imports\n",
    "import os\n",
    "import seaborn as sns\n",
    "from random import choice\n",
    "import warnings\n",
    "warnings.simplefilter(\"ignore\")\n",
    "import pandas as pd\n",
    "import numpy as np\n",
    "import mesa\n",
    "from mesa import Agent, Model\n",
    "from mesa.time import RandomActivation, RandomActivationByType, SimultaneousActivation\n",
    "from mesa.datacollection import DataCollector\n",
    "from matplotlib import pyplot as plt, patches\n",
    "import scipy.stats as ss\n",
    "import cufflinks as cf\n",
    "cf.go_offline()\n",
    "from plotly.offline import iplot\n",
    "from transitions import Machine\n",
    "import random\n",
    "from transitions.extensions import GraphMachine\n",
    "import graphviz\n",
    "import timeit\n",
    "\n",
    "import logging\n",
    "# os.environ[\"PATH\"] += os.pathsep + '/Users/ia329/homebrew/bin' # for graphviz"
   ]
  },
  {
   "attachments": {},
   "cell_type": "markdown",
   "metadata": {},
   "source": [
    "Model component importation"
   ]
  },
  {
   "cell_type": "code",
   "execution_count": 3,
   "metadata": {},
   "outputs": [
    {
     "data": {
      "text/html": [
       "        <script type=\"text/javascript\">\n",
       "        window.PlotlyConfig = {MathJaxConfig: 'local'};\n",
       "        if (window.MathJax && window.MathJax.Hub && window.MathJax.Hub.Config) {window.MathJax.Hub.Config({SVG: {font: \"STIX-Web\"}});}\n",
       "        if (typeof require !== 'undefined') {\n",
       "        require.undef(\"plotly\");\n",
       "        requirejs.config({\n",
       "            paths: {\n",
       "                'plotly': ['https://cdn.plot.ly/plotly-2.18.2.min']\n",
       "            }\n",
       "        });\n",
       "        require(['plotly'], function(Plotly) {\n",
       "            window._Plotly = Plotly;\n",
       "        });\n",
       "        }\n",
       "        </script>\n",
       "        "
      ]
     },
     "metadata": {},
     "output_type": "display_data"
    }
   ],
   "source": [
    "from EV.agent import EV, ChargeStation\n",
    "import EV.model as model\n",
    "from EV.statemachine import EVSM, LSM\n",
    "from EV.model import get_evs_charge, get_evs_charge_level, get_evs_active, get_evs_queue, get_evs_travel, get_evs_not_idle, get_active_chargestations, get_eod_evs_socs, get_evs_destinations, get_ev_distance_covered\n",
    "# old:  get_evs_charging,"
   ]
  },
  {
   "attachments": {},
   "cell_type": "markdown",
   "metadata": {},
   "source": [
    "State diagram"
   ]
  },
  {
   "attachments": {},
   "cell_type": "markdown",
   "metadata": {},
   "source": [
    "### Model"
   ]
  },
  {
   "attachments": {},
   "cell_type": "markdown",
   "metadata": {},
   "source": [
    "Model parameters"
   ]
  },
  {
   "cell_type": "code",
   "execution_count": 4,
   "metadata": {},
   "outputs": [],
   "source": [
    "ticks =  48 # 3600 ticks = 3600 seconds = 1 hour\n",
    "no_evs = 5\n",
    "# no of css must be fixed\n",
    "no_css = 5"
   ]
  },
  {
   "attachments": {},
   "cell_type": "markdown",
   "metadata": {},
   "source": [
    "Run Model"
   ]
  },
  {
   "cell_type": "code",
   "execution_count": 5,
   "metadata": {},
   "outputs": [
    {
     "name": "stdout",
     "output_type": "stream",
     "text": [
      "\n",
      "EV info: ID: 0, destination name: City A, journey type: InterUrban, max_battery: 46, speed: 20, State: Idle.\n",
      "EV info (Cont'd): Start time: 6, distance goal: 120, energy consumption rate: 0.5, charge prop 0.4, location: City_D.\n",
      "\n",
      "EV info: ID: 1, destination name: friend_2, journey type: Urban, max_battery: 64, speed: 10, State: Idle.\n",
      "EV info (Cont'd): Start time: 9, distance goal: 90, energy consumption rate: 0.2, charge prop 0.4, location: City_D.\n",
      "\n",
      "EV info: ID: 2, destination name: market, journey type: Urban, max_battery: 66, speed: 10, State: Idle.\n",
      "EV info (Cont'd): Start time: 13, distance goal: 40, energy consumption rate: 0.2, charge prop 0.4, location: City_D.\n",
      "\n",
      "EV info: ID: 3, destination name: City A, journey type: InterUrban, max_battery: 52, speed: 20, State: Idle.\n",
      "EV info (Cont'd): Start time: 6, distance goal: 120, energy consumption rate: 0.5, charge prop 0.4, location: City_D.\n",
      "\n",
      "EV info: ID: 4, destination name: autoshop, journey type: Urban, max_battery: 54, speed: 10, State: Idle.\n",
      "EV info (Cont'd): Start time: 12, distance goal: 60, energy consumption rate: 0.2, charge prop 0.4, location: City_D.\n",
      "\n",
      "CP info: ID: 5, initialized. Charge rate: 7.5 kW.\n",
      "\n",
      "CP info: ID: 6, initialized. Charge rate: 7.5 kW.\n",
      "\n",
      "CP info: ID: 7, initialized. Charge rate: 7.5 kW.\n",
      "\n",
      "CP info: ID: 8, initialized. Charge rate: 7.5 kW.\n",
      "\n",
      "CP info: ID: 9, initialized. Charge rate: 7.5 kW.\n",
      "Charging Station: 5 is at checkpoint: 40 miles.\n",
      "Charging Station: 6 is at checkpoint: 80 miles.\n",
      "Charging Station: 7 is at checkpoint: 120 miles.\n",
      "Charging Station: 8 is at checkpoint: 160 miles.\n",
      "Charging Station: 9 is at checkpoint: 200 miles.\n",
      "\n",
      "Model initialised. 5 EVs and 5 Charging Points. Simulation will run for 48 ticks or 2.0 days.\n",
      "\n",
      "\n",
      "Current timestep (tick): 1.\n",
      "\n",
      "Current timestep (tick): 2.\n",
      "\n",
      "Current timestep (tick): 3.\n",
      "\n",
      "Current timestep (tick): 4.\n",
      "\n",
      "Current timestep (tick): 5.\n",
      "\n",
      "Current timestep (tick): 6.\n",
      "\n",
      "Current timestep (tick): 7.\n",
      "EV 0 started travelling at 6 and is in state: Travel\n",
      "EV 0 is travelling. Odometer: 20, Battery: 36.0\n",
      "EV 0  has travelled: 20 miles. State: Travel. Battery: 36.0 kWh\n",
      "EV 3 started travelling at 6 and is in state: Travel\n",
      "EV 3 is travelling. Odometer: 20, Battery: 42.0\n",
      "EV 3  has travelled: 20 miles. State: Travel. Battery: 42.0 kWh\n",
      "\n",
      "Current timestep (tick): 8.\n",
      "EV 0 is travelling. Odometer: 40, Battery: 26.0\n",
      "EV 0  has travelled: 40 miles. State: Travel. Battery: 26.0 kWh\n",
      "EV 0 has arrived at Charge Station but is in state: Travel. Not travelling low.\n",
      "EV 3 is travelling. Odometer: 40, Battery: 32.0\n",
      "EV 3  has travelled: 40 miles. State: Travel. Battery: 32.0 kWh\n",
      "EV 3 has arrived at Charge Station but is in state: Travel. Not travelling low.\n",
      "\n",
      "Current timestep (tick): 9.\n",
      "EV 0 is travelling. Odometer: 60, Battery: 16.0\n",
      "EV 0  has travelled: 60 miles. State: Travel. Battery: 16.0 kWh\n",
      "EV 3 is travelling. Odometer: 60, Battery: 22.0\n",
      "EV 3  has travelled: 60 miles. State: Travel. Battery: 22.0 kWh\n",
      "\n",
      "Current timestep (tick): 10.\n",
      "EV 0 is low on charge and is seeking a charge station. Current charge: 16.0 kWh\n",
      "EV 0 is travelling. Odometer: 80, Battery: 6.0\n",
      "EV 0 is low on battery and is at a station. Seeking charge queue. Current EV state: Travel_low\n",
      "EV 0 selected Charge Station: 6 for charging.\n",
      "Length of q1: 0. Length of q2: 0\n",
      "EV 0 selected queue 1 at Charge Station 6\n",
      "EV 1 started travelling at 9 and is in state: Travel\n",
      "EV 1 is travelling. Odometer: 10, Battery: 62.0\n",
      "EV 1  has travelled: 10 miles. State: Travel. Battery: 62.0 kWh\n",
      "EV 3 is travelling. Odometer: 80, Battery: 12.0\n",
      "EV 3  has travelled: 80 miles. State: Travel. Battery: 12.0 kWh\n",
      "EV 3 has arrived at Charge Station but is in state: Travel. Not travelling low.\n",
      "EV 0 dequeued at CS 6 at Queue 1 and is in state: Charge\n",
      "Queue 1 size after dequeuing: 0\n",
      "EV 0 at CS 6 is in state: Charge, Battery: 13.5\n",
      "\n",
      "Current timestep (tick): 11.\n",
      "EV 1 is travelling. Odometer: 20, Battery: 60.0\n",
      "EV 1  has travelled: 20 miles. State: Travel. Battery: 60.0 kWh\n",
      "EV 3 is low on charge and is seeking a charge station. Current charge: 12.0 kWh\n",
      "EV 3 is travelling. Odometer: 100, Battery: 2.0\n",
      "EV 3 is now in state: Battery_dead and is out of charge.\n",
      "EV 0 at CS 6 is in state: Charge, Battery: 21.0\n",
      "\n",
      "Current timestep (tick): 12.\n",
      "EV 1 is travelling. Odometer: 30, Battery: 58.0\n",
      "EV 1  has travelled: 30 miles. State: Travel. Battery: 58.0 kWh\n",
      "EV 0 at CS 6 is in state: Charge, Battery: 28.5\n",
      "\n",
      "Current timestep (tick): 13.\n",
      "EV 1 is travelling. Odometer: 40, Battery: 56.0\n",
      "EV 1  has travelled: 40 miles. State: Travel. Battery: 56.0 kWh\n",
      "EV 1 has arrived at Charge Station but is in state: Travel. Not travelling low.\n",
      "EV 4 started travelling at 12 and is in state: Travel\n",
      "EV 4 is travelling. Odometer: 10, Battery: 52.0\n",
      "EV 4  has travelled: 10 miles. State: Travel. Battery: 52.0 kWh\n",
      "EV 0 at CS 6 is in state: Charge, Battery: 36.0\n",
      "\n",
      "Current timestep (tick): 14.\n",
      "EV 1 is travelling. Odometer: 50, Battery: 54.0\n",
      "EV 1  has travelled: 50 miles. State: Travel. Battery: 54.0 kWh\n",
      "EV 2 started travelling at 13 and is in state: Travel\n",
      "EV 2 is travelling. Odometer: 10, Battery: 64.0\n",
      "EV 2  has travelled: 10 miles. State: Travel. Battery: 64.0 kWh\n",
      "EV 4 is travelling. Odometer: 20, Battery: 50.0\n",
      "EV 4  has travelled: 20 miles. State: Travel. Battery: 50.0 kWh\n",
      "EV 0 at CS 6 is in state: Charge, Battery: 43.5\n",
      "\n",
      "Current timestep (tick): 15.\n",
      "EV 1 is travelling. Odometer: 60, Battery: 52.0\n",
      "EV 1  has travelled: 60 miles. State: Travel. Battery: 52.0 kWh\n",
      "EV 2 is travelling. Odometer: 20, Battery: 62.0\n",
      "EV 2  has travelled: 20 miles. State: Travel. Battery: 62.0 kWh\n",
      "EV 4 is travelling. Odometer: 30, Battery: 48.0\n",
      "EV 4  has travelled: 30 miles. State: Travel. Battery: 48.0 kWh\n",
      "EV at Charge Station 6, CP 1 has exited.\n",
      "\n",
      "Current timestep (tick): 16.\n",
      "EV 0 is travelling. Odometer: 100, Battery: 33.5\n",
      "EV 0  has travelled: 100 miles. State: Travel. Battery: 33.5 kWh\n",
      "EV 1 is travelling. Odometer: 70, Battery: 50.0\n",
      "EV 1  has travelled: 70 miles. State: Travel. Battery: 50.0 kWh\n",
      "EV 2 is travelling. Odometer: 30, Battery: 60.0\n",
      "EV 2  has travelled: 30 miles. State: Travel. Battery: 60.0 kWh\n",
      "EV 4 is travelling. Odometer: 40, Battery: 46.0\n",
      "EV 4  has travelled: 40 miles. State: Travel. Battery: 46.0 kWh\n",
      "EV 4 has arrived at Charge Station but is in state: Travel. Not travelling low.\n",
      "\n",
      "Current timestep (tick): 17.\n",
      "EV 0 is travelling. Odometer: 120, Battery: 23.5\n",
      "EV 0  has travelled: 120 miles. State: Travel. Battery: 23.5 kWh\n",
      "EV 0 has arrived at Charge Station but is in state: Travel. Not travelling low.\n",
      "EV 1 is travelling. Odometer: 80, Battery: 48.0\n",
      "EV 1  has travelled: 80 miles. State: Travel. Battery: 48.0 kWh\n",
      "EV 1 has arrived at Charge Station but is in state: Travel. Not travelling low.\n",
      "EV 2 is travelling. Odometer: 40, Battery: 58.0\n",
      "EV 2  has travelled: 40 miles. State: Travel. Battery: 58.0 kWh\n",
      "EV 2 has arrived at Charge Station but is in state: Travel. Not travelling low.\n",
      "EV 4 is travelling. Odometer: 50, Battery: 44.0\n",
      "EV 4  has travelled: 50 miles. State: Travel. Battery: 44.0 kWh\n",
      "EV 0 has completed its journey. State: Idle. This EV has travelled: 120 miles. Battery: 23.5 kWh\n",
      "EV 2 has completed its journey. State: Idle. This EV has travelled: 40 miles. Battery: 58.0 kWh\n",
      "\n",
      "Current timestep (tick): 18.\n",
      "EV 1 is travelling. Odometer: 90, Battery: 46.0\n",
      "EV 1  has travelled: 90 miles. State: Travel. Battery: 46.0 kWh\n",
      "EV 4 is travelling. Odometer: 60, Battery: 42.0\n",
      "EV 4  has travelled: 60 miles. State: Travel. Battery: 42.0 kWh\n",
      "EV 1 has completed its journey. State: Idle. This EV has travelled: 90 miles. Battery: 46.0 kWh\n",
      "EV 4 has completed its journey. State: Idle. This EV has travelled: 60 miles. Battery: 42.0 kWh\n",
      "\n",
      "Current timestep (tick): 19.\n",
      "\n",
      "Current timestep (tick): 20.\n",
      "\n",
      "Current timestep (tick): 21.\n",
      "\n",
      "Current timestep (tick): 22.\n",
      "\n",
      "Current timestep (tick): 23.\n",
      "\n",
      "Current timestep (tick): 24.\n",
      "EV 0 Battery level at end of day: 23.5\n",
      "EV 1 Battery level at end of day: 46.0\n",
      "EV 2 Battery level at end of day: 58.0\n",
      "EV 3 Battery level at end of day: 2.0\n",
      "EV 4 Battery level at end of day: 42.0\n",
      "\n",
      "Current day: 1.\n",
      "This is the end of day: 1 \n",
      "\n",
      "EV 0 relaunch prep successful. New start time: 32\n",
      "\n",
      "EV info: ID: 0, destination name: City B, journey type: InterUrban, max_battery: 46, speed: 20, State: Idle.\n",
      "EV info (Cont'd): Start time: 32, distance goal: 80, energy consumption rate: 0.5, charge prop 0.4, location: City_D.\n",
      "\n",
      "EV 1 relaunch prep successful. New start time: 32\n",
      "\n",
      "EV info: ID: 1, destination name: work, journey type: Urban, max_battery: 64, speed: 10, State: Idle.\n",
      "EV info (Cont'd): Start time: 32, distance goal: 50, energy consumption rate: 0.2, charge prop 0.4, location: City_D.\n",
      "\n",
      "EV 2 relaunch prep successful. New start time: 36\n",
      "\n",
      "EV info: ID: 2, destination name: work, journey type: Urban, max_battery: 66, speed: 10, State: Idle.\n",
      "EV info (Cont'd): Start time: 36, distance goal: 50, energy consumption rate: 0.2, charge prop 0.4, location: City_D.\n",
      "\n",
      "EV 3 has been recharged to 52 by emergency services and is now in state: Idle. Charge prop: 0.5\n",
      "\n",
      "EV 3 relaunch prep successful. New start time: 30\n",
      "\n",
      "EV info: ID: 3, destination name: City C, journey type: InterUrban, max_battery: 52, speed: 20, State: Idle.\n",
      "EV info (Cont'd): Start time: 30, distance goal: 150, energy consumption rate: 0.5, charge prop 0.5, location: City_D.\n",
      "\n",
      "EV 4 relaunch prep successful. New start time: 34\n",
      "\n",
      "EV info: ID: 4, destination name: City A, journey type: InterUrban, max_battery: 54, speed: 10, State: Idle.\n",
      "EV info (Cont'd): Start time: 34, distance goal: 120, energy consumption rate: 0.2, charge prop 0.4, location: City_D.\n",
      "\n",
      "Current timestep (tick): 25.\n",
      "\n",
      "Current timestep (tick): 26.\n",
      "\n",
      "Current timestep (tick): 27.\n",
      "\n",
      "Current timestep (tick): 28.\n",
      "\n",
      "Current timestep (tick): 29.\n",
      "\n",
      "Current timestep (tick): 30.\n",
      "\n",
      "Current timestep (tick): 31.\n",
      "EV 3 started travelling at 30 and is in state: Travel\n",
      "EV 3 is travelling. Odometer: 20, Battery: 42.0\n",
      "EV 3  has travelled: 20 miles. State: Travel. Battery: 42.0 kWh\n",
      "\n",
      "Current timestep (tick): 32.\n",
      "EV 3 is travelling. Odometer: 40, Battery: 32.0\n",
      "EV 3  has travelled: 40 miles. State: Travel. Battery: 32.0 kWh\n",
      "EV 3 has arrived at Charge Station but is in state: Travel. Not travelling low.\n",
      "\n",
      "Current timestep (tick): 33.\n",
      "EV 0 started travelling at 32 and is in state: Travel\n",
      "EV 0 is travelling. Odometer: 20, Battery: 13.5\n",
      "EV 0  has travelled: 20 miles. State: Travel. Battery: 13.5 kWh\n",
      "EV 1 started travelling at 32 and is in state: Travel\n",
      "EV 1 is travelling. Odometer: 10, Battery: 44.0\n",
      "EV 1  has travelled: 10 miles. State: Travel. Battery: 44.0 kWh\n",
      "EV 3 is travelling. Odometer: 60, Battery: 22.0\n",
      "EV 3  has travelled: 60 miles. State: Travel. Battery: 22.0 kWh\n",
      "\n",
      "Current timestep (tick): 34.\n",
      "EV 0 is low on charge and is seeking a charge station. Current charge: 13.5 kWh\n",
      "EV 0 is travelling. Odometer: 40, Battery: 3.5\n",
      "EV 0 is low on battery and is at a station. Seeking charge queue. Current EV state: Travel_low\n",
      "EV 0 selected Charge Station: 5 for charging.\n",
      "Length of q1: 0. Length of q2: 0\n",
      "EV 0 selected queue 1 at Charge Station 5\n",
      "EV 1 is travelling. Odometer: 20, Battery: 42.0\n",
      "EV 1  has travelled: 20 miles. State: Travel. Battery: 42.0 kWh\n",
      "EV 3 is travelling. Odometer: 80, Battery: 12.0\n",
      "EV 3  has travelled: 80 miles. State: Travel. Battery: 12.0 kWh\n",
      "EV 3 has arrived at Charge Station but is in state: Travel. Not travelling low.\n",
      "EV 0 dequeued at CS 5 at Queue 1 and is in state: Charge\n",
      "Queue 1 size after dequeuing: 0\n",
      "EV 0 at CS 5 is in state: Charge, Battery: 11.0\n",
      "\n",
      "Current timestep (tick): 35.\n",
      "EV 1 is travelling. Odometer: 30, Battery: 40.0\n",
      "EV 1  has travelled: 30 miles. State: Travel. Battery: 40.0 kWh\n",
      "EV 3 is low on charge and is seeking a charge station. Current charge: 12.0 kWh\n",
      "EV 3 is travelling. Odometer: 100, Battery: 2.0\n",
      "EV 4 started travelling at 34 and is in state: Travel\n",
      "EV 4 is travelling. Odometer: 10, Battery: 40.0\n",
      "EV 4  has travelled: 10 miles. State: Travel. Battery: 40.0 kWh\n",
      "EV 3 is now in state: Battery_dead and is out of charge.\n",
      "EV 0 at CS 5 is in state: Charge, Battery: 18.5\n",
      "\n",
      "Current timestep (tick): 36.\n",
      "EV 1 is travelling. Odometer: 40, Battery: 38.0\n",
      "EV 1  has travelled: 40 miles. State: Travel. Battery: 38.0 kWh\n",
      "EV 1 has arrived at Charge Station but is in state: Travel. Not travelling low.\n",
      "EV 4 is travelling. Odometer: 20, Battery: 38.0\n",
      "EV 4  has travelled: 20 miles. State: Travel. Battery: 38.0 kWh\n",
      "EV 0 at CS 5 is in state: Charge, Battery: 26.0\n",
      "\n",
      "Current timestep (tick): 37.\n",
      "EV 1 is travelling. Odometer: 50, Battery: 36.0\n",
      "EV 1  has travelled: 50 miles. State: Travel. Battery: 36.0 kWh\n",
      "EV 2 started travelling at 36 and is in state: Travel\n",
      "EV 2 is travelling. Odometer: 10, Battery: 56.0\n",
      "EV 2  has travelled: 10 miles. State: Travel. Battery: 56.0 kWh\n",
      "EV 4 is travelling. Odometer: 30, Battery: 36.0\n",
      "EV 4  has travelled: 30 miles. State: Travel. Battery: 36.0 kWh\n",
      "EV 1 has completed its journey. State: Idle. This EV has travelled: 50 miles. Battery: 36.0 kWh\n",
      "EV 0 at CS 5 is in state: Charge, Battery: 33.5\n",
      "\n",
      "Current timestep (tick): 38.\n",
      "EV 2 is travelling. Odometer: 20, Battery: 54.0\n",
      "EV 2  has travelled: 20 miles. State: Travel. Battery: 54.0 kWh\n",
      "EV 4 is travelling. Odometer: 40, Battery: 34.0\n",
      "EV 4  has travelled: 40 miles. State: Travel. Battery: 34.0 kWh\n",
      "EV 4 has arrived at Charge Station but is in state: Travel. Not travelling low.\n",
      "EV 0 at CS 5 is in state: Charge, Battery: 41.0\n",
      "\n",
      "Current timestep (tick): 39.\n",
      "EV 2 is travelling. Odometer: 30, Battery: 52.0\n",
      "EV 2  has travelled: 30 miles. State: Travel. Battery: 52.0 kWh\n",
      "EV 4 is travelling. Odometer: 50, Battery: 32.0\n",
      "EV 4  has travelled: 50 miles. State: Travel. Battery: 32.0 kWh\n",
      "EV at Charge Station 5, CP 1 has exited.\n",
      "\n",
      "Current timestep (tick): 40.\n",
      "EV 0 is travelling. Odometer: 60, Battery: 31.0\n",
      "EV 0  has travelled: 60 miles. State: Travel. Battery: 31.0 kWh\n",
      "EV 2 is travelling. Odometer: 40, Battery: 50.0\n",
      "EV 2  has travelled: 40 miles. State: Travel. Battery: 50.0 kWh\n",
      "EV 2 has arrived at Charge Station but is in state: Travel. Not travelling low.\n",
      "EV 4 is travelling. Odometer: 60, Battery: 30.0\n",
      "EV 4  has travelled: 60 miles. State: Travel. Battery: 30.0 kWh\n",
      "\n",
      "Current timestep (tick): 41.\n",
      "EV 0 is travelling. Odometer: 80, Battery: 21.0\n",
      "EV 0  has travelled: 80 miles. State: Travel. Battery: 21.0 kWh\n",
      "EV 0 has arrived at Charge Station but is in state: Travel. Not travelling low.\n",
      "EV 2 is travelling. Odometer: 50, Battery: 48.0\n",
      "EV 2  has travelled: 50 miles. State: Travel. Battery: 48.0 kWh\n",
      "EV 4 is travelling. Odometer: 70, Battery: 28.0\n",
      "EV 4  has travelled: 70 miles. State: Travel. Battery: 28.0 kWh\n",
      "EV 0 has completed its journey. State: Idle. This EV has travelled: 80 miles. Battery: 21.0 kWh\n",
      "EV 2 has completed its journey. State: Idle. This EV has travelled: 50 miles. Battery: 48.0 kWh\n",
      "\n",
      "Current timestep (tick): 42.\n",
      "EV 4 is travelling. Odometer: 80, Battery: 26.0\n",
      "EV 4  has travelled: 80 miles. State: Travel. Battery: 26.0 kWh\n",
      "EV 4 has arrived at Charge Station but is in state: Travel. Not travelling low.\n",
      "\n",
      "Current timestep (tick): 43.\n",
      "EV 4 is travelling. Odometer: 90, Battery: 24.0\n",
      "EV 4  has travelled: 90 miles. State: Travel. Battery: 24.0 kWh\n",
      "\n",
      "Current timestep (tick): 44.\n",
      "EV 4 is travelling. Odometer: 100, Battery: 22.0\n",
      "EV 4  has travelled: 100 miles. State: Travel. Battery: 22.0 kWh\n",
      "\n",
      "Current timestep (tick): 45.\n",
      "EV 4 is travelling. Odometer: 110, Battery: 20.0\n",
      "EV 4  has travelled: 110 miles. State: Travel. Battery: 20.0 kWh\n",
      "\n",
      "Current timestep (tick): 46.\n",
      "EV 4 is low on charge and is seeking a charge station. Current charge: 20.0 kWh\n",
      "EV 4 is travelling. Odometer: 120, Battery: 18.0\n",
      "EV 4 is low on battery and is at a station. Seeking charge queue. Current EV state: Travel_low\n",
      "EV 4 selected Charge Station: 7 for charging.\n",
      "Length of q1: 0. Length of q2: 0\n",
      "EV 4 selected queue 1 at Charge Station 7\n",
      "EV 4 dequeued at CS 7 at Queue 1 and is in state: Charge\n",
      "Queue 1 size after dequeuing: 0\n",
      "EV 4 at CS 7 is in state: Charge, Battery: 25.5\n",
      "\n",
      "Current timestep (tick): 47.\n",
      "EV 4 at CS 7 is in state: Charge, Battery: 33.0\n",
      "\n",
      "Current timestep (tick): 48.\n",
      "EV 4 at CS 7 is in state: Charge, Battery: 40.5\n",
      "EV 0 Battery level at end of day: 21.0\n",
      "EV 1 Battery level at end of day: 36.0\n",
      "EV 2 Battery level at end of day: 48.0\n",
      "EV 3 Battery level at end of day: 2.0\n",
      "EV 4 Battery level at end of day: 40.5\n",
      "\n",
      "Current day: 2.\n",
      "This is the end of day: 2 \n",
      "\n",
      "EV 0 relaunch prep successful. New start time: 58\n",
      "\n",
      "EV info: ID: 0, destination name: City B, journey type: InterUrban, max_battery: 46, speed: 20, State: Idle.\n",
      "EV info (Cont'd): Start time: 58, distance goal: 80, energy consumption rate: 0.5, charge prop 0.4, location: City_D.\n",
      "\n",
      "EV 1 relaunch prep successful. New start time: 62\n",
      "\n",
      "EV info: ID: 1, destination name: City C, journey type: InterUrban, max_battery: 64, speed: 10, State: Idle.\n",
      "EV info (Cont'd): Start time: 62, distance goal: 150, energy consumption rate: 0.2, charge prop 0.4, location: City_D.\n",
      "\n",
      "EV 2 relaunch prep successful. New start time: 62\n",
      "\n",
      "EV info: ID: 2, destination name: City B, journey type: InterUrban, max_battery: 66, speed: 10, State: Idle.\n",
      "EV info (Cont'd): Start time: 62, distance goal: 80, energy consumption rate: 0.2, charge prop 0.4, location: City_D.\n",
      "\n",
      "EV 3 has been recharged to 52 by emergency services and is now in state: Idle. Charge prop: 0.6\n",
      "\n",
      "EV 3 relaunch prep successful. New start time: 55\n",
      "\n",
      "EV info: ID: 3, destination name: friend_2, journey type: Urban, max_battery: 52, speed: 20, State: Idle.\n",
      "EV info (Cont'd): Start time: 55, distance goal: 90, energy consumption rate: 0.5, charge prop 0.6, location: City_D.\n"
     ]
    }
   ],
   "source": [
    "model_run = model.EVModel(ticks=ticks, no_evs=no_evs, no_css=no_css)\n",
    "for i in range(ticks):\n",
    "    model_run.step()"
   ]
  },
  {
   "cell_type": "code",
   "execution_count": 6,
   "metadata": {},
   "outputs": [
    {
     "name": "stdout",
     "output_type": "stream",
     "text": [
      "    EVs Charging  EVs Activated  EVs Travelling  EVs Queued  EVs Dead  \\\n",
      "0              0              5               0           0         0   \n",
      "1              0              5               0           0         0   \n",
      "2              0              5               0           0         0   \n",
      "3              0              5               0           0         0   \n",
      "4              0              5               0           0         0   \n",
      "5              0              5               0           0         0   \n",
      "6              0              5               2           0         0   \n",
      "7              0              5               2           0         0   \n",
      "8              0              5               2           0         0   \n",
      "9              1              5               2           0         0   \n",
      "10             1              5               1           0         1   \n",
      "11             1              5               1           0         1   \n",
      "12             1              5               2           0         1   \n",
      "13             1              5               3           0         1   \n",
      "14             0              5               4           0         1   \n",
      "15             0              5               4           0         1   \n",
      "16             0              5               2           0         1   \n",
      "17             0              5               0           0         1   \n",
      "18             0              5               0           0         1   \n",
      "19             0              5               0           0         1   \n",
      "20             0              5               0           0         1   \n",
      "21             0              5               0           0         1   \n",
      "22             0              5               0           0         1   \n",
      "23             0              5               0           0         1   \n",
      "24             0              5               0           0         0   \n",
      "25             0              5               0           0         0   \n",
      "26             0              5               0           0         0   \n",
      "27             0              5               0           0         0   \n",
      "28             0              5               0           0         0   \n",
      "29             0              5               0           0         0   \n",
      "30             0              5               1           0         0   \n",
      "31             0              5               1           0         0   \n",
      "32             0              5               3           0         0   \n",
      "33             1              5               2           0         0   \n",
      "34             1              5               2           0         1   \n",
      "35             1              5               2           0         1   \n",
      "36             1              5               2           0         1   \n",
      "37             1              5               2           0         1   \n",
      "38             0              5               3           0         1   \n",
      "39             0              5               3           0         1   \n",
      "40             0              5               1           0         1   \n",
      "41             0              5               1           0         1   \n",
      "42             0              5               1           0         1   \n",
      "43             0              5               1           0         1   \n",
      "44             0              5               1           0         1   \n",
      "45             1              5               0           0         1   \n",
      "46             1              5               0           0         1   \n",
      "47             1              5               0           0         1   \n",
      "\n",
      "                  EVs Charge Level      EVs Charge Propensity  EVs Not Idle  \\\n",
      "0             [46, 64, 66, 52, 54]  [0.4, 0.4, 0.4, 0.4, 0.4]             0   \n",
      "1             [46, 64, 66, 52, 54]  [0.4, 0.4, 0.4, 0.4, 0.4]             0   \n",
      "2             [46, 64, 66, 52, 54]  [0.4, 0.4, 0.4, 0.4, 0.4]             0   \n",
      "3             [46, 64, 66, 52, 54]  [0.4, 0.4, 0.4, 0.4, 0.4]             0   \n",
      "4             [46, 64, 66, 52, 54]  [0.4, 0.4, 0.4, 0.4, 0.4]             0   \n",
      "5             [46, 64, 66, 52, 54]  [0.4, 0.4, 0.4, 0.4, 0.4]             0   \n",
      "6         [36.0, 64, 66, 42.0, 54]  [0.4, 0.4, 0.4, 0.4, 0.4]             2   \n",
      "7         [26.0, 64, 66, 32.0, 54]  [0.4, 0.4, 0.4, 0.4, 0.4]             2   \n",
      "8         [16.0, 64, 66, 22.0, 54]  [0.4, 0.4, 0.4, 0.4, 0.4]             2   \n",
      "9       [13.5, 62.0, 66, 12.0, 54]  [0.4, 0.4, 0.4, 0.4, 0.4]             3   \n",
      "10       [21.0, 60.0, 66, 2.0, 54]  [0.4, 0.4, 0.4, 0.4, 0.4]             3   \n",
      "11       [28.5, 58.0, 66, 2.0, 54]  [0.4, 0.4, 0.4, 0.4, 0.4]             3   \n",
      "12     [36.0, 56.0, 66, 2.0, 52.0]  [0.4, 0.4, 0.4, 0.4, 0.4]             4   \n",
      "13   [43.5, 54.0, 64.0, 2.0, 50.0]  [0.4, 0.4, 0.4, 0.4, 0.4]             5   \n",
      "14   [43.5, 52.0, 62.0, 2.0, 48.0]  [0.4, 0.4, 0.4, 0.4, 0.4]             5   \n",
      "15   [33.5, 50.0, 60.0, 2.0, 46.0]  [0.4, 0.4, 0.4, 0.4, 0.4]             5   \n",
      "16   [23.5, 48.0, 58.0, 2.0, 44.0]  [0.4, 0.4, 0.4, 0.4, 0.4]             3   \n",
      "17   [23.5, 46.0, 58.0, 2.0, 42.0]  [0.4, 0.4, 0.4, 0.4, 0.4]             1   \n",
      "18   [23.5, 46.0, 58.0, 2.0, 42.0]  [0.4, 0.4, 0.4, 0.4, 0.4]             1   \n",
      "19   [23.5, 46.0, 58.0, 2.0, 42.0]  [0.4, 0.4, 0.4, 0.4, 0.4]             1   \n",
      "20   [23.5, 46.0, 58.0, 2.0, 42.0]  [0.4, 0.4, 0.4, 0.4, 0.4]             1   \n",
      "21   [23.5, 46.0, 58.0, 2.0, 42.0]  [0.4, 0.4, 0.4, 0.4, 0.4]             1   \n",
      "22   [23.5, 46.0, 58.0, 2.0, 42.0]  [0.4, 0.4, 0.4, 0.4, 0.4]             1   \n",
      "23   [23.5, 46.0, 58.0, 2.0, 42.0]  [0.4, 0.4, 0.4, 0.4, 0.4]             1   \n",
      "24    [23.5, 46.0, 58.0, 52, 42.0]  [0.4, 0.4, 0.4, 0.5, 0.4]             0   \n",
      "25    [23.5, 46.0, 58.0, 52, 42.0]  [0.4, 0.4, 0.4, 0.5, 0.4]             0   \n",
      "26    [23.5, 46.0, 58.0, 52, 42.0]  [0.4, 0.4, 0.4, 0.5, 0.4]             0   \n",
      "27    [23.5, 46.0, 58.0, 52, 42.0]  [0.4, 0.4, 0.4, 0.5, 0.4]             0   \n",
      "28    [23.5, 46.0, 58.0, 52, 42.0]  [0.4, 0.4, 0.4, 0.5, 0.4]             0   \n",
      "29    [23.5, 46.0, 58.0, 52, 42.0]  [0.4, 0.4, 0.4, 0.5, 0.4]             0   \n",
      "30  [23.5, 46.0, 58.0, 42.0, 42.0]  [0.4, 0.4, 0.4, 0.5, 0.4]             1   \n",
      "31  [23.5, 46.0, 58.0, 32.0, 42.0]  [0.4, 0.4, 0.4, 0.5, 0.4]             1   \n",
      "32  [13.5, 44.0, 58.0, 22.0, 42.0]  [0.4, 0.4, 0.4, 0.5, 0.4]             3   \n",
      "33  [11.0, 42.0, 58.0, 12.0, 42.0]  [0.4, 0.4, 0.4, 0.5, 0.4]             3   \n",
      "34   [18.5, 40.0, 58.0, 2.0, 40.0]  [0.4, 0.4, 0.4, 0.5, 0.4]             4   \n",
      "35   [26.0, 38.0, 58.0, 2.0, 38.0]  [0.4, 0.4, 0.4, 0.5, 0.4]             4   \n",
      "36   [33.5, 36.0, 56.0, 2.0, 36.0]  [0.4, 0.4, 0.4, 0.5, 0.4]             4   \n",
      "37   [41.0, 36.0, 54.0, 2.0, 34.0]  [0.4, 0.4, 0.4, 0.5, 0.4]             4   \n",
      "38   [41.0, 36.0, 52.0, 2.0, 32.0]  [0.4, 0.4, 0.4, 0.5, 0.4]             4   \n",
      "39   [31.0, 36.0, 50.0, 2.0, 30.0]  [0.4, 0.4, 0.4, 0.5, 0.4]             4   \n",
      "40   [21.0, 36.0, 48.0, 2.0, 28.0]  [0.4, 0.4, 0.4, 0.5, 0.4]             2   \n",
      "41   [21.0, 36.0, 48.0, 2.0, 26.0]  [0.4, 0.4, 0.4, 0.5, 0.4]             2   \n",
      "42   [21.0, 36.0, 48.0, 2.0, 24.0]  [0.4, 0.4, 0.4, 0.5, 0.4]             2   \n",
      "43   [21.0, 36.0, 48.0, 2.0, 22.0]  [0.4, 0.4, 0.4, 0.5, 0.4]             2   \n",
      "44   [21.0, 36.0, 48.0, 2.0, 20.0]  [0.4, 0.4, 0.4, 0.5, 0.4]             2   \n",
      "45   [21.0, 36.0, 48.0, 2.0, 25.5]  [0.4, 0.4, 0.4, 0.5, 0.4]             2   \n",
      "46   [21.0, 36.0, 48.0, 2.0, 33.0]  [0.4, 0.4, 0.4, 0.5, 0.4]             2   \n",
      "47   [21.0, 36.0, 48.0, 2.0, 40.5]  [0.4, 0.4, 0.4, 0.5, 0.4]             2   \n",
      "\n",
      "                                  EVs EOD Battery SOC  \\\n",
      "0   [[23.5, 21.0], [46.0, 36.0], [58.0, 48.0], [2....   \n",
      "1   [[23.5, 21.0], [46.0, 36.0], [58.0, 48.0], [2....   \n",
      "2   [[23.5, 21.0], [46.0, 36.0], [58.0, 48.0], [2....   \n",
      "3   [[23.5, 21.0], [46.0, 36.0], [58.0, 48.0], [2....   \n",
      "4   [[23.5, 21.0], [46.0, 36.0], [58.0, 48.0], [2....   \n",
      "5   [[23.5, 21.0], [46.0, 36.0], [58.0, 48.0], [2....   \n",
      "6   [[23.5, 21.0], [46.0, 36.0], [58.0, 48.0], [2....   \n",
      "7   [[23.5, 21.0], [46.0, 36.0], [58.0, 48.0], [2....   \n",
      "8   [[23.5, 21.0], [46.0, 36.0], [58.0, 48.0], [2....   \n",
      "9   [[23.5, 21.0], [46.0, 36.0], [58.0, 48.0], [2....   \n",
      "10  [[23.5, 21.0], [46.0, 36.0], [58.0, 48.0], [2....   \n",
      "11  [[23.5, 21.0], [46.0, 36.0], [58.0, 48.0], [2....   \n",
      "12  [[23.5, 21.0], [46.0, 36.0], [58.0, 48.0], [2....   \n",
      "13  [[23.5, 21.0], [46.0, 36.0], [58.0, 48.0], [2....   \n",
      "14  [[23.5, 21.0], [46.0, 36.0], [58.0, 48.0], [2....   \n",
      "15  [[23.5, 21.0], [46.0, 36.0], [58.0, 48.0], [2....   \n",
      "16  [[23.5, 21.0], [46.0, 36.0], [58.0, 48.0], [2....   \n",
      "17  [[23.5, 21.0], [46.0, 36.0], [58.0, 48.0], [2....   \n",
      "18  [[23.5, 21.0], [46.0, 36.0], [58.0, 48.0], [2....   \n",
      "19  [[23.5, 21.0], [46.0, 36.0], [58.0, 48.0], [2....   \n",
      "20  [[23.5, 21.0], [46.0, 36.0], [58.0, 48.0], [2....   \n",
      "21  [[23.5, 21.0], [46.0, 36.0], [58.0, 48.0], [2....   \n",
      "22  [[23.5, 21.0], [46.0, 36.0], [58.0, 48.0], [2....   \n",
      "23  [[23.5, 21.0], [46.0, 36.0], [58.0, 48.0], [2....   \n",
      "24  [[23.5, 21.0], [46.0, 36.0], [58.0, 48.0], [2....   \n",
      "25  [[23.5, 21.0], [46.0, 36.0], [58.0, 48.0], [2....   \n",
      "26  [[23.5, 21.0], [46.0, 36.0], [58.0, 48.0], [2....   \n",
      "27  [[23.5, 21.0], [46.0, 36.0], [58.0, 48.0], [2....   \n",
      "28  [[23.5, 21.0], [46.0, 36.0], [58.0, 48.0], [2....   \n",
      "29  [[23.5, 21.0], [46.0, 36.0], [58.0, 48.0], [2....   \n",
      "30  [[23.5, 21.0], [46.0, 36.0], [58.0, 48.0], [2....   \n",
      "31  [[23.5, 21.0], [46.0, 36.0], [58.0, 48.0], [2....   \n",
      "32  [[23.5, 21.0], [46.0, 36.0], [58.0, 48.0], [2....   \n",
      "33  [[23.5, 21.0], [46.0, 36.0], [58.0, 48.0], [2....   \n",
      "34  [[23.5, 21.0], [46.0, 36.0], [58.0, 48.0], [2....   \n",
      "35  [[23.5, 21.0], [46.0, 36.0], [58.0, 48.0], [2....   \n",
      "36  [[23.5, 21.0], [46.0, 36.0], [58.0, 48.0], [2....   \n",
      "37  [[23.5, 21.0], [46.0, 36.0], [58.0, 48.0], [2....   \n",
      "38  [[23.5, 21.0], [46.0, 36.0], [58.0, 48.0], [2....   \n",
      "39  [[23.5, 21.0], [46.0, 36.0], [58.0, 48.0], [2....   \n",
      "40  [[23.5, 21.0], [46.0, 36.0], [58.0, 48.0], [2....   \n",
      "41  [[23.5, 21.0], [46.0, 36.0], [58.0, 48.0], [2....   \n",
      "42  [[23.5, 21.0], [46.0, 36.0], [58.0, 48.0], [2....   \n",
      "43  [[23.5, 21.0], [46.0, 36.0], [58.0, 48.0], [2....   \n",
      "44  [[23.5, 21.0], [46.0, 36.0], [58.0, 48.0], [2....   \n",
      "45  [[23.5, 21.0], [46.0, 36.0], [58.0, 48.0], [2....   \n",
      "46  [[23.5, 21.0], [46.0, 36.0], [58.0, 48.0], [2....   \n",
      "47  [[23.5, 21.0], [46.0, 36.0], [58.0, 48.0], [2....   \n",
      "\n",
      "                                EVs Destinations  EVs at Charging Station - S  \\\n",
      "0   [City A, friend_2, market, City A, autoshop]                            0   \n",
      "1   [City A, friend_2, market, City A, autoshop]                            0   \n",
      "2   [City A, friend_2, market, City A, autoshop]                            0   \n",
      "3   [City A, friend_2, market, City A, autoshop]                            0   \n",
      "4   [City A, friend_2, market, City A, autoshop]                            0   \n",
      "5   [City A, friend_2, market, City A, autoshop]                            0   \n",
      "6   [City A, friend_2, market, City A, autoshop]                            0   \n",
      "7   [City A, friend_2, market, City A, autoshop]                            0   \n",
      "8   [City A, friend_2, market, City A, autoshop]                            0   \n",
      "9   [City A, friend_2, market, City A, autoshop]                            1   \n",
      "10  [City A, friend_2, market, City A, autoshop]                            1   \n",
      "11  [City A, friend_2, market, City A, autoshop]                            1   \n",
      "12  [City A, friend_2, market, City A, autoshop]                            1   \n",
      "13  [City A, friend_2, market, City A, autoshop]                            1   \n",
      "14  [City A, friend_2, market, City A, autoshop]                            0   \n",
      "15  [City A, friend_2, market, City A, autoshop]                            0   \n",
      "16  [City A, friend_2, market, City A, autoshop]                            0   \n",
      "17  [City A, friend_2, market, City A, autoshop]                            0   \n",
      "18  [City A, friend_2, market, City A, autoshop]                            0   \n",
      "19  [City A, friend_2, market, City A, autoshop]                            0   \n",
      "20  [City A, friend_2, market, City A, autoshop]                            0   \n",
      "21  [City A, friend_2, market, City A, autoshop]                            0   \n",
      "22  [City A, friend_2, market, City A, autoshop]                            0   \n",
      "23  [City A, friend_2, market, City A, autoshop]                            0   \n",
      "24          [City B, work, work, City C, City A]                            0   \n",
      "25          [City B, work, work, City C, City A]                            0   \n",
      "26          [City B, work, work, City C, City A]                            0   \n",
      "27          [City B, work, work, City C, City A]                            0   \n",
      "28          [City B, work, work, City C, City A]                            0   \n",
      "29          [City B, work, work, City C, City A]                            0   \n",
      "30          [City B, work, work, City C, City A]                            0   \n",
      "31          [City B, work, work, City C, City A]                            0   \n",
      "32          [City B, work, work, City C, City A]                            0   \n",
      "33          [City B, work, work, City C, City A]                            1   \n",
      "34          [City B, work, work, City C, City A]                            1   \n",
      "35          [City B, work, work, City C, City A]                            1   \n",
      "36          [City B, work, work, City C, City A]                            1   \n",
      "37          [City B, work, work, City C, City A]                            1   \n",
      "38          [City B, work, work, City C, City A]                            0   \n",
      "39          [City B, work, work, City C, City A]                            0   \n",
      "40          [City B, work, work, City C, City A]                            0   \n",
      "41          [City B, work, work, City C, City A]                            0   \n",
      "42          [City B, work, work, City C, City A]                            0   \n",
      "43          [City B, work, work, City C, City A]                            0   \n",
      "44          [City B, work, work, City C, City A]                            0   \n",
      "45          [City B, work, work, City C, City A]                            1   \n",
      "46          [City B, work, work, City C, City A]                            1   \n",
      "47          [City B, work, work, City C, City A]                            1   \n",
      "\n",
      "   Length of Queue 1 at Charging Stations  \\\n",
      "0                         [0, 0, 0, 0, 0]   \n",
      "1                         [0, 0, 0, 0, 0]   \n",
      "2                         [0, 0, 0, 0, 0]   \n",
      "3                         [0, 0, 0, 0, 0]   \n",
      "4                         [0, 0, 0, 0, 0]   \n",
      "5                         [0, 0, 0, 0, 0]   \n",
      "6                         [0, 0, 0, 0, 0]   \n",
      "7                         [0, 0, 0, 0, 0]   \n",
      "8                         [0, 0, 0, 0, 0]   \n",
      "9                         [0, 0, 0, 0, 0]   \n",
      "10                        [0, 0, 0, 0, 0]   \n",
      "11                        [0, 0, 0, 0, 0]   \n",
      "12                        [0, 0, 0, 0, 0]   \n",
      "13                        [0, 0, 0, 0, 0]   \n",
      "14                        [0, 0, 0, 0, 0]   \n",
      "15                        [0, 0, 0, 0, 0]   \n",
      "16                        [0, 0, 0, 0, 0]   \n",
      "17                        [0, 0, 0, 0, 0]   \n",
      "18                        [0, 0, 0, 0, 0]   \n",
      "19                        [0, 0, 0, 0, 0]   \n",
      "20                        [0, 0, 0, 0, 0]   \n",
      "21                        [0, 0, 0, 0, 0]   \n",
      "22                        [0, 0, 0, 0, 0]   \n",
      "23                        [0, 0, 0, 0, 0]   \n",
      "24                        [0, 0, 0, 0, 0]   \n",
      "25                        [0, 0, 0, 0, 0]   \n",
      "26                        [0, 0, 0, 0, 0]   \n",
      "27                        [0, 0, 0, 0, 0]   \n",
      "28                        [0, 0, 0, 0, 0]   \n",
      "29                        [0, 0, 0, 0, 0]   \n",
      "30                        [0, 0, 0, 0, 0]   \n",
      "31                        [0, 0, 0, 0, 0]   \n",
      "32                        [0, 0, 0, 0, 0]   \n",
      "33                        [0, 0, 0, 0, 0]   \n",
      "34                        [0, 0, 0, 0, 0]   \n",
      "35                        [0, 0, 0, 0, 0]   \n",
      "36                        [0, 0, 0, 0, 0]   \n",
      "37                        [0, 0, 0, 0, 0]   \n",
      "38                        [0, 0, 0, 0, 0]   \n",
      "39                        [0, 0, 0, 0, 0]   \n",
      "40                        [0, 0, 0, 0, 0]   \n",
      "41                        [0, 0, 0, 0, 0]   \n",
      "42                        [0, 0, 0, 0, 0]   \n",
      "43                        [0, 0, 0, 0, 0]   \n",
      "44                        [0, 0, 0, 0, 0]   \n",
      "45                        [0, 0, 0, 0, 0]   \n",
      "46                        [0, 0, 0, 0, 0]   \n",
      "47                        [0, 0, 0, 0, 0]   \n",
      "\n",
      "   Length of Queue 2 at Charging Stations EVs at Charging Stations  \n",
      "0                         [0, 0, 0, 0, 0]                     None  \n",
      "1                         [0, 0, 0, 0, 0]                     None  \n",
      "2                         [0, 0, 0, 0, 0]                     None  \n",
      "3                         [0, 0, 0, 0, 0]                     None  \n",
      "4                         [0, 0, 0, 0, 0]                     None  \n",
      "5                         [0, 0, 0, 0, 0]                     None  \n",
      "6                         [0, 0, 0, 0, 0]                     None  \n",
      "7                         [0, 0, 0, 0, 0]                     None  \n",
      "8                         [0, 0, 0, 0, 0]                     None  \n",
      "9                         [0, 0, 0, 0, 0]                     None  \n",
      "10                        [0, 0, 0, 0, 0]                     None  \n",
      "11                        [0, 0, 0, 0, 0]                     None  \n",
      "12                        [0, 0, 0, 0, 0]                     None  \n",
      "13                        [0, 0, 0, 0, 0]                     None  \n",
      "14                        [0, 0, 0, 0, 0]                     None  \n",
      "15                        [0, 0, 0, 0, 0]                     None  \n",
      "16                        [0, 0, 0, 0, 0]                     None  \n",
      "17                        [0, 0, 0, 0, 0]                     None  \n",
      "18                        [0, 0, 0, 0, 0]                     None  \n",
      "19                        [0, 0, 0, 0, 0]                     None  \n",
      "20                        [0, 0, 0, 0, 0]                     None  \n",
      "21                        [0, 0, 0, 0, 0]                     None  \n",
      "22                        [0, 0, 0, 0, 0]                     None  \n",
      "23                        [0, 0, 0, 0, 0]                     None  \n",
      "24                        [0, 0, 0, 0, 0]                     None  \n",
      "25                        [0, 0, 0, 0, 0]                     None  \n",
      "26                        [0, 0, 0, 0, 0]                     None  \n",
      "27                        [0, 0, 0, 0, 0]                     None  \n",
      "28                        [0, 0, 0, 0, 0]                     None  \n",
      "29                        [0, 0, 0, 0, 0]                     None  \n",
      "30                        [0, 0, 0, 0, 0]                     None  \n",
      "31                        [0, 0, 0, 0, 0]                     None  \n",
      "32                        [0, 0, 0, 0, 0]                     None  \n",
      "33                        [0, 0, 0, 0, 0]                     None  \n",
      "34                        [0, 0, 0, 0, 0]                     None  \n",
      "35                        [0, 0, 0, 0, 0]                     None  \n",
      "36                        [0, 0, 0, 0, 0]                     None  \n",
      "37                        [0, 0, 0, 0, 0]                     None  \n",
      "38                        [0, 0, 0, 0, 0]                     None  \n",
      "39                        [0, 0, 0, 0, 0]                     None  \n",
      "40                        [0, 0, 0, 0, 0]                     None  \n",
      "41                        [0, 0, 0, 0, 0]                     None  \n",
      "42                        [0, 0, 0, 0, 0]                     None  \n",
      "43                        [0, 0, 0, 0, 0]                     None  \n",
      "44                        [0, 0, 0, 0, 0]                     None  \n",
      "45                        [0, 0, 0, 0, 0]                     None  \n",
      "46                        [0, 0, 0, 0, 0]                     None  \n",
      "47                        [0, 0, 0, 0, 0]                     None  \n"
     ]
    }
   ],
   "source": [
    "run_stats = model_run.datacollector.get_model_vars_dataframe()\n",
    "print(run_stats)"
   ]
  },
  {
   "cell_type": "code",
   "execution_count": null,
   "metadata": {},
   "outputs": [],
   "source": [
    "a = 26 % 24\n",
    "print(a) "
   ]
  },
  {
   "attachments": {},
   "cell_type": "markdown",
   "metadata": {},
   "source": [
    "Export results to CSV file"
   ]
  },
  {
   "cell_type": "code",
   "execution_count": 7,
   "metadata": {},
   "outputs": [],
   "source": [
    "model_run.datacollector.get_model_vars_dataframe().to_csv('06_03_5EV_agent_model_output.csv')"
   ]
  },
  {
   "cell_type": "code",
   "execution_count": null,
   "metadata": {},
   "outputs": [],
   "source": [
    "# def unpack_datacollector(dc):\n",
    "#     \"\"\"\n",
    "#     Unpacks the data from a DataCollector instance in Mesa.\n",
    "    \n",
    "#     Args:\n",
    "#         dc (DataCollector): A DataCollector instance in Mesa.\n",
    "    \n",
    "#     Returns:\n",
    "#         A dictionary with the keys as the variable names and the values as the lists of data for each variable.\n",
    "#     \"\"\"\n",
    "#     data = {}\n",
    "#     for varname, var in dc.model_vars.items():\n",
    "#         data[varname] = var.get_data()\n",
    "#     return data"
   ]
  },
  {
   "attachments": {},
   "cell_type": "markdown",
   "metadata": {},
   "source": [
    "### Data import and preprocessing"
   ]
  },
  {
   "attachments": {},
   "cell_type": "markdown",
   "metadata": {},
   "source": [
    "Helper functions. May eventually move to external module"
   ]
  },
  {
   "cell_type": "code",
   "execution_count": 9,
   "metadata": {},
   "outputs": [],
   "source": [
    "def split_column_values(df, col_name):\n",
    "    \"\"\"\n",
    "    Splits the values in a column by commas and creates a new column for each value.\n",
    "\n",
    "    Args:\n",
    "        df (pandas.DataFrame): A pandas DataFrame.\n",
    "        col_name (str): The name of the column to split.\n",
    "\n",
    "    Returns:\n",
    "        A pandas DataFrame with additional columns for each value in the input column.\n",
    "    \"\"\"\n",
    "    # Get the unique values in the column\n",
    "    unique_values = set(df[col_name].str.cat(sep=',').split(','))\n",
    "\n",
    "    # Create a new column for each unique value\n",
    "    for value in unique_values:\n",
    "        df[value] = df[col_name].str.contains(value).astype(int)\n",
    "\n",
    "    # Drop the original column\n",
    "    df.drop(col_name, axis=1, inplace=True)\n",
    "\n",
    "    return df\n",
    "\n",
    "\n",
    "def unpack_and_join(df, column_name):\n",
    "    \"\"\"\n",
    "    Unpacks the values in a column by commas and creates a new column for each value. Removes square brackets from the values.\n",
    "\n",
    "    Args:\n",
    "        df (pandas.DataFrame): A pandas DataFrame.\n",
    "        column_name (str): The name of the column to unpack.\n",
    "\n",
    "    Returns:\n",
    "        A pandas DataFrame with additional columns for each value in the input column.\n",
    "        \n",
    "    \"\"\"\n",
    "    # Get the column values as a list of strings\n",
    "    column_values = df[column_name].tolist()\n",
    "\n",
    "    # Strip the square brackets from the strings\n",
    "    column_values = [s.strip(\"[]\") for s in column_values]\n",
    "\n",
    "    # Split the strings on commas and create a list of lists\n",
    "    split_values = [s.split(\",\") for s in column_values]\n",
    "\n",
    "    # Get the number of columns needed\n",
    "    num_cols = max([len(row) for row in split_values])\n",
    "\n",
    "    # Create the new columns in the output dataframe\n",
    "    column_names = [column_name+\"_unpacked_\"+str(i) for i in range(num_cols)]\n",
    "    new_df = pd.DataFrame(columns=column_names)\n",
    "\n",
    "    # Loop over the original column values and add the unpacked values to the new dataframe\n",
    "    for vals in split_values:\n",
    "        row_data = {}\n",
    "        for i in range(num_cols):\n",
    "            if i < len(vals):\n",
    "                row_data[column_name+\"_unpacked_\"+str(i)] = vals[i].strip()\n",
    "            else:\n",
    "                row_data[column_name+\"_unpacked_\"+str(i)] = \"\"\n",
    "        new_df = new_df.append(row_data, ignore_index=True)\n",
    "\n",
    "    # Merge the original dataframe with the new unpacked dataframe\n",
    "    merged_df = pd.concat([df, new_df], axis=1)\n",
    "\n",
    "    return merged_df\n"
   ]
  },
  {
   "attachments": {},
   "cell_type": "markdown",
   "metadata": {},
   "source": [
    "Data import"
   ]
  },
  {
   "cell_type": "code",
   "execution_count": 39,
   "metadata": {},
   "outputs": [],
   "source": [
    "data = pd.read_csv('06_03_5EV_agent_model_output.csv')"
   ]
  },
  {
   "cell_type": "code",
   "execution_count": 40,
   "metadata": {},
   "outputs": [
    {
     "name": "stdout",
     "output_type": "stream",
     "text": [
      "<class 'pandas.core.frame.DataFrame'>\n",
      "RangeIndex: 48 entries, 0 to 47\n",
      "Data columns (total 15 columns):\n",
      " #   Column                                  Non-Null Count  Dtype  \n",
      "---  ------                                  --------------  -----  \n",
      " 0   Unnamed: 0                              48 non-null     int64  \n",
      " 1   EVs Charging                            48 non-null     int64  \n",
      " 2   EVs Activated                           48 non-null     int64  \n",
      " 3   EVs Travelling                          48 non-null     int64  \n",
      " 4   EVs Queued                              48 non-null     int64  \n",
      " 5   EVs Dead                                48 non-null     int64  \n",
      " 6   EVs Charge Level                        48 non-null     object \n",
      " 7   EVs Charge Propensity                   48 non-null     object \n",
      " 8   EVs Not Idle                            48 non-null     int64  \n",
      " 9   EVs EOD Battery SOC                     48 non-null     object \n",
      " 10  EVs Destinations                        48 non-null     object \n",
      " 11  EVs at Charging Station - S             48 non-null     int64  \n",
      " 12  Length of Queue 1 at Charging Stations  48 non-null     object \n",
      " 13  Length of Queue 2 at Charging Stations  48 non-null     object \n",
      " 14  EVs at Charging Stations                0 non-null      float64\n",
      "dtypes: float64(1), int64(8), object(6)\n",
      "memory usage: 5.8+ KB\n"
     ]
    }
   ],
   "source": [
    "data.info()\n",
    "# data.head()"
   ]
  },
  {
   "cell_type": "code",
   "execution_count": 42,
   "metadata": {},
   "outputs": [],
   "source": [
    "a = unpack_and_join(data, 'EVs Charge Level')\n",
    "# print(a)"
   ]
  },
  {
   "cell_type": "code",
   "execution_count": 43,
   "metadata": {},
   "outputs": [
    {
     "data": {
      "text/html": [
       "<div>\n",
       "<style scoped>\n",
       "    .dataframe tbody tr th:only-of-type {\n",
       "        vertical-align: middle;\n",
       "    }\n",
       "\n",
       "    .dataframe tbody tr th {\n",
       "        vertical-align: top;\n",
       "    }\n",
       "\n",
       "    .dataframe thead th {\n",
       "        text-align: right;\n",
       "    }\n",
       "</style>\n",
       "<table border=\"1\" class=\"dataframe\">\n",
       "  <thead>\n",
       "    <tr style=\"text-align: right;\">\n",
       "      <th></th>\n",
       "      <th>EVs Charge Level</th>\n",
       "      <th>EVs Charge Level_unpacked_0</th>\n",
       "      <th>EVs Charge Level_unpacked_1</th>\n",
       "      <th>EVs Charge Level_unpacked_2</th>\n",
       "      <th>EVs Charge Level_unpacked_3</th>\n",
       "      <th>EVs Charge Level_unpacked_4</th>\n",
       "    </tr>\n",
       "  </thead>\n",
       "  <tbody>\n",
       "    <tr>\n",
       "      <th>0</th>\n",
       "      <td>[46, 64, 66, 52, 54]</td>\n",
       "      <td>46</td>\n",
       "      <td>64</td>\n",
       "      <td>66</td>\n",
       "      <td>52</td>\n",
       "      <td>54</td>\n",
       "    </tr>\n",
       "    <tr>\n",
       "      <th>1</th>\n",
       "      <td>[46, 64, 66, 52, 54]</td>\n",
       "      <td>46</td>\n",
       "      <td>64</td>\n",
       "      <td>66</td>\n",
       "      <td>52</td>\n",
       "      <td>54</td>\n",
       "    </tr>\n",
       "    <tr>\n",
       "      <th>2</th>\n",
       "      <td>[46, 64, 66, 52, 54]</td>\n",
       "      <td>46</td>\n",
       "      <td>64</td>\n",
       "      <td>66</td>\n",
       "      <td>52</td>\n",
       "      <td>54</td>\n",
       "    </tr>\n",
       "    <tr>\n",
       "      <th>3</th>\n",
       "      <td>[46, 64, 66, 52, 54]</td>\n",
       "      <td>46</td>\n",
       "      <td>64</td>\n",
       "      <td>66</td>\n",
       "      <td>52</td>\n",
       "      <td>54</td>\n",
       "    </tr>\n",
       "    <tr>\n",
       "      <th>4</th>\n",
       "      <td>[46, 64, 66, 52, 54]</td>\n",
       "      <td>46</td>\n",
       "      <td>64</td>\n",
       "      <td>66</td>\n",
       "      <td>52</td>\n",
       "      <td>54</td>\n",
       "    </tr>\n",
       "  </tbody>\n",
       "</table>\n",
       "</div>"
      ],
      "text/plain": [
       "       EVs Charge Level EVs Charge Level_unpacked_0  \\\n",
       "0  [46, 64, 66, 52, 54]                          46   \n",
       "1  [46, 64, 66, 52, 54]                          46   \n",
       "2  [46, 64, 66, 52, 54]                          46   \n",
       "3  [46, 64, 66, 52, 54]                          46   \n",
       "4  [46, 64, 66, 52, 54]                          46   \n",
       "\n",
       "  EVs Charge Level_unpacked_1 EVs Charge Level_unpacked_2  \\\n",
       "0                          64                          66   \n",
       "1                          64                          66   \n",
       "2                          64                          66   \n",
       "3                          64                          66   \n",
       "4                          64                          66   \n",
       "\n",
       "  EVs Charge Level_unpacked_3 EVs Charge Level_unpacked_4  \n",
       "0                          52                          54  \n",
       "1                          52                          54  \n",
       "2                          52                          54  \n",
       "3                          52                          54  \n",
       "4                          52                          54  "
      ]
     },
     "execution_count": 43,
     "metadata": {},
     "output_type": "execute_result"
    }
   ],
   "source": [
    "# # EV charge level per EV per timestep - 20 EVs unpacked\n",
    "# newdf = a[['EVs Charge Level', 'EVs Charge Level_unpacked_0', 'EVs Charge Level_unpacked_1', 'EVs Charge Level_unpacked_2', 'EVs Charge Level_unpacked_3', 'EVs Charge Level_unpacked_4', 'EVs Charge Level_unpacked_5', 'EVs Charge Level_unpacked_6', 'EVs Charge Level_unpacked_7', 'EVs Charge Level_unpacked_8', 'EVs Charge Level_unpacked_9', 'EVs Charge Level_unpacked_10', 'EVs Charge Level_unpacked_11', 'EVs Charge Level_unpacked_12', 'EVs Charge Level_unpacked_13', 'EVs Charge Level_unpacked_14', 'EVs Charge Level_unpacked_15', 'EVs Charge Level_unpacked_16', 'EVs Charge Level_unpacked_17', 'EVs Charge Level_unpacked_18', 'EVs Charge Level_unpacked_19']]\n",
    "# newdf.head()\n",
    "\n",
    "# EV charge level per EV per timestep - 20 EVs unpacked\n",
    "newdf = a[['EVs Charge Level', 'EVs Charge Level_unpacked_0', 'EVs Charge Level_unpacked_1', 'EVs Charge Level_unpacked_2', 'EVs Charge Level_unpacked_3', 'EVs Charge Level_unpacked_4']]\n",
    "newdf.head()"
   ]
  },
  {
   "cell_type": "code",
   "execution_count": 46,
   "metadata": {},
   "outputs": [],
   "source": [
    "import plotly.express as px\n",
    "import plotly.graph_objs as go\n",
    "import pandas as pd\n",
    "\n",
    "# def add_integer_column(df):\n",
    "#     n_rows = df.shape[0] # get number of rows\n",
    "#     df['new_col'] = pd.Series(range(n_rows)) # create new column with range of integers\n",
    "#     return df\n",
    "\n",
    "def add_time_col(df):\n",
    "    n_rows = df.shape[0] # get number of rows\n",
    "    df.insert(0, 'Timestep', pd.Series(range(n_rows))) # insert new column at index 0\n",
    "    return df\n",
    "\n",
    "def plot_data_scatter(df, x_col, y_col):\n",
    "    \"\"\"\n",
    "    Plots data from two columns in a Pandas DataFrame using Plotly.\n",
    "\n",
    "    Parameters:\n",
    "    -----------\n",
    "    df : pandas.DataFrame\n",
    "        The DataFrame containing the data to be plotted.\n",
    "    x_col : str\n",
    "        The name of the column containing the x-axis data.\n",
    "    y_col : str\n",
    "        The name of the column containing the y-axis data.\n",
    "\n",
    "    Returns:\n",
    "    --------\n",
    "    fig : plotly.graph_objs._figure.Figure\n",
    "        The Plotly figure object containing the scatter plot.\n",
    "    \"\"\"\n",
    "    fig = px.scatter(df, x=x_col, y=y_col)\n",
    "    return fig\n",
    "\n",
    "def plot_data_line(df, x_col, y_col):\n",
    "    \"\"\"\n",
    "    Plots data from two columns in a Pandas DataFrame using Plotly.\n",
    "\n",
    "    Parameters:\n",
    "    -----------\n",
    "    df : pandas.DataFrame\n",
    "        The DataFrame containing the data to be plotted.\n",
    "    x_col : str\n",
    "        The name of the column containing the x-axis data.\n",
    "    y_col : str\n",
    "        The name of the column containing the y-axis data.\n",
    "\n",
    "    Returns:\n",
    "    --------\n",
    "    fig : plotly.graph_objs._figure.Figure\n",
    "        The Plotly figure object containing the line plot.\n",
    "    \"\"\"\n",
    "    fig = go.Figure()\n",
    "    fig.add_trace(go.Scatter(x=df[x_col], y=df[y_col], mode='lines'))\n",
    "    fig.update_layout(title='Line Plot', xaxis_title=x_col, yaxis_title=y_col)\n",
    "    return fig\n",
    "\n",
    "def plot_data_heatmap(df, x_col, y_col, z_col):\n",
    "    \"\"\"\n",
    "    Plots data from three columns in a Pandas DataFrame using Plotly.\n",
    "\n",
    "    Parameters:\n",
    "    -----------\n",
    "    df : pandas.DataFrame\n",
    "        The DataFrame containing the data to be plotted.\n",
    "    x_col : str\n",
    "        The name of the column containing the x-axis data.\n",
    "    y_col : str\n",
    "        The name of the column containing the y-axis data.\n",
    "    z_col : str\n",
    "        The name of the column containing the z-axis data.\n",
    "\n",
    "    Returns:\n",
    "    --------\n",
    "    fig : plotly.graph_objs._figure.Figure\n",
    "        The Plotly figure object containing the heatmap.\n",
    "    \"\"\"\n",
    "    fig = go.Figure()\n",
    "    fig.add_trace(go.Heatmap(x=df[x_col], y=df[y_col], z=df[z_col]))\n",
    "    fig.update_layout(title='Heatmap', xaxis_title=x_col, yaxis_title=y_col)\n",
    "    return fig\n",
    "\n",
    "# def plot_data_lines(df, x_col, y_cols):\n",
    "#     \"\"\"\n",
    "#     Plots data from multiple columns in a Pandas DataFrame as multiple lines using Plotly.\n",
    "\n",
    "#     Parameters:\n",
    "#     -----------\n",
    "#     df : pandas.DataFrame\n",
    "#         The DataFrame containing the data to be plotted.\n",
    "#     x_col : str\n",
    "#         The name of the column containing the x-axis data.\n",
    "#     y_cols : list of str\n",
    "#         The names of the columns containing the y-axis data.\n",
    "\n",
    "#     Returns:\n",
    "#     --------\n",
    "#     fig : plotly.graph_objs._figure.Figure\n",
    "#         The Plotly figure object containing the multiple line plot.\n",
    "#     \"\"\"\n",
    "#     fig = go.Figure()\n",
    "#     for y_col in y_cols:\n",
    "#         fig.add_trace(go.Scatter(x=df[x_col], y=df[y_col], mode='lines', name=y_col))\n",
    "#     fig.update_layout(title='Multiple Line Plot', xaxis_title=x_col, yaxis_title='Value')\n",
    "#     return fig\n",
    "\n",
    "# import pandas as pd\n",
    "# import plotly.graph_objs as go\n",
    "\n",
    "def plot_data_lines(df, x_col, y_cols):\n",
    "    \"\"\"\n",
    "    Plots data from multiple columns in a Pandas DataFrame as multiple lines using Plotly.\n",
    "\n",
    "    Parameters:\n",
    "    -----------\n",
    "    df : pandas.DataFrame\n",
    "        The DataFrame containing the data to be plotted.\n",
    "    x_col : str\n",
    "        The name of the column containing the x-axis data.\n",
    "    y_cols : list of str\n",
    "        The names of the columns containing the y-axis data.\n",
    "\n",
    "    Returns:\n",
    "    --------\n",
    "    fig : plotly.graph_objs._figure.Figure\n",
    "        The Plotly figure object containing the multiple line plot.\n",
    "    \"\"\"\n",
    "    fig = go.Figure()\n",
    "    for y_col in y_cols:\n",
    "        fig.add_trace(go.Scatter(x=df[x_col], y=df[y_col], mode='lines', name=y_col))\n",
    "\n",
    "    fig.update_layout(title='Multiple Line Plot', xaxis_title=x_col, yaxis_title='Value')\n",
    "    \n",
    "    # Sort the y-axis in ascending order\n",
    "    fig.update_yaxes(autorange=\"reversed\")\n",
    "    \n",
    "    return fig\n"
   ]
  },
  {
   "cell_type": "code",
   "execution_count": 47,
   "metadata": {},
   "outputs": [
    {
     "data": {
      "text/html": [
       "<div>\n",
       "<style scoped>\n",
       "    .dataframe tbody tr th:only-of-type {\n",
       "        vertical-align: middle;\n",
       "    }\n",
       "\n",
       "    .dataframe tbody tr th {\n",
       "        vertical-align: top;\n",
       "    }\n",
       "\n",
       "    .dataframe thead th {\n",
       "        text-align: right;\n",
       "    }\n",
       "</style>\n",
       "<table border=\"1\" class=\"dataframe\">\n",
       "  <thead>\n",
       "    <tr style=\"text-align: right;\">\n",
       "      <th></th>\n",
       "      <th>Timestep</th>\n",
       "      <th>EVs Charge Level</th>\n",
       "      <th>EVs Charge Level_unpacked_0</th>\n",
       "      <th>EVs Charge Level_unpacked_1</th>\n",
       "      <th>EVs Charge Level_unpacked_2</th>\n",
       "      <th>EVs Charge Level_unpacked_3</th>\n",
       "      <th>EVs Charge Level_unpacked_4</th>\n",
       "    </tr>\n",
       "  </thead>\n",
       "  <tbody>\n",
       "    <tr>\n",
       "      <th>0</th>\n",
       "      <td>0</td>\n",
       "      <td>[46, 64, 66, 52, 54]</td>\n",
       "      <td>46</td>\n",
       "      <td>64</td>\n",
       "      <td>66</td>\n",
       "      <td>52</td>\n",
       "      <td>54</td>\n",
       "    </tr>\n",
       "    <tr>\n",
       "      <th>1</th>\n",
       "      <td>1</td>\n",
       "      <td>[46, 64, 66, 52, 54]</td>\n",
       "      <td>46</td>\n",
       "      <td>64</td>\n",
       "      <td>66</td>\n",
       "      <td>52</td>\n",
       "      <td>54</td>\n",
       "    </tr>\n",
       "    <tr>\n",
       "      <th>2</th>\n",
       "      <td>2</td>\n",
       "      <td>[46, 64, 66, 52, 54]</td>\n",
       "      <td>46</td>\n",
       "      <td>64</td>\n",
       "      <td>66</td>\n",
       "      <td>52</td>\n",
       "      <td>54</td>\n",
       "    </tr>\n",
       "    <tr>\n",
       "      <th>3</th>\n",
       "      <td>3</td>\n",
       "      <td>[46, 64, 66, 52, 54]</td>\n",
       "      <td>46</td>\n",
       "      <td>64</td>\n",
       "      <td>66</td>\n",
       "      <td>52</td>\n",
       "      <td>54</td>\n",
       "    </tr>\n",
       "    <tr>\n",
       "      <th>4</th>\n",
       "      <td>4</td>\n",
       "      <td>[46, 64, 66, 52, 54]</td>\n",
       "      <td>46</td>\n",
       "      <td>64</td>\n",
       "      <td>66</td>\n",
       "      <td>52</td>\n",
       "      <td>54</td>\n",
       "    </tr>\n",
       "  </tbody>\n",
       "</table>\n",
       "</div>"
      ],
      "text/plain": [
       "   Timestep      EVs Charge Level EVs Charge Level_unpacked_0  \\\n",
       "0         0  [46, 64, 66, 52, 54]                          46   \n",
       "1         1  [46, 64, 66, 52, 54]                          46   \n",
       "2         2  [46, 64, 66, 52, 54]                          46   \n",
       "3         3  [46, 64, 66, 52, 54]                          46   \n",
       "4         4  [46, 64, 66, 52, 54]                          46   \n",
       "\n",
       "  EVs Charge Level_unpacked_1 EVs Charge Level_unpacked_2  \\\n",
       "0                          64                          66   \n",
       "1                          64                          66   \n",
       "2                          64                          66   \n",
       "3                          64                          66   \n",
       "4                          64                          66   \n",
       "\n",
       "  EVs Charge Level_unpacked_3 EVs Charge Level_unpacked_4  \n",
       "0                          52                          54  \n",
       "1                          52                          54  \n",
       "2                          52                          54  \n",
       "3                          52                          54  \n",
       "4                          52                          54  "
      ]
     },
     "execution_count": 47,
     "metadata": {},
     "output_type": "execute_result"
    }
   ],
   "source": [
    "add_time_col(newdf)\n",
    "newdf.head()"
   ]
  },
  {
   "attachments": {},
   "cell_type": "markdown",
   "metadata": {},
   "source": [
    "### Batching"
   ]
  },
  {
   "cell_type": "code",
   "execution_count": null,
   "metadata": {},
   "outputs": [],
   "source": [
    "from mesa.batchrunner import BatchRunner\n",
    "\n",
    "EVcounts = (100,500,1000)\n",
    "cpcounts = (1,2)\n",
    "tickcounts = (24,48)\n",
    "model_reporters={'EVs Charged': get_evs_charged,\n",
    "                'EVs Activated': get_evs_active,\n",
    "                'EVs Travelling': get_evs_travel,\n",
    "                'EVs Charge Level': get_evs_charge_level,\n",
    "                'EVs Currently charging': get_evs_charging,\n",
    "                'EVs Not Idle': get_evs_not_idle,\n",
    "                'EOD Battery SOC': get_eod_evs_socs,\n",
    "                'EVs Destinations': get_evs_destinations,\n",
    "                }\n",
    "# parameters = {\"no_evs\": range(1000,20000,3000), \"no_cps\": 1}\n",
    "parameters = {\"no_evs\": EVcounts, \"no_cps\": cpcounts, \"ticks\": tickcounts}\n",
    "batch_run = BatchRunner(model.EVModel, parameters, max_steps=24, iterations=1, model_reporters= model_reporters) #iterations=1\n",
    "batch_run.run_all()"
   ]
  },
  {
   "cell_type": "code",
   "execution_count": null,
   "metadata": {},
   "outputs": [],
   "source": [
    "# batch_df = batch_run.get_model_vars_dataframe()"
   ]
  },
  {
   "cell_type": "code",
   "execution_count": null,
   "metadata": {},
   "outputs": [],
   "source": [
    "# print(batch_df)"
   ]
  },
  {
   "attachments": {},
   "cell_type": "markdown",
   "metadata": {},
   "source": [
    "### Visualisations"
   ]
  },
  {
   "attachments": {},
   "cell_type": "markdown",
   "metadata": {},
   "source": [
    "Scatter plot"
   ]
  },
  {
   "cell_type": "code",
   "execution_count": 48,
   "metadata": {},
   "outputs": [
    {
     "data": {
      "application/vnd.plotly.v1+json": {
       "config": {
        "plotlyServerURL": "https://plot.ly"
       },
       "data": [
        {
         "mode": "lines",
         "name": "EVs Charge Level_unpacked_0",
         "type": "scatter",
         "x": [
          0,
          1,
          2,
          3,
          4,
          5,
          6,
          7,
          8,
          9,
          10,
          11,
          12,
          13,
          14,
          15,
          16,
          17,
          18,
          19,
          20,
          21,
          22,
          23,
          24,
          25,
          26,
          27,
          28,
          29,
          30,
          31,
          32,
          33,
          34,
          35,
          36,
          37,
          38,
          39,
          40,
          41,
          42,
          43,
          44,
          45,
          46,
          47
         ],
         "y": [
          "46",
          "46",
          "46",
          "46",
          "46",
          "46",
          "36.0",
          "26.0",
          "16.0",
          "13.5",
          "21.0",
          "28.5",
          "36.0",
          "43.5",
          "43.5",
          "33.5",
          "23.5",
          "23.5",
          "23.5",
          "23.5",
          "23.5",
          "23.5",
          "23.5",
          "23.5",
          "23.5",
          "23.5",
          "23.5",
          "23.5",
          "23.5",
          "23.5",
          "23.5",
          "23.5",
          "13.5",
          "11.0",
          "18.5",
          "26.0",
          "33.5",
          "41.0",
          "41.0",
          "31.0",
          "21.0",
          "21.0",
          "21.0",
          "21.0",
          "21.0",
          "21.0",
          "21.0",
          "21.0"
         ]
        },
        {
         "mode": "lines",
         "name": "EVs Charge Level_unpacked_1",
         "type": "scatter",
         "x": [
          0,
          1,
          2,
          3,
          4,
          5,
          6,
          7,
          8,
          9,
          10,
          11,
          12,
          13,
          14,
          15,
          16,
          17,
          18,
          19,
          20,
          21,
          22,
          23,
          24,
          25,
          26,
          27,
          28,
          29,
          30,
          31,
          32,
          33,
          34,
          35,
          36,
          37,
          38,
          39,
          40,
          41,
          42,
          43,
          44,
          45,
          46,
          47
         ],
         "y": [
          "64",
          "64",
          "64",
          "64",
          "64",
          "64",
          "64",
          "64",
          "64",
          "62.0",
          "60.0",
          "58.0",
          "56.0",
          "54.0",
          "52.0",
          "50.0",
          "48.0",
          "46.0",
          "46.0",
          "46.0",
          "46.0",
          "46.0",
          "46.0",
          "46.0",
          "46.0",
          "46.0",
          "46.0",
          "46.0",
          "46.0",
          "46.0",
          "46.0",
          "46.0",
          "44.0",
          "42.0",
          "40.0",
          "38.0",
          "36.0",
          "36.0",
          "36.0",
          "36.0",
          "36.0",
          "36.0",
          "36.0",
          "36.0",
          "36.0",
          "36.0",
          "36.0",
          "36.0"
         ]
        },
        {
         "mode": "lines",
         "name": "EVs Charge Level_unpacked_2",
         "type": "scatter",
         "x": [
          0,
          1,
          2,
          3,
          4,
          5,
          6,
          7,
          8,
          9,
          10,
          11,
          12,
          13,
          14,
          15,
          16,
          17,
          18,
          19,
          20,
          21,
          22,
          23,
          24,
          25,
          26,
          27,
          28,
          29,
          30,
          31,
          32,
          33,
          34,
          35,
          36,
          37,
          38,
          39,
          40,
          41,
          42,
          43,
          44,
          45,
          46,
          47
         ],
         "y": [
          "66",
          "66",
          "66",
          "66",
          "66",
          "66",
          "66",
          "66",
          "66",
          "66",
          "66",
          "66",
          "66",
          "64.0",
          "62.0",
          "60.0",
          "58.0",
          "58.0",
          "58.0",
          "58.0",
          "58.0",
          "58.0",
          "58.0",
          "58.0",
          "58.0",
          "58.0",
          "58.0",
          "58.0",
          "58.0",
          "58.0",
          "58.0",
          "58.0",
          "58.0",
          "58.0",
          "58.0",
          "58.0",
          "56.0",
          "54.0",
          "52.0",
          "50.0",
          "48.0",
          "48.0",
          "48.0",
          "48.0",
          "48.0",
          "48.0",
          "48.0",
          "48.0"
         ]
        },
        {
         "mode": "lines",
         "name": "EVs Charge Level_unpacked_3",
         "type": "scatter",
         "x": [
          0,
          1,
          2,
          3,
          4,
          5,
          6,
          7,
          8,
          9,
          10,
          11,
          12,
          13,
          14,
          15,
          16,
          17,
          18,
          19,
          20,
          21,
          22,
          23,
          24,
          25,
          26,
          27,
          28,
          29,
          30,
          31,
          32,
          33,
          34,
          35,
          36,
          37,
          38,
          39,
          40,
          41,
          42,
          43,
          44,
          45,
          46,
          47
         ],
         "y": [
          "52",
          "52",
          "52",
          "52",
          "52",
          "52",
          "42.0",
          "32.0",
          "22.0",
          "12.0",
          "2.0",
          "2.0",
          "2.0",
          "2.0",
          "2.0",
          "2.0",
          "2.0",
          "2.0",
          "2.0",
          "2.0",
          "2.0",
          "2.0",
          "2.0",
          "2.0",
          "52",
          "52",
          "52",
          "52",
          "52",
          "52",
          "42.0",
          "32.0",
          "22.0",
          "12.0",
          "2.0",
          "2.0",
          "2.0",
          "2.0",
          "2.0",
          "2.0",
          "2.0",
          "2.0",
          "2.0",
          "2.0",
          "2.0",
          "2.0",
          "2.0",
          "2.0"
         ]
        },
        {
         "mode": "lines",
         "name": "EVs Charge Level_unpacked_4",
         "type": "scatter",
         "x": [
          0,
          1,
          2,
          3,
          4,
          5,
          6,
          7,
          8,
          9,
          10,
          11,
          12,
          13,
          14,
          15,
          16,
          17,
          18,
          19,
          20,
          21,
          22,
          23,
          24,
          25,
          26,
          27,
          28,
          29,
          30,
          31,
          32,
          33,
          34,
          35,
          36,
          37,
          38,
          39,
          40,
          41,
          42,
          43,
          44,
          45,
          46,
          47
         ],
         "y": [
          "54",
          "54",
          "54",
          "54",
          "54",
          "54",
          "54",
          "54",
          "54",
          "54",
          "54",
          "54",
          "52.0",
          "50.0",
          "48.0",
          "46.0",
          "44.0",
          "42.0",
          "42.0",
          "42.0",
          "42.0",
          "42.0",
          "42.0",
          "42.0",
          "42.0",
          "42.0",
          "42.0",
          "42.0",
          "42.0",
          "42.0",
          "42.0",
          "42.0",
          "42.0",
          "42.0",
          "40.0",
          "38.0",
          "36.0",
          "34.0",
          "32.0",
          "30.0",
          "28.0",
          "26.0",
          "24.0",
          "22.0",
          "20.0",
          "25.5",
          "33.0",
          "40.5"
         ]
        }
       ],
       "layout": {
        "template": {
         "data": {
          "bar": [
           {
            "error_x": {
             "color": "#2a3f5f"
            },
            "error_y": {
             "color": "#2a3f5f"
            },
            "marker": {
             "line": {
              "color": "#E5ECF6",
              "width": 0.5
             },
             "pattern": {
              "fillmode": "overlay",
              "size": 10,
              "solidity": 0.2
             }
            },
            "type": "bar"
           }
          ],
          "barpolar": [
           {
            "marker": {
             "line": {
              "color": "#E5ECF6",
              "width": 0.5
             },
             "pattern": {
              "fillmode": "overlay",
              "size": 10,
              "solidity": 0.2
             }
            },
            "type": "barpolar"
           }
          ],
          "carpet": [
           {
            "aaxis": {
             "endlinecolor": "#2a3f5f",
             "gridcolor": "white",
             "linecolor": "white",
             "minorgridcolor": "white",
             "startlinecolor": "#2a3f5f"
            },
            "baxis": {
             "endlinecolor": "#2a3f5f",
             "gridcolor": "white",
             "linecolor": "white",
             "minorgridcolor": "white",
             "startlinecolor": "#2a3f5f"
            },
            "type": "carpet"
           }
          ],
          "choropleth": [
           {
            "colorbar": {
             "outlinewidth": 0,
             "ticks": ""
            },
            "type": "choropleth"
           }
          ],
          "contour": [
           {
            "colorbar": {
             "outlinewidth": 0,
             "ticks": ""
            },
            "colorscale": [
             [
              0,
              "#0d0887"
             ],
             [
              0.1111111111111111,
              "#46039f"
             ],
             [
              0.2222222222222222,
              "#7201a8"
             ],
             [
              0.3333333333333333,
              "#9c179e"
             ],
             [
              0.4444444444444444,
              "#bd3786"
             ],
             [
              0.5555555555555556,
              "#d8576b"
             ],
             [
              0.6666666666666666,
              "#ed7953"
             ],
             [
              0.7777777777777778,
              "#fb9f3a"
             ],
             [
              0.8888888888888888,
              "#fdca26"
             ],
             [
              1,
              "#f0f921"
             ]
            ],
            "type": "contour"
           }
          ],
          "contourcarpet": [
           {
            "colorbar": {
             "outlinewidth": 0,
             "ticks": ""
            },
            "type": "contourcarpet"
           }
          ],
          "heatmap": [
           {
            "colorbar": {
             "outlinewidth": 0,
             "ticks": ""
            },
            "colorscale": [
             [
              0,
              "#0d0887"
             ],
             [
              0.1111111111111111,
              "#46039f"
             ],
             [
              0.2222222222222222,
              "#7201a8"
             ],
             [
              0.3333333333333333,
              "#9c179e"
             ],
             [
              0.4444444444444444,
              "#bd3786"
             ],
             [
              0.5555555555555556,
              "#d8576b"
             ],
             [
              0.6666666666666666,
              "#ed7953"
             ],
             [
              0.7777777777777778,
              "#fb9f3a"
             ],
             [
              0.8888888888888888,
              "#fdca26"
             ],
             [
              1,
              "#f0f921"
             ]
            ],
            "type": "heatmap"
           }
          ],
          "heatmapgl": [
           {
            "colorbar": {
             "outlinewidth": 0,
             "ticks": ""
            },
            "colorscale": [
             [
              0,
              "#0d0887"
             ],
             [
              0.1111111111111111,
              "#46039f"
             ],
             [
              0.2222222222222222,
              "#7201a8"
             ],
             [
              0.3333333333333333,
              "#9c179e"
             ],
             [
              0.4444444444444444,
              "#bd3786"
             ],
             [
              0.5555555555555556,
              "#d8576b"
             ],
             [
              0.6666666666666666,
              "#ed7953"
             ],
             [
              0.7777777777777778,
              "#fb9f3a"
             ],
             [
              0.8888888888888888,
              "#fdca26"
             ],
             [
              1,
              "#f0f921"
             ]
            ],
            "type": "heatmapgl"
           }
          ],
          "histogram": [
           {
            "marker": {
             "pattern": {
              "fillmode": "overlay",
              "size": 10,
              "solidity": 0.2
             }
            },
            "type": "histogram"
           }
          ],
          "histogram2d": [
           {
            "colorbar": {
             "outlinewidth": 0,
             "ticks": ""
            },
            "colorscale": [
             [
              0,
              "#0d0887"
             ],
             [
              0.1111111111111111,
              "#46039f"
             ],
             [
              0.2222222222222222,
              "#7201a8"
             ],
             [
              0.3333333333333333,
              "#9c179e"
             ],
             [
              0.4444444444444444,
              "#bd3786"
             ],
             [
              0.5555555555555556,
              "#d8576b"
             ],
             [
              0.6666666666666666,
              "#ed7953"
             ],
             [
              0.7777777777777778,
              "#fb9f3a"
             ],
             [
              0.8888888888888888,
              "#fdca26"
             ],
             [
              1,
              "#f0f921"
             ]
            ],
            "type": "histogram2d"
           }
          ],
          "histogram2dcontour": [
           {
            "colorbar": {
             "outlinewidth": 0,
             "ticks": ""
            },
            "colorscale": [
             [
              0,
              "#0d0887"
             ],
             [
              0.1111111111111111,
              "#46039f"
             ],
             [
              0.2222222222222222,
              "#7201a8"
             ],
             [
              0.3333333333333333,
              "#9c179e"
             ],
             [
              0.4444444444444444,
              "#bd3786"
             ],
             [
              0.5555555555555556,
              "#d8576b"
             ],
             [
              0.6666666666666666,
              "#ed7953"
             ],
             [
              0.7777777777777778,
              "#fb9f3a"
             ],
             [
              0.8888888888888888,
              "#fdca26"
             ],
             [
              1,
              "#f0f921"
             ]
            ],
            "type": "histogram2dcontour"
           }
          ],
          "mesh3d": [
           {
            "colorbar": {
             "outlinewidth": 0,
             "ticks": ""
            },
            "type": "mesh3d"
           }
          ],
          "parcoords": [
           {
            "line": {
             "colorbar": {
              "outlinewidth": 0,
              "ticks": ""
             }
            },
            "type": "parcoords"
           }
          ],
          "pie": [
           {
            "automargin": true,
            "type": "pie"
           }
          ],
          "scatter": [
           {
            "fillpattern": {
             "fillmode": "overlay",
             "size": 10,
             "solidity": 0.2
            },
            "type": "scatter"
           }
          ],
          "scatter3d": [
           {
            "line": {
             "colorbar": {
              "outlinewidth": 0,
              "ticks": ""
             }
            },
            "marker": {
             "colorbar": {
              "outlinewidth": 0,
              "ticks": ""
             }
            },
            "type": "scatter3d"
           }
          ],
          "scattercarpet": [
           {
            "marker": {
             "colorbar": {
              "outlinewidth": 0,
              "ticks": ""
             }
            },
            "type": "scattercarpet"
           }
          ],
          "scattergeo": [
           {
            "marker": {
             "colorbar": {
              "outlinewidth": 0,
              "ticks": ""
             }
            },
            "type": "scattergeo"
           }
          ],
          "scattergl": [
           {
            "marker": {
             "colorbar": {
              "outlinewidth": 0,
              "ticks": ""
             }
            },
            "type": "scattergl"
           }
          ],
          "scattermapbox": [
           {
            "marker": {
             "colorbar": {
              "outlinewidth": 0,
              "ticks": ""
             }
            },
            "type": "scattermapbox"
           }
          ],
          "scatterpolar": [
           {
            "marker": {
             "colorbar": {
              "outlinewidth": 0,
              "ticks": ""
             }
            },
            "type": "scatterpolar"
           }
          ],
          "scatterpolargl": [
           {
            "marker": {
             "colorbar": {
              "outlinewidth": 0,
              "ticks": ""
             }
            },
            "type": "scatterpolargl"
           }
          ],
          "scatterternary": [
           {
            "marker": {
             "colorbar": {
              "outlinewidth": 0,
              "ticks": ""
             }
            },
            "type": "scatterternary"
           }
          ],
          "surface": [
           {
            "colorbar": {
             "outlinewidth": 0,
             "ticks": ""
            },
            "colorscale": [
             [
              0,
              "#0d0887"
             ],
             [
              0.1111111111111111,
              "#46039f"
             ],
             [
              0.2222222222222222,
              "#7201a8"
             ],
             [
              0.3333333333333333,
              "#9c179e"
             ],
             [
              0.4444444444444444,
              "#bd3786"
             ],
             [
              0.5555555555555556,
              "#d8576b"
             ],
             [
              0.6666666666666666,
              "#ed7953"
             ],
             [
              0.7777777777777778,
              "#fb9f3a"
             ],
             [
              0.8888888888888888,
              "#fdca26"
             ],
             [
              1,
              "#f0f921"
             ]
            ],
            "type": "surface"
           }
          ],
          "table": [
           {
            "cells": {
             "fill": {
              "color": "#EBF0F8"
             },
             "line": {
              "color": "white"
             }
            },
            "header": {
             "fill": {
              "color": "#C8D4E3"
             },
             "line": {
              "color": "white"
             }
            },
            "type": "table"
           }
          ]
         },
         "layout": {
          "annotationdefaults": {
           "arrowcolor": "#2a3f5f",
           "arrowhead": 0,
           "arrowwidth": 1
          },
          "autotypenumbers": "strict",
          "coloraxis": {
           "colorbar": {
            "outlinewidth": 0,
            "ticks": ""
           }
          },
          "colorscale": {
           "diverging": [
            [
             0,
             "#8e0152"
            ],
            [
             0.1,
             "#c51b7d"
            ],
            [
             0.2,
             "#de77ae"
            ],
            [
             0.3,
             "#f1b6da"
            ],
            [
             0.4,
             "#fde0ef"
            ],
            [
             0.5,
             "#f7f7f7"
            ],
            [
             0.6,
             "#e6f5d0"
            ],
            [
             0.7,
             "#b8e186"
            ],
            [
             0.8,
             "#7fbc41"
            ],
            [
             0.9,
             "#4d9221"
            ],
            [
             1,
             "#276419"
            ]
           ],
           "sequential": [
            [
             0,
             "#0d0887"
            ],
            [
             0.1111111111111111,
             "#46039f"
            ],
            [
             0.2222222222222222,
             "#7201a8"
            ],
            [
             0.3333333333333333,
             "#9c179e"
            ],
            [
             0.4444444444444444,
             "#bd3786"
            ],
            [
             0.5555555555555556,
             "#d8576b"
            ],
            [
             0.6666666666666666,
             "#ed7953"
            ],
            [
             0.7777777777777778,
             "#fb9f3a"
            ],
            [
             0.8888888888888888,
             "#fdca26"
            ],
            [
             1,
             "#f0f921"
            ]
           ],
           "sequentialminus": [
            [
             0,
             "#0d0887"
            ],
            [
             0.1111111111111111,
             "#46039f"
            ],
            [
             0.2222222222222222,
             "#7201a8"
            ],
            [
             0.3333333333333333,
             "#9c179e"
            ],
            [
             0.4444444444444444,
             "#bd3786"
            ],
            [
             0.5555555555555556,
             "#d8576b"
            ],
            [
             0.6666666666666666,
             "#ed7953"
            ],
            [
             0.7777777777777778,
             "#fb9f3a"
            ],
            [
             0.8888888888888888,
             "#fdca26"
            ],
            [
             1,
             "#f0f921"
            ]
           ]
          },
          "colorway": [
           "#636efa",
           "#EF553B",
           "#00cc96",
           "#ab63fa",
           "#FFA15A",
           "#19d3f3",
           "#FF6692",
           "#B6E880",
           "#FF97FF",
           "#FECB52"
          ],
          "font": {
           "color": "#2a3f5f"
          },
          "geo": {
           "bgcolor": "white",
           "lakecolor": "white",
           "landcolor": "#E5ECF6",
           "showlakes": true,
           "showland": true,
           "subunitcolor": "white"
          },
          "hoverlabel": {
           "align": "left"
          },
          "hovermode": "closest",
          "mapbox": {
           "style": "light"
          },
          "paper_bgcolor": "white",
          "plot_bgcolor": "#E5ECF6",
          "polar": {
           "angularaxis": {
            "gridcolor": "white",
            "linecolor": "white",
            "ticks": ""
           },
           "bgcolor": "#E5ECF6",
           "radialaxis": {
            "gridcolor": "white",
            "linecolor": "white",
            "ticks": ""
           }
          },
          "scene": {
           "xaxis": {
            "backgroundcolor": "#E5ECF6",
            "gridcolor": "white",
            "gridwidth": 2,
            "linecolor": "white",
            "showbackground": true,
            "ticks": "",
            "zerolinecolor": "white"
           },
           "yaxis": {
            "backgroundcolor": "#E5ECF6",
            "gridcolor": "white",
            "gridwidth": 2,
            "linecolor": "white",
            "showbackground": true,
            "ticks": "",
            "zerolinecolor": "white"
           },
           "zaxis": {
            "backgroundcolor": "#E5ECF6",
            "gridcolor": "white",
            "gridwidth": 2,
            "linecolor": "white",
            "showbackground": true,
            "ticks": "",
            "zerolinecolor": "white"
           }
          },
          "shapedefaults": {
           "line": {
            "color": "#2a3f5f"
           }
          },
          "ternary": {
           "aaxis": {
            "gridcolor": "white",
            "linecolor": "white",
            "ticks": ""
           },
           "baxis": {
            "gridcolor": "white",
            "linecolor": "white",
            "ticks": ""
           },
           "bgcolor": "#E5ECF6",
           "caxis": {
            "gridcolor": "white",
            "linecolor": "white",
            "ticks": ""
           }
          },
          "title": {
           "x": 0.05
          },
          "xaxis": {
           "automargin": true,
           "gridcolor": "white",
           "linecolor": "white",
           "ticks": "",
           "title": {
            "standoff": 15
           },
           "zerolinecolor": "white",
           "zerolinewidth": 2
          },
          "yaxis": {
           "automargin": true,
           "gridcolor": "white",
           "linecolor": "white",
           "ticks": "",
           "title": {
            "standoff": 15
           },
           "zerolinecolor": "white",
           "zerolinewidth": 2
          }
         }
        },
        "title": {
         "text": "Multiple Line Plot"
        },
        "xaxis": {
         "title": {
          "text": "Timestep"
         }
        },
        "yaxis": {
         "autorange": "reversed",
         "title": {
          "text": "Value"
         }
        }
       }
      },
      "text/html": [
       "<div>                            <div id=\"caf1113e-866a-427f-8369-884ace485372\" class=\"plotly-graph-div\" style=\"height:525px; width:100%;\"></div>            <script type=\"text/javascript\">                require([\"plotly\"], function(Plotly) {                    window.PLOTLYENV=window.PLOTLYENV || {};                                    if (document.getElementById(\"caf1113e-866a-427f-8369-884ace485372\")) {                    Plotly.newPlot(                        \"caf1113e-866a-427f-8369-884ace485372\",                        [{\"mode\":\"lines\",\"name\":\"EVs Charge Level_unpacked_0\",\"x\":[0,1,2,3,4,5,6,7,8,9,10,11,12,13,14,15,16,17,18,19,20,21,22,23,24,25,26,27,28,29,30,31,32,33,34,35,36,37,38,39,40,41,42,43,44,45,46,47],\"y\":[\"46\",\"46\",\"46\",\"46\",\"46\",\"46\",\"36.0\",\"26.0\",\"16.0\",\"13.5\",\"21.0\",\"28.5\",\"36.0\",\"43.5\",\"43.5\",\"33.5\",\"23.5\",\"23.5\",\"23.5\",\"23.5\",\"23.5\",\"23.5\",\"23.5\",\"23.5\",\"23.5\",\"23.5\",\"23.5\",\"23.5\",\"23.5\",\"23.5\",\"23.5\",\"23.5\",\"13.5\",\"11.0\",\"18.5\",\"26.0\",\"33.5\",\"41.0\",\"41.0\",\"31.0\",\"21.0\",\"21.0\",\"21.0\",\"21.0\",\"21.0\",\"21.0\",\"21.0\",\"21.0\"],\"type\":\"scatter\"},{\"mode\":\"lines\",\"name\":\"EVs Charge Level_unpacked_1\",\"x\":[0,1,2,3,4,5,6,7,8,9,10,11,12,13,14,15,16,17,18,19,20,21,22,23,24,25,26,27,28,29,30,31,32,33,34,35,36,37,38,39,40,41,42,43,44,45,46,47],\"y\":[\"64\",\"64\",\"64\",\"64\",\"64\",\"64\",\"64\",\"64\",\"64\",\"62.0\",\"60.0\",\"58.0\",\"56.0\",\"54.0\",\"52.0\",\"50.0\",\"48.0\",\"46.0\",\"46.0\",\"46.0\",\"46.0\",\"46.0\",\"46.0\",\"46.0\",\"46.0\",\"46.0\",\"46.0\",\"46.0\",\"46.0\",\"46.0\",\"46.0\",\"46.0\",\"44.0\",\"42.0\",\"40.0\",\"38.0\",\"36.0\",\"36.0\",\"36.0\",\"36.0\",\"36.0\",\"36.0\",\"36.0\",\"36.0\",\"36.0\",\"36.0\",\"36.0\",\"36.0\"],\"type\":\"scatter\"},{\"mode\":\"lines\",\"name\":\"EVs Charge Level_unpacked_2\",\"x\":[0,1,2,3,4,5,6,7,8,9,10,11,12,13,14,15,16,17,18,19,20,21,22,23,24,25,26,27,28,29,30,31,32,33,34,35,36,37,38,39,40,41,42,43,44,45,46,47],\"y\":[\"66\",\"66\",\"66\",\"66\",\"66\",\"66\",\"66\",\"66\",\"66\",\"66\",\"66\",\"66\",\"66\",\"64.0\",\"62.0\",\"60.0\",\"58.0\",\"58.0\",\"58.0\",\"58.0\",\"58.0\",\"58.0\",\"58.0\",\"58.0\",\"58.0\",\"58.0\",\"58.0\",\"58.0\",\"58.0\",\"58.0\",\"58.0\",\"58.0\",\"58.0\",\"58.0\",\"58.0\",\"58.0\",\"56.0\",\"54.0\",\"52.0\",\"50.0\",\"48.0\",\"48.0\",\"48.0\",\"48.0\",\"48.0\",\"48.0\",\"48.0\",\"48.0\"],\"type\":\"scatter\"},{\"mode\":\"lines\",\"name\":\"EVs Charge Level_unpacked_3\",\"x\":[0,1,2,3,4,5,6,7,8,9,10,11,12,13,14,15,16,17,18,19,20,21,22,23,24,25,26,27,28,29,30,31,32,33,34,35,36,37,38,39,40,41,42,43,44,45,46,47],\"y\":[\"52\",\"52\",\"52\",\"52\",\"52\",\"52\",\"42.0\",\"32.0\",\"22.0\",\"12.0\",\"2.0\",\"2.0\",\"2.0\",\"2.0\",\"2.0\",\"2.0\",\"2.0\",\"2.0\",\"2.0\",\"2.0\",\"2.0\",\"2.0\",\"2.0\",\"2.0\",\"52\",\"52\",\"52\",\"52\",\"52\",\"52\",\"42.0\",\"32.0\",\"22.0\",\"12.0\",\"2.0\",\"2.0\",\"2.0\",\"2.0\",\"2.0\",\"2.0\",\"2.0\",\"2.0\",\"2.0\",\"2.0\",\"2.0\",\"2.0\",\"2.0\",\"2.0\"],\"type\":\"scatter\"},{\"mode\":\"lines\",\"name\":\"EVs Charge Level_unpacked_4\",\"x\":[0,1,2,3,4,5,6,7,8,9,10,11,12,13,14,15,16,17,18,19,20,21,22,23,24,25,26,27,28,29,30,31,32,33,34,35,36,37,38,39,40,41,42,43,44,45,46,47],\"y\":[\"54\",\"54\",\"54\",\"54\",\"54\",\"54\",\"54\",\"54\",\"54\",\"54\",\"54\",\"54\",\"52.0\",\"50.0\",\"48.0\",\"46.0\",\"44.0\",\"42.0\",\"42.0\",\"42.0\",\"42.0\",\"42.0\",\"42.0\",\"42.0\",\"42.0\",\"42.0\",\"42.0\",\"42.0\",\"42.0\",\"42.0\",\"42.0\",\"42.0\",\"42.0\",\"42.0\",\"40.0\",\"38.0\",\"36.0\",\"34.0\",\"32.0\",\"30.0\",\"28.0\",\"26.0\",\"24.0\",\"22.0\",\"20.0\",\"25.5\",\"33.0\",\"40.5\"],\"type\":\"scatter\"}],                        {\"template\":{\"data\":{\"histogram2dcontour\":[{\"type\":\"histogram2dcontour\",\"colorbar\":{\"outlinewidth\":0,\"ticks\":\"\"},\"colorscale\":[[0.0,\"#0d0887\"],[0.1111111111111111,\"#46039f\"],[0.2222222222222222,\"#7201a8\"],[0.3333333333333333,\"#9c179e\"],[0.4444444444444444,\"#bd3786\"],[0.5555555555555556,\"#d8576b\"],[0.6666666666666666,\"#ed7953\"],[0.7777777777777778,\"#fb9f3a\"],[0.8888888888888888,\"#fdca26\"],[1.0,\"#f0f921\"]]}],\"choropleth\":[{\"type\":\"choropleth\",\"colorbar\":{\"outlinewidth\":0,\"ticks\":\"\"}}],\"histogram2d\":[{\"type\":\"histogram2d\",\"colorbar\":{\"outlinewidth\":0,\"ticks\":\"\"},\"colorscale\":[[0.0,\"#0d0887\"],[0.1111111111111111,\"#46039f\"],[0.2222222222222222,\"#7201a8\"],[0.3333333333333333,\"#9c179e\"],[0.4444444444444444,\"#bd3786\"],[0.5555555555555556,\"#d8576b\"],[0.6666666666666666,\"#ed7953\"],[0.7777777777777778,\"#fb9f3a\"],[0.8888888888888888,\"#fdca26\"],[1.0,\"#f0f921\"]]}],\"heatmap\":[{\"type\":\"heatmap\",\"colorbar\":{\"outlinewidth\":0,\"ticks\":\"\"},\"colorscale\":[[0.0,\"#0d0887\"],[0.1111111111111111,\"#46039f\"],[0.2222222222222222,\"#7201a8\"],[0.3333333333333333,\"#9c179e\"],[0.4444444444444444,\"#bd3786\"],[0.5555555555555556,\"#d8576b\"],[0.6666666666666666,\"#ed7953\"],[0.7777777777777778,\"#fb9f3a\"],[0.8888888888888888,\"#fdca26\"],[1.0,\"#f0f921\"]]}],\"heatmapgl\":[{\"type\":\"heatmapgl\",\"colorbar\":{\"outlinewidth\":0,\"ticks\":\"\"},\"colorscale\":[[0.0,\"#0d0887\"],[0.1111111111111111,\"#46039f\"],[0.2222222222222222,\"#7201a8\"],[0.3333333333333333,\"#9c179e\"],[0.4444444444444444,\"#bd3786\"],[0.5555555555555556,\"#d8576b\"],[0.6666666666666666,\"#ed7953\"],[0.7777777777777778,\"#fb9f3a\"],[0.8888888888888888,\"#fdca26\"],[1.0,\"#f0f921\"]]}],\"contourcarpet\":[{\"type\":\"contourcarpet\",\"colorbar\":{\"outlinewidth\":0,\"ticks\":\"\"}}],\"contour\":[{\"type\":\"contour\",\"colorbar\":{\"outlinewidth\":0,\"ticks\":\"\"},\"colorscale\":[[0.0,\"#0d0887\"],[0.1111111111111111,\"#46039f\"],[0.2222222222222222,\"#7201a8\"],[0.3333333333333333,\"#9c179e\"],[0.4444444444444444,\"#bd3786\"],[0.5555555555555556,\"#d8576b\"],[0.6666666666666666,\"#ed7953\"],[0.7777777777777778,\"#fb9f3a\"],[0.8888888888888888,\"#fdca26\"],[1.0,\"#f0f921\"]]}],\"surface\":[{\"type\":\"surface\",\"colorbar\":{\"outlinewidth\":0,\"ticks\":\"\"},\"colorscale\":[[0.0,\"#0d0887\"],[0.1111111111111111,\"#46039f\"],[0.2222222222222222,\"#7201a8\"],[0.3333333333333333,\"#9c179e\"],[0.4444444444444444,\"#bd3786\"],[0.5555555555555556,\"#d8576b\"],[0.6666666666666666,\"#ed7953\"],[0.7777777777777778,\"#fb9f3a\"],[0.8888888888888888,\"#fdca26\"],[1.0,\"#f0f921\"]]}],\"mesh3d\":[{\"type\":\"mesh3d\",\"colorbar\":{\"outlinewidth\":0,\"ticks\":\"\"}}],\"scatter\":[{\"fillpattern\":{\"fillmode\":\"overlay\",\"size\":10,\"solidity\":0.2},\"type\":\"scatter\"}],\"parcoords\":[{\"type\":\"parcoords\",\"line\":{\"colorbar\":{\"outlinewidth\":0,\"ticks\":\"\"}}}],\"scatterpolargl\":[{\"type\":\"scatterpolargl\",\"marker\":{\"colorbar\":{\"outlinewidth\":0,\"ticks\":\"\"}}}],\"bar\":[{\"error_x\":{\"color\":\"#2a3f5f\"},\"error_y\":{\"color\":\"#2a3f5f\"},\"marker\":{\"line\":{\"color\":\"#E5ECF6\",\"width\":0.5},\"pattern\":{\"fillmode\":\"overlay\",\"size\":10,\"solidity\":0.2}},\"type\":\"bar\"}],\"scattergeo\":[{\"type\":\"scattergeo\",\"marker\":{\"colorbar\":{\"outlinewidth\":0,\"ticks\":\"\"}}}],\"scatterpolar\":[{\"type\":\"scatterpolar\",\"marker\":{\"colorbar\":{\"outlinewidth\":0,\"ticks\":\"\"}}}],\"histogram\":[{\"marker\":{\"pattern\":{\"fillmode\":\"overlay\",\"size\":10,\"solidity\":0.2}},\"type\":\"histogram\"}],\"scattergl\":[{\"type\":\"scattergl\",\"marker\":{\"colorbar\":{\"outlinewidth\":0,\"ticks\":\"\"}}}],\"scatter3d\":[{\"type\":\"scatter3d\",\"line\":{\"colorbar\":{\"outlinewidth\":0,\"ticks\":\"\"}},\"marker\":{\"colorbar\":{\"outlinewidth\":0,\"ticks\":\"\"}}}],\"scattermapbox\":[{\"type\":\"scattermapbox\",\"marker\":{\"colorbar\":{\"outlinewidth\":0,\"ticks\":\"\"}}}],\"scatterternary\":[{\"type\":\"scatterternary\",\"marker\":{\"colorbar\":{\"outlinewidth\":0,\"ticks\":\"\"}}}],\"scattercarpet\":[{\"type\":\"scattercarpet\",\"marker\":{\"colorbar\":{\"outlinewidth\":0,\"ticks\":\"\"}}}],\"carpet\":[{\"aaxis\":{\"endlinecolor\":\"#2a3f5f\",\"gridcolor\":\"white\",\"linecolor\":\"white\",\"minorgridcolor\":\"white\",\"startlinecolor\":\"#2a3f5f\"},\"baxis\":{\"endlinecolor\":\"#2a3f5f\",\"gridcolor\":\"white\",\"linecolor\":\"white\",\"minorgridcolor\":\"white\",\"startlinecolor\":\"#2a3f5f\"},\"type\":\"carpet\"}],\"table\":[{\"cells\":{\"fill\":{\"color\":\"#EBF0F8\"},\"line\":{\"color\":\"white\"}},\"header\":{\"fill\":{\"color\":\"#C8D4E3\"},\"line\":{\"color\":\"white\"}},\"type\":\"table\"}],\"barpolar\":[{\"marker\":{\"line\":{\"color\":\"#E5ECF6\",\"width\":0.5},\"pattern\":{\"fillmode\":\"overlay\",\"size\":10,\"solidity\":0.2}},\"type\":\"barpolar\"}],\"pie\":[{\"automargin\":true,\"type\":\"pie\"}]},\"layout\":{\"autotypenumbers\":\"strict\",\"colorway\":[\"#636efa\",\"#EF553B\",\"#00cc96\",\"#ab63fa\",\"#FFA15A\",\"#19d3f3\",\"#FF6692\",\"#B6E880\",\"#FF97FF\",\"#FECB52\"],\"font\":{\"color\":\"#2a3f5f\"},\"hovermode\":\"closest\",\"hoverlabel\":{\"align\":\"left\"},\"paper_bgcolor\":\"white\",\"plot_bgcolor\":\"#E5ECF6\",\"polar\":{\"bgcolor\":\"#E5ECF6\",\"angularaxis\":{\"gridcolor\":\"white\",\"linecolor\":\"white\",\"ticks\":\"\"},\"radialaxis\":{\"gridcolor\":\"white\",\"linecolor\":\"white\",\"ticks\":\"\"}},\"ternary\":{\"bgcolor\":\"#E5ECF6\",\"aaxis\":{\"gridcolor\":\"white\",\"linecolor\":\"white\",\"ticks\":\"\"},\"baxis\":{\"gridcolor\":\"white\",\"linecolor\":\"white\",\"ticks\":\"\"},\"caxis\":{\"gridcolor\":\"white\",\"linecolor\":\"white\",\"ticks\":\"\"}},\"coloraxis\":{\"colorbar\":{\"outlinewidth\":0,\"ticks\":\"\"}},\"colorscale\":{\"sequential\":[[0.0,\"#0d0887\"],[0.1111111111111111,\"#46039f\"],[0.2222222222222222,\"#7201a8\"],[0.3333333333333333,\"#9c179e\"],[0.4444444444444444,\"#bd3786\"],[0.5555555555555556,\"#d8576b\"],[0.6666666666666666,\"#ed7953\"],[0.7777777777777778,\"#fb9f3a\"],[0.8888888888888888,\"#fdca26\"],[1.0,\"#f0f921\"]],\"sequentialminus\":[[0.0,\"#0d0887\"],[0.1111111111111111,\"#46039f\"],[0.2222222222222222,\"#7201a8\"],[0.3333333333333333,\"#9c179e\"],[0.4444444444444444,\"#bd3786\"],[0.5555555555555556,\"#d8576b\"],[0.6666666666666666,\"#ed7953\"],[0.7777777777777778,\"#fb9f3a\"],[0.8888888888888888,\"#fdca26\"],[1.0,\"#f0f921\"]],\"diverging\":[[0,\"#8e0152\"],[0.1,\"#c51b7d\"],[0.2,\"#de77ae\"],[0.3,\"#f1b6da\"],[0.4,\"#fde0ef\"],[0.5,\"#f7f7f7\"],[0.6,\"#e6f5d0\"],[0.7,\"#b8e186\"],[0.8,\"#7fbc41\"],[0.9,\"#4d9221\"],[1,\"#276419\"]]},\"xaxis\":{\"gridcolor\":\"white\",\"linecolor\":\"white\",\"ticks\":\"\",\"title\":{\"standoff\":15},\"zerolinecolor\":\"white\",\"automargin\":true,\"zerolinewidth\":2},\"yaxis\":{\"gridcolor\":\"white\",\"linecolor\":\"white\",\"ticks\":\"\",\"title\":{\"standoff\":15},\"zerolinecolor\":\"white\",\"automargin\":true,\"zerolinewidth\":2},\"scene\":{\"xaxis\":{\"backgroundcolor\":\"#E5ECF6\",\"gridcolor\":\"white\",\"linecolor\":\"white\",\"showbackground\":true,\"ticks\":\"\",\"zerolinecolor\":\"white\",\"gridwidth\":2},\"yaxis\":{\"backgroundcolor\":\"#E5ECF6\",\"gridcolor\":\"white\",\"linecolor\":\"white\",\"showbackground\":true,\"ticks\":\"\",\"zerolinecolor\":\"white\",\"gridwidth\":2},\"zaxis\":{\"backgroundcolor\":\"#E5ECF6\",\"gridcolor\":\"white\",\"linecolor\":\"white\",\"showbackground\":true,\"ticks\":\"\",\"zerolinecolor\":\"white\",\"gridwidth\":2}},\"shapedefaults\":{\"line\":{\"color\":\"#2a3f5f\"}},\"annotationdefaults\":{\"arrowcolor\":\"#2a3f5f\",\"arrowhead\":0,\"arrowwidth\":1},\"geo\":{\"bgcolor\":\"white\",\"landcolor\":\"#E5ECF6\",\"subunitcolor\":\"white\",\"showland\":true,\"showlakes\":true,\"lakecolor\":\"white\"},\"title\":{\"x\":0.05},\"mapbox\":{\"style\":\"light\"}}},\"title\":{\"text\":\"Multiple Line Plot\"},\"xaxis\":{\"title\":{\"text\":\"Timestep\"}},\"yaxis\":{\"title\":{\"text\":\"Value\"},\"autorange\":\"reversed\"}},                        {\"responsive\": true}                    ).then(function(){\n",
       "                            \n",
       "var gd = document.getElementById('caf1113e-866a-427f-8369-884ace485372');\n",
       "var x = new MutationObserver(function (mutations, observer) {{\n",
       "        var display = window.getComputedStyle(gd).display;\n",
       "        if (!display || display === 'none') {{\n",
       "            console.log([gd, 'removed!']);\n",
       "            Plotly.purge(gd);\n",
       "            observer.disconnect();\n",
       "        }}\n",
       "}});\n",
       "\n",
       "// Listen for the removal of the full notebook cells\n",
       "var notebookContainer = gd.closest('#notebook-container');\n",
       "if (notebookContainer) {{\n",
       "    x.observe(notebookContainer, {childList: true});\n",
       "}}\n",
       "\n",
       "// Listen for the clearing of the current output cell\n",
       "var outputEl = gd.closest('.output');\n",
       "if (outputEl) {{\n",
       "    x.observe(outputEl, {childList: true});\n",
       "}}\n",
       "\n",
       "                        })                };                });            </script>        </div>"
      ]
     },
     "metadata": {},
     "output_type": "display_data"
    }
   ],
   "source": [
    "plot_data_lines(newdf, 'Timestep', ['EVs Charge Level_unpacked_0', 'EVs Charge Level_unpacked_1', 'EVs Charge Level_unpacked_2', 'EVs Charge Level_unpacked_3', 'EVs Charge Level_unpacked_4'])"
   ]
  },
  {
   "cell_type": "code",
   "execution_count": null,
   "metadata": {},
   "outputs": [],
   "source": []
  },
  {
   "attachments": {},
   "cell_type": "markdown",
   "metadata": {},
   "source": [
    "### Scrapbook"
   ]
  },
  {
   "cell_type": "code",
   "execution_count": null,
   "metadata": {},
   "outputs": [],
   "source": []
  }
 ],
 "metadata": {
  "kernelspec": {
   "display_name": "Python 3",
   "language": "python",
   "name": "python3"
  },
  "language_info": {
   "codemirror_mode": {
    "name": "ipython",
    "version": 3
   },
   "file_extension": ".py",
   "mimetype": "text/x-python",
   "name": "python",
   "nbconvert_exporter": "python",
   "pygments_lexer": "ipython3",
   "version": "3.11.2"
  },
  "orig_nbformat": 4,
  "vscode": {
   "interpreter": {
    "hash": "aee8b7b246df8f9039afb4144a1f6fd8d2ca17a180786b69acc140d282b71a49"
   }
  }
 },
 "nbformat": 4,
 "nbformat_minor": 2
}
