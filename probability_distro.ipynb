{
 "cells": [
  {
   "attachments": {},
   "cell_type": "markdown",
   "metadata": {},
   "source": [
    "# Approach 1"
   ]
  },
  {
   "cell_type": "code",
   "execution_count": 78,
   "metadata": {},
   "outputs": [
    {
     "name": "stdout",
     "output_type": "stream",
     "text": [
      "2017-07-14 03:40:00\n"
     ]
    }
   ],
   "source": [
    "import datetime\n",
    "timestamp = datetime.datetime.fromtimestamp(1500000000)\n",
    "print(timestamp.strftime('%Y-%m-%d %H:%M:%S'))\n",
    "\n",
    "def generate_timestamp(seed: int) -> int:\n",
    "    # Set the seed for the random number generator\n",
    "    random.seed(seed)\n",
    "\n",
    "    # Generate a random timestamp using a normal distribution with mean 100 and standard deviation 15\n",
    "    timestamp = int(np.random.normal(100, 15))\n",
    "\n",
    "    return timestamp\n"
   ]
  },
  {
   "cell_type": "code",
   "execution_count": 40,
   "metadata": {},
   "outputs": [
    {
     "name": "stdout",
     "output_type": "stream",
     "text": [
      "86\n"
     ]
    }
   ],
   "source": [
    "\n",
    "import random\n",
    "import numpy as np\n",
    "timestamp = generate_timestamp(123)\n",
    "print(timestamp)"
   ]
  },
  {
   "cell_type": "code",
   "execution_count": 41,
   "metadata": {},
   "outputs": [
    {
     "name": "stdout",
     "output_type": "stream",
     "text": [
      "Time in Seconds: 43200\n",
      "Time in hh:mm:ss: 12:00:00\n",
      "12:00:00\n"
     ]
    }
   ],
   "source": [
    "from datetime import timedelta\n",
    "import random\n",
    "import numpy as np\n",
    "\n",
    "sec = 43200\n",
    "print('Time in Seconds:', sec)\n",
    "\n",
    "td = timedelta(seconds=sec)\n",
    "print('Time in hh:mm:ss:', td)\n",
    "\n",
    "# Use the below code if you want it in a string\n",
    "print(str(timedelta(seconds=sec)))\n",
    "\n",
    "def generate_timestamp(seed: int) -> int:\n",
    "    # Set the seed for the random number generator\n",
    "    random.seed(seed)\n",
    "\n",
    "    # Generate a random timestamp using a normal distribution with mean 100 and standard deviation 15\n",
    "    timestamp = int(np.random.normal(100, 15))\n",
    "\n",
    "    return timestamp\n"
   ]
  },
  {
   "attachments": {},
   "cell_type": "markdown",
   "metadata": {},
   "source": [
    "# Overview - approaches for probability distribution"
   ]
  },
  {
   "attachments": {},
   "cell_type": "markdown",
   "metadata": {},
   "source": [
    "# Approach 2 - Specified probability approach"
   ]
  },
  {
   "attachments": {},
   "cell_type": "markdown",
   "metadata": {},
   "source": [
    "Given certain input hours converted into seconds, and probabilities, select input hour.\n",
    "reference:\n",
    "https://docs.scipy.org/doc/scipy/reference/generated/scipy.stats.rv_discrete.html"
   ]
  },
  {
   "cell_type": "code",
   "execution_count": 71,
   "metadata": {},
   "outputs": [],
   "source": [
    "# e.g # 9 am = 32400 # noon = 43200 # 24hrs = 86400\n",
    "# times = [6,8,10,12]\n",
    "# t_probs = [0.1, 0.2, 0.4, 0.3]\n",
    "\n",
    "times = [6,8,10,12,14,16,18,20,22]\n",
    "t_probs = [0.1, 0.2, 0.05, 0.05, 0.05, 0.2, 0.15, 0.1, 0.1]"
   ]
  },
  {
   "cell_type": "code",
   "execution_count": 70,
   "metadata": {},
   "outputs": [
    {
     "name": "stdout",
     "output_type": "stream",
     "text": [
      "1.0\n"
     ]
    }
   ],
   "source": [
    "a = sum(t_probs)\n",
    "print(a)"
   ]
  },
  {
   "cell_type": "code",
   "execution_count": 48,
   "metadata": {},
   "outputs": [],
   "source": [
    "def _convert_hr_to_sec(input: int) -> int:\n",
    "    \"\"\"function converts hour to sec.\n",
    "    Args:\n",
    "    input: an integer.\n",
    "\n",
    "    Returns:\n",
    "    out: a scaled version of input integer.\n",
    "    \"\"\"\n",
    "    \n",
    "    out = input * 3600\n",
    "    return out\n"
   ]
  },
  {
   "cell_type": "code",
   "execution_count": 51,
   "metadata": {},
   "outputs": [
    {
     "name": "stdout",
     "output_type": "stream",
     "text": [
      "[21600, 28800, 36000, 43200]\n"
     ]
    }
   ],
   "source": [
    "output_list = [_convert_hr_to_sec(i) for i in times]\n",
    "print(output_list)"
   ]
  },
  {
   "cell_type": "code",
   "execution_count": 45,
   "metadata": {},
   "outputs": [],
   "source": [
    "import scipy.stats\n",
    "\n",
    "def generate_probability_distribution(values, probabilities):\n",
    "  \"\"\"Generates a probability distribution using scipy.stats.rv_discrete.\n",
    "\n",
    "  Args:\n",
    "    values: A list of values for the discrete random variable.\n",
    "    probabilities: A list of probabilities for the corresponding values.\n",
    "\n",
    "  Returns:\n",
    "    A scipy.stats.rv_discrete object representing the probability distribution.\n",
    "  \"\"\"\n",
    "  return scipy.stats.rv_discrete(values=(values, probabilities))\n"
   ]
  },
  {
   "cell_type": "code",
   "execution_count": 77,
   "metadata": {},
   "outputs": [
    {
     "name": "stdout",
     "output_type": "stream",
     "text": [
      "[16 20 20 12  8 18  8 18 18 12]\n"
     ]
    }
   ],
   "source": [
    "t_distro = generate_probability_distribution(times, t_probs)\n",
    "\n",
    "# Generate a random sample from the distribution\n",
    "t_sample = t_distro.rvs(size=10)\n",
    "print(t_sample)"
   ]
  },
  {
   "attachments": {},
   "cell_type": "markdown",
   "metadata": {},
   "source": [
    "Rough work - Please Ignore"
   ]
  },
  {
   "cell_type": "code",
   "execution_count": null,
   "metadata": {},
   "outputs": [],
   "source": []
  },
  {
   "attachments": {},
   "cell_type": "markdown",
   "metadata": {},
   "source": [
    "# Approach 3 - moments - mean,sd"
   ]
  },
  {
   "cell_type": "code",
   "execution_count": null,
   "metadata": {},
   "outputs": [],
   "source": [
    "# import uniform distribution\n",
    "from scipy.stats import uniform\n",
    "# random numbers from uniform distribution\n",
    "n = 10000\n",
    "start = 10\n",
    "width = 20\n",
    "data_uniform = uniform.rvs(size=n, loc = start, scale=width)\n",
    "ax = sns.distplot(data_uniform,\n",
    "                  bins=100,\n",
    "                  kde=True,\n",
    "                  color='skyblue',\n",
    "                  hist_kws={\"linewidth\": 15,'alpha':1})\n",
    "ax.set(xlabel='Uniform Distribution ', ylabel='Frequency')\n"
   ]
  },
  {
   "cell_type": "code",
   "execution_count": 15,
   "metadata": {},
   "outputs": [
    {
     "name": "stderr",
     "output_type": "stream",
     "text": [
      "/var/folders/kg/f35djr1563d18wz4pw_nkv2m0000gn/T/ipykernel_88855/670887352.py:6: UserWarning: \n",
      "\n",
      "`distplot` is a deprecated function and will be removed in seaborn v0.14.0.\n",
      "\n",
      "Please adapt your code to use either `displot` (a figure-level function with\n",
      "similar flexibility) or `histplot` (an axes-level function for histograms).\n",
      "\n",
      "For a guide to updating your code to use the new functions, please see\n",
      "https://gist.github.com/mwaskom/de44147ed2974457ad6372750bbe5751\n",
      "\n",
      "  ax = sns.distplot(data_normal,\n"
     ]
    },
    {
     "data": {
      "text/plain": [
       "[Text(0.5, 0, 'Normal Distribution'), Text(0, 0.5, 'Frequency')]"
      ]
     },
     "execution_count": 15,
     "metadata": {},
     "output_type": "execute_result"
    },
    {
     "data": {
      "image/png": "[encoded data removed]",
      "text/plain": [
       "<Figure size 640x480 with 1 Axes>"
      ]
     },
     "metadata": {},
     "output_type": "display_data"
    }
   ],
   "source": [
    "# normal distribution\n",
    "from scipy.stats import norm\n",
    "import seaborn as sns\n",
    "# generate random numbers from N(0,1)\n",
    "data_normal = norm.rvs(size=1000,loc=12,scale=2, random_state = 42)\n",
    "ax = sns.distplot(data_normal,\n",
    "                  bins=100,\n",
    "                  kde=True,\n",
    "                  color='skyblue',\n",
    "                  hist_kws={\"linewidth\": 15,'alpha':1})\n",
    "ax.set(xlabel='Normal Distribution', ylabel='Frequency')\n",
    "\n",
    "# loc=mean, scale=sd, size=no_of_samples"
   ]
  },
  {
   "cell_type": "code",
   "execution_count": 11,
   "metadata": {},
   "outputs": [],
   "source": [
    "from scipy.stats import poisson\n",
    "data_poisson = poisson.rvs(mu=3, size=1000, random_state = 42)\n",
    "# ax = sns.distplot(data_poisson,\n",
    "#                   bins=30,\n",
    "#                   kde=False,\n",
    "#                   color='skyblue',\n",
    "#                   hist_kws={\"linewidth\": 15,'alpha':1})\n",
    "# ax.set(xlabel='Poisson Distribution', ylabel='Frequency')"
   ]
  },
  {
   "attachments": {},
   "cell_type": "markdown",
   "metadata": {},
   "source": [
    "# Other"
   ]
  },
  {
   "cell_type": "code",
   "execution_count": 46,
   "metadata": {},
   "outputs": [],
   "source": [
    "# Generate a probability distribution for the discrete random variable X,\n",
    "# where X can take on the values 0, 1, or 2 with probabilities 0.1, 0.2, and 0.7, respectively.\n",
    "# values = [0, 1, 2]\n",
    "# probabilities = [0.1, 0.2, 0.7]\n",
    "# distribution = generate_probability_distribution(values, probabilities)\n",
    "\n",
    "# Generate a random sample from the distribution\n",
    "# sample = distribution.rvs(size=10)\n",
    "# print(sample)\n"
   ]
  }
 ],
 "metadata": {
  "kernelspec": {
   "display_name": "Python 3",
   "language": "python",
   "name": "python3"
  },
  "language_info": {
   "codemirror_mode": {
    "name": "ipython",
    "version": 3
   },
   "file_extension": ".py",
   "mimetype": "text/x-python",
   "name": "python",
   "nbconvert_exporter": "python",
   "pygments_lexer": "ipython3",
   "version": "3.9.6 (default, Sep 26 2022, 11:37:49) \n[Clang 14.0.0 (clang-1400.0.29.202)]"
  },
  "orig_nbformat": 4,
  "vscode": {
   "interpreter": {
    "hash": "31f2aee4e71d21fbe5cf8b01ff0e069b9275f58929596ceb00d14d90e3e16cd6"
   }
  }
 },
 "nbformat": 4,
 "nbformat_minor": 2
}
