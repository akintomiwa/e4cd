{
 "cells": [
  {
   "attachments": {},
   "cell_type": "markdown",
   "metadata": {},
   "source": [
    "### AB Model from spec"
   ]
  },
  {
   "attachments": {},
   "cell_type": "markdown",
   "metadata": {},
   "source": [
    "Package installation"
   ]
  },
  {
   "cell_type": "code",
   "execution_count": 1,
   "metadata": {},
   "outputs": [],
   "source": [
    "# !pip3 install seaborn\n",
    "# !pip3 install python-statemachine\n",
    "# !pip3 install mesa\n",
    "# !pip3 install transitions\n",
    "# !pip3 install scipy\n",
    "# !pip3 install cufflinks\n",
    "# !pip3 install graphviz pygraphviz\n",
    "# !pip3 install graphviz\n",
    "# !pip3 install transitions[diagrams]\n",
    "# !pip3 uninstall mesa"
   ]
  },
  {
   "attachments": {},
   "cell_type": "markdown",
   "metadata": {},
   "source": [
    "Package importation"
   ]
  },
  {
   "cell_type": "code",
   "execution_count": 2,
   "metadata": {},
   "outputs": [
    {
     "data": {
      "text/html": [
       "        <script type=\"text/javascript\">\n",
       "        window.PlotlyConfig = {MathJaxConfig: 'local'};\n",
       "        if (window.MathJax && window.MathJax.Hub && window.MathJax.Hub.Config) {window.MathJax.Hub.Config({SVG: {font: \"STIX-Web\"}});}\n",
       "        if (typeof require !== 'undefined') {\n",
       "        require.undef(\"plotly\");\n",
       "        requirejs.config({\n",
       "            paths: {\n",
       "                'plotly': ['https://cdn.plot.ly/plotly-2.16.1.min']\n",
       "            }\n",
       "        });\n",
       "        require(['plotly'], function(Plotly) {\n",
       "            window._Plotly = Plotly;\n",
       "        });\n",
       "        }\n",
       "        </script>\n",
       "        "
      ]
     },
     "metadata": {},
     "output_type": "display_data"
    }
   ],
   "source": [
    "# imports\n",
    "import os\n",
    "import seaborn as sns\n",
    "from random import choice\n",
    "import warnings\n",
    "warnings.simplefilter(\"ignore\")\n",
    "import pandas as pd\n",
    "import numpy as np\n",
    "import mesa\n",
    "from mesa import Agent, Model\n",
    "from mesa.time import RandomActivation, RandomActivationByType ,SimultaneousActivation\n",
    "from mesa.datacollection import DataCollector\n",
    "from matplotlib import pyplot as plt, patches\n",
    "import scipy.stats as ss\n",
    "import cufflinks as cf\n",
    "cf.go_offline()\n",
    "from plotly.offline import iplot\n",
    "from transitions import Machine\n",
    "import random\n",
    "from transitions.extensions import GraphMachine\n",
    "import graphviz\n",
    "import timeit\n",
    "import logging\n",
    "os.environ[\"PATH\"] += os.pathsep + '/Users/isaacao/homebrew/bin' # for graphviz"
   ]
  },
  {
   "attachments": {},
   "cell_type": "markdown",
   "metadata": {},
   "source": [
    "Model component importation"
   ]
  },
  {
   "cell_type": "code",
   "execution_count": 3,
   "metadata": {},
   "outputs": [
    {
     "data": {
      "text/html": [
       "        <script type=\"text/javascript\">\n",
       "        window.PlotlyConfig = {MathJaxConfig: 'local'};\n",
       "        if (window.MathJax && window.MathJax.Hub && window.MathJax.Hub.Config) {window.MathJax.Hub.Config({SVG: {font: \"STIX-Web\"}});}\n",
       "        if (typeof require !== 'undefined') {\n",
       "        require.undef(\"plotly\");\n",
       "        requirejs.config({\n",
       "            paths: {\n",
       "                'plotly': ['https://cdn.plot.ly/plotly-2.16.1.min']\n",
       "            }\n",
       "        });\n",
       "        require(['plotly'], function(Plotly) {\n",
       "            window._Plotly = Plotly;\n",
       "        });\n",
       "        }\n",
       "        </script>\n",
       "        "
      ]
     },
     "metadata": {},
     "output_type": "display_data"
    }
   ],
   "source": [
    "from EV.agent import EV, Cpoint\n",
    "import EV.model as model\n",
    "from EV.statemachine import EVSM\n",
    "from EV.model import get_evs_charged, get_evs_charge_level, get_evs_active, get_evs_charging, get_evs_travel, get_evs_not_idle, get_active_cpoints, get_eod_evs_socs, get_evs_destinations, get_ev_distance_covered"
   ]
  },
  {
   "attachments": {},
   "cell_type": "markdown",
   "metadata": {},
   "source": [
    "State diagram"
   ]
  },
  {
   "attachments": {},
   "cell_type": "markdown",
   "metadata": {},
   "source": [
    "### Model"
   ]
  },
  {
   "attachments": {},
   "cell_type": "markdown",
   "metadata": {},
   "source": [
    "Model parameters"
   ]
  },
  {
   "cell_type": "code",
   "execution_count": 4,
   "metadata": {},
   "outputs": [],
   "source": [
    "ticks =  24 # 3600 ticks = 3600 seconds = 1 hour\n",
    "no_evs = 3\n",
    "# no of cps must be fixed\n",
    "no_cps = 7"
   ]
  },
  {
   "cell_type": "code",
   "execution_count": 16,
   "metadata": {},
   "outputs": [],
   "source": [
    "# checkpoints = range(40, 300, 40)\n",
    "# print(checkpoints)\n",
    "# import numpy as np\n",
    "# start = 40\n",
    "# n = 6\n",
    "# interval = 40\n",
    "# l = np.arange(start, interval * n , interval)\n",
    "# print(l)"
   ]
  },
  {
   "cell_type": "code",
   "execution_count": null,
   "metadata": {},
   "outputs": [],
   "source": [
    "def compute_checkpoints(no_cps) -> list:\n",
    "    start = 40\n",
    "    n = no_cps\n",
    "    interval = 40\n",
    "    checkpoints = np.arange(start, interval * n , interval)\n",
    "    # print(checkpoints)\n",
    "    return checkpoints"
   ]
  },
  {
   "attachments": {},
   "cell_type": "markdown",
   "metadata": {},
   "source": [
    "Run Model"
   ]
  },
  {
   "cell_type": "code",
   "execution_count": 10,
   "metadata": {},
   "outputs": [
    {
     "name": "stdout",
     "output_type": "stream",
     "text": [
      "EV No 1 initialized. Journey type: InterUrban. Vehicle State: Idle\n",
      "EV info: ID: 0, destination name: City C , distance goal: 245, max_battery: 69, speed: 20, energy consumption rate 0.5\n",
      "EV No 2 initialized. Journey type: Urban. Vehicle State: Idle\n",
      "EV info: ID: 1, destination name: friend_2 , distance goal: 135, max_battery: 42, speed: 10, energy consumption rate 0.2\n",
      "EV No 3 initialized. Journey type: InterUrban. Vehicle State: Idle\n",
      "EV info: ID: 2, destination name: City B , distance goal: 140, max_battery: 50, speed: 20, energy consumption rate 0.5\n",
      "CP info: ID: 3, initialized. Charge rate: 7.5 kW.\n",
      "Model initialised. 3 EVs and 1 Charging Points.\n",
      "\n",
      "Current timestep (tick): 1.\n",
      "Current EV state: Travel\n",
      "Vehicle 0 is travelling. Odometer: 20, Battery: 59.0\n",
      "Current EV state: Travel\n",
      "Vehicle id: 0. This vehicle has travelled: 20 miles\n",
      "Vehicle id: 0. This vehicle's current charge level is: 59.0 kWh\n",
      "Current EV state: Travel\n",
      "Vehicle 1 is travelling. Odometer: 10, Battery: 40.0\n",
      "Current EV state: Travel\n",
      "Vehicle id: 1. This vehicle has travelled: 10 miles\n",
      "Vehicle id: 1. This vehicle's current charge level is: 40.0 kWh\n",
      "Current EV state: Travel\n",
      "Vehicle 2 is travelling. Odometer: 20, Battery: 40.0\n",
      "Current EV state: Travel\n",
      "Vehicle id: 2. This vehicle has travelled: 20 miles\n",
      "Vehicle id: 2. This vehicle's current charge level is: 40.0 kWh\n",
      "\n",
      "Current timestep (tick): 2.\n",
      "Vehicle 0 is travelling. Odometer: 40, Battery: 49.0\n",
      "Current EV state: Travel\n",
      "Vehicle id: 0. This vehicle has travelled: 40 miles\n",
      "Vehicle id: 0. This vehicle's current charge level is: 49.0 kWh\n",
      "EV has arrived at Charge Station (Chargepoint) but is not yet low on battery\n",
      "Vehicle 1 is travelling. Odometer: 20, Battery: 38.0\n",
      "Current EV state: Travel\n",
      "Vehicle id: 1. This vehicle has travelled: 20 miles\n",
      "Vehicle id: 1. This vehicle's current charge level is: 38.0 kWh\n",
      "Vehicle 2 is travelling. Odometer: 40, Battery: 30.0\n",
      "Current EV state: Travel\n",
      "Vehicle id: 2. This vehicle has travelled: 40 miles\n",
      "Vehicle id: 2. This vehicle's current charge level is: 30.0 kWh\n",
      "EV has arrived at Charge Station (Chargepoint) but is not yet low on battery\n",
      "\n",
      "Current timestep (tick): 3.\n",
      "Vehicle 0 is travelling. Odometer: 60, Battery: 39.0\n",
      "Current EV state: Travel\n",
      "Vehicle id: 0. This vehicle has travelled: 60 miles\n",
      "Vehicle id: 0. This vehicle's current charge level is: 39.0 kWh\n",
      "Vehicle 1 is travelling. Odometer: 30, Battery: 36.0\n",
      "Current EV state: Travel\n",
      "Vehicle id: 1. This vehicle has travelled: 30 miles\n",
      "Vehicle id: 1. This vehicle's current charge level is: 36.0 kWh\n",
      "Vehicle 2 is travelling. Odometer: 60, Battery: 20.0\n",
      "Current EV state: Travel\n",
      "Vehicle id: 2. This vehicle has travelled: 60 miles\n",
      "Vehicle id: 2. This vehicle's current charge level is: 20.0 kWh\n",
      "EV 2 is low on charge and is seeking a charge station. Current charge: 20.0 kWh\n",
      "Vehicle 2 is travelling. Odometer: 80, Battery: 10.0\n",
      "EV 2 is low on battery and is at a Station. Seeking charge queue. Current EV state: Seek_queue\n",
      "Charge Station selected: 3\n",
      "Length of queue 1: 0\n",
      "Length of queue 2: 0\n",
      "EV 2 selected queue 1 at Charge Station 3\n",
      "Vehicle 2 selected Charge Station: 3 for charging.\n",
      "\n",
      "Current timestep (tick): 4.\n",
      "Vehicle 0 is travelling. Odometer: 80, Battery: 29.0\n",
      "Current EV state: Travel\n",
      "Vehicle id: 0. This vehicle has travelled: 80 miles\n",
      "Vehicle id: 0. This vehicle's current charge level is: 29.0 kWh\n",
      "EV has arrived at Charge Station (Chargepoint) but is not yet low on battery\n",
      "Vehicle 1 is travelling. Odometer: 40, Battery: 34.0\n",
      "Current EV state: Travel\n",
      "Vehicle id: 1. This vehicle has travelled: 40 miles\n",
      "Vehicle id: 1. This vehicle's current charge level is: 34.0 kWh\n",
      "EV has arrived at Charge Station (Chargepoint) but is not yet low on battery\n",
      "\n",
      "Current timestep (tick): 5.\n",
      "Vehicle 0 is travelling. Odometer: 100, Battery: 19.0\n",
      "Current EV state: Travel\n",
      "Vehicle id: 0. This vehicle has travelled: 100 miles\n",
      "Vehicle id: 0. This vehicle's current charge level is: 19.0 kWh\n",
      "EV 0 is low on charge and is seeking a charge station. Current charge: 19.0 kWh\n",
      "Vehicle 0 is travelling. Odometer: 120, Battery: 9.0\n",
      "EV 0 is low on battery and is at a Station. Seeking charge queue. Current EV state: Seek_queue\n",
      "Charge Station selected: 3\n",
      "Length of queue 1: 0\n",
      "Length of queue 2: 0\n",
      "EV 0 selected queue 1 at Charge Station 3\n",
      "Vehicle 0 selected Charge Station: 3 for charging.\n",
      "Vehicle 1 is travelling. Odometer: 50, Battery: 32.0\n",
      "Current EV state: Travel\n",
      "Vehicle id: 1. This vehicle has travelled: 50 miles\n",
      "Vehicle id: 1. This vehicle's current charge level is: 32.0 kWh\n",
      "\n",
      "Current timestep (tick): 6.\n",
      "Vehicle 1 is travelling. Odometer: 60, Battery: 30.0\n",
      "Current EV state: Travel\n",
      "Vehicle id: 1. This vehicle has travelled: 60 miles\n",
      "Vehicle id: 1. This vehicle's current charge level is: 30.0 kWh\n",
      "\n",
      "Current timestep (tick): 7.\n",
      "Vehicle 1 is travelling. Odometer: 70, Battery: 28.0\n",
      "Current EV state: Travel\n",
      "Vehicle id: 1. This vehicle has travelled: 70 miles\n",
      "Vehicle id: 1. This vehicle's current charge level is: 28.0 kWh\n",
      "\n",
      "Current timestep (tick): 8.\n",
      "Vehicle 1 is travelling. Odometer: 80, Battery: 26.0\n",
      "Current EV state: Travel\n",
      "Vehicle id: 1. This vehicle has travelled: 80 miles\n",
      "Vehicle id: 1. This vehicle's current charge level is: 26.0 kWh\n",
      "EV has arrived at Charge Station (Chargepoint) but is not yet low on battery\n",
      "\n",
      "Current timestep (tick): 9.\n",
      "Vehicle 1 is travelling. Odometer: 90, Battery: 24.0\n",
      "Current EV state: Travel\n",
      "Vehicle id: 1. This vehicle has travelled: 90 miles\n",
      "Vehicle id: 1. This vehicle's current charge level is: 24.0 kWh\n",
      "\n",
      "Current timestep (tick): 10.\n",
      "Vehicle 1 is travelling. Odometer: 100, Battery: 22.0\n",
      "Current EV state: Travel\n",
      "Vehicle id: 1. This vehicle has travelled: 100 miles\n",
      "Vehicle id: 1. This vehicle's current charge level is: 22.0 kWh\n",
      "\n",
      "Current timestep (tick): 11.\n",
      "Vehicle 1 is travelling. Odometer: 110, Battery: 20.0\n",
      "Current EV state: Travel\n",
      "Vehicle id: 1. This vehicle has travelled: 110 miles\n",
      "Vehicle id: 1. This vehicle's current charge level is: 20.0 kWh\n",
      "\n",
      "Current timestep (tick): 12.\n",
      "Vehicle 1 is travelling. Odometer: 120, Battery: 18.0\n",
      "Current EV state: Travel\n",
      "Vehicle id: 1. This vehicle has travelled: 120 miles\n",
      "Vehicle id: 1. This vehicle's current charge level is: 18.0 kWh\n",
      "EV has arrived at Charge Station (Chargepoint) but is not yet low on battery\n",
      "\n",
      "Current timestep (tick): 13.\n",
      "Vehicle 1 is travelling. Odometer: 130, Battery: 16.0\n",
      "Current EV state: Travel\n",
      "Vehicle id: 1. This vehicle has travelled: 130 miles\n",
      "Vehicle id: 1. This vehicle's current charge level is: 16.0 kWh\n",
      "EV 1 is low on charge and is seeking a charge station. Current charge: 16.0 kWh\n",
      "Vehicle 1 is travelling. Odometer: 140, Battery: 14.0\n",
      "\n",
      "Current timestep (tick): 14.\n",
      "\n",
      "Current timestep (tick): 15.\n",
      "\n",
      "Current timestep (tick): 16.\n",
      "\n",
      "Current timestep (tick): 17.\n",
      "\n",
      "Current timestep (tick): 18.\n",
      "\n",
      "Current timestep (tick): 19.\n",
      "\n",
      "Current timestep (tick): 20.\n",
      "\n",
      "Current timestep (tick): 21.\n",
      "\n",
      "Current timestep (tick): 22.\n",
      "\n",
      "Current timestep (tick): 23.\n",
      "This is the end of day: 1.0\n",
      "Battery level at end of day: 9.0\n",
      "Battery level at end of day: 14.0\n",
      "Battery level at end of day: 10.0\n",
      "\n",
      "Current timestep (tick): 24.\n",
      "EV 1 is low on charge and is seeking a charge station. Current charge: 14.0 kWh\n",
      "Vehicle 1 is travelling. Odometer: 10, Battery: 12.0\n"
     ]
    }
   ],
   "source": [
    "model_run = model.EVModel(ticks=ticks, no_evs=no_evs, no_cps=no_cps)\n",
    "for i in range(ticks):\n",
    "    # print(len(model.evs))\n",
    "    model_run.step()"
   ]
  },
  {
   "cell_type": "code",
   "execution_count": null,
   "metadata": {},
   "outputs": [],
   "source": [
    "run_stats = model_run.datacollector.get_model_vars_dataframe()\n",
    "print(run_stats)"
   ]
  },
  {
   "cell_type": "code",
   "execution_count": null,
   "metadata": {},
   "outputs": [],
   "source": [
    "a = 26 % 24\n",
    "print(a) "
   ]
  },
  {
   "attachments": {},
   "cell_type": "markdown",
   "metadata": {},
   "source": [
    "Export results to CSV file"
   ]
  },
  {
   "cell_type": "code",
   "execution_count": null,
   "metadata": {},
   "outputs": [],
   "source": [
    "model_run.datacollector.get_model_vars_dataframe().to_csv('model_output.csv')"
   ]
  },
  {
   "attachments": {},
   "cell_type": "markdown",
   "metadata": {},
   "source": [
    "### Batching"
   ]
  },
  {
   "cell_type": "code",
   "execution_count": null,
   "metadata": {},
   "outputs": [],
   "source": [
    "from mesa.batchrunner import BatchRunner\n",
    "\n",
    "EVcounts = (100,500,1000)\n",
    "cpcounts = (1,2)\n",
    "tickcounts = (24,48)\n",
    "model_reporters={'EVs Charged': get_evs_charged,\n",
    "                'EVs Activated': get_evs_active,\n",
    "                'EVs Travelling': get_evs_travel,\n",
    "                'EVs Charge Level': get_evs_charge_level,\n",
    "                'EVs Currently charging': get_evs_charging,\n",
    "                'EVs Not Idle': get_evs_not_idle,\n",
    "                'EOD Battery SOC': get_eod_evs_socs,\n",
    "                'EVs Destinations': get_evs_destinations,\n",
    "                }\n",
    "# parameters = {\"no_evs\": range(1000,20000,3000), \"no_cps\": 1}\n",
    "parameters = {\"no_evs\": EVcounts, \"no_cps\": cpcounts, \"ticks\": tickcounts}\n",
    "batch_run = BatchRunner(model.EVModel, parameters, max_steps=24, iterations=1, model_reporters= model_reporters) #iterations=1\n",
    "batch_run.run_all()"
   ]
  },
  {
   "cell_type": "code",
   "execution_count": null,
   "metadata": {},
   "outputs": [],
   "source": [
    "# batch_df = batch_run.get_model_vars_dataframe()"
   ]
  },
  {
   "cell_type": "code",
   "execution_count": null,
   "metadata": {},
   "outputs": [],
   "source": [
    "# print(batch_df)"
   ]
  },
  {
   "attachments": {},
   "cell_type": "markdown",
   "metadata": {},
   "source": [
    "### Visualisations"
   ]
  },
  {
   "cell_type": "code",
   "execution_count": null,
   "metadata": {},
   "outputs": [],
   "source": []
  },
  {
   "attachments": {},
   "cell_type": "markdown",
   "metadata": {},
   "source": [
    "### Scrapbook"
   ]
  },
  {
   "cell_type": "code",
   "execution_count": null,
   "metadata": {},
   "outputs": [],
   "source": []
  }
 ],
 "metadata": {
  "kernelspec": {
   "display_name": "Python 3",
   "language": "python",
   "name": "python3"
  },
  "language_info": {
   "codemirror_mode": {
    "name": "ipython",
    "version": 3
   },
   "file_extension": ".py",
   "mimetype": "text/x-python",
   "name": "python",
   "nbconvert_exporter": "python",
   "pygments_lexer": "ipython3",
   "version": "3.9.6"
  },
  "orig_nbformat": 4,
  "vscode": {
   "interpreter": {
    "hash": "31f2aee4e71d21fbe5cf8b01ff0e069b9275f58929596ceb00d14d90e3e16cd6"
   }
  }
 },
 "nbformat": 4,
 "nbformat_minor": 2
}
