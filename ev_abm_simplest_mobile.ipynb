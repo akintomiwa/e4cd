{
 "cells": [
  {
   "attachments": {},
   "cell_type": "markdown",
   "metadata": {},
   "source": [
    "### Template Supermarket model\n"
   ]
  },
  {
   "cell_type": "code",
   "execution_count": 82,
   "metadata": {},
   "outputs": [
    {
     "data": {
      "text/html": [
       "        <script type=\"text/javascript\">\n",
       "        window.PlotlyConfig = {MathJaxConfig: 'local'};\n",
       "        if (window.MathJax && window.MathJax.Hub && window.MathJax.Hub.Config) {window.MathJax.Hub.Config({SVG: {font: \"STIX-Web\"}});}\n",
       "        if (typeof require !== 'undefined') {\n",
       "        require.undef(\"plotly\");\n",
       "        requirejs.config({\n",
       "            paths: {\n",
       "                'plotly': ['https://cdn.plot.ly/plotly-2.16.1.min']\n",
       "            }\n",
       "        });\n",
       "        require(['plotly'], function(Plotly) {\n",
       "            window._Plotly = Plotly;\n",
       "        });\n",
       "        }\n",
       "        </script>\n",
       "        "
      ]
     },
     "metadata": {},
     "output_type": "display_data"
    }
   ],
   "source": [
    "import warnings\n",
    "warnings.simplefilter(\"ignore\")\n",
    "import pandas as pd\n",
    "import numpy as np\n",
    "import mesa\n",
    "from mesa import Agent, Model\n",
    "from mesa.time import RandomActivation\n",
    "from mesa.datacollection import DataCollector\n",
    "from matplotlib import pyplot as plt, patches\n",
    "import scipy.stats as ss\n",
    "import cufflinks as cf\n",
    "cf.go_offline()\n",
    "from plotly.offline import iplot\n"
   ]
  },
  {
   "cell_type": "markdown",
   "metadata": {},
   "source": [
    "Model design"
   ]
  },
  {
   "cell_type": "code",
   "execution_count": 83,
   "metadata": {},
   "outputs": [],
   "source": [
    "# Config\n",
    "# ticks = 3600 # 3600 ticks = 3600 seconds = 1 hour\n",
    "ticks = 21600 # 3600 ticks = 3600 seconds = 6 hour\n",
    "no_customers = 500\n",
    "no_counters = 5\n",
    "avg_service_time = 45 # ticks/seconds per customer\n",
    "gross_margin_per_customer = 10 # dollars\n",
    "cost_per_counter = 300 # dollars"
   ]
  },
  {
   "cell_type": "code",
   "execution_count": 84,
   "metadata": {},
   "outputs": [],
   "source": [
    "def get_customers_arrived(model):\n",
    "    customers_arrived = [customer._arrived for customer in model.customers]\n",
    "    no_customers_arrived = np.sum(customers_arrived)\n",
    "    return no_customers_arrived\n",
    "\n",
    "\n",
    "def get_customers_served(model):\n",
    "    customers_served = [not(customer._service_exit is None)\n",
    "                        for customer in model.customers]\n",
    "    no_customers_served = np.sum(customers_served)\n",
    "    return no_customers_served\n",
    "\n",
    "\n",
    "def get_customers_balked(model):\n",
    "    customers_arrived = [customer._arrived for customer in model.customers]\n",
    "    # Customers who never joined a queue\n",
    "    customers_no_q = np.array(\n",
    "        [customer._q_entry is None for customer in model.customers])\n",
    "    no_customers_balked = np.sum(customers_arrived * customers_no_q)\n",
    "    return no_customers_balked\n",
    "\n",
    "\n",
    "def get_avg_queue_size(model):\n",
    "    queue_size = [len(counter.queue) for counter in model.counters]\n",
    "    avg_queue_size = np.mean(queue_size)\n",
    "    return avg_queue_size\n",
    "\n",
    "\n",
    "def get_avg_waiting_time(model):\n",
    "    customers_wait = [np.nan if customer._q_exit is None else\n",
    "                      customer._q_exit - customer._q_entry for customer in model.customers]\n",
    "    avg_customer_wait = np.nanmean(customers_wait)\n",
    "    return avg_customer_wait\n",
    "\n",
    "\n",
    "def get_gross_margin(model):\n",
    "    return gross_margin_per_customer * get_customers_served(model)\n",
    "\n",
    "\n",
    "def get_operating_costs(model):\n",
    "    return cost_per_counter * no_counters\n",
    "\n",
    "\n",
    "def get_total_profit(model):\n",
    "    return get_gross_margin(model) - get_operating_costs(model)\n"
   ]
  },
  {
   "cell_type": "code",
   "execution_count": 85,
   "metadata": {},
   "outputs": [
    {
     "name": "stdout",
     "output_type": "stream",
     "text": [
      "24\n"
     ]
    }
   ],
   "source": [
    "# no_customers\n",
    "# a = ss.poisson(45).rvs()\n",
    "# print(a)\n",
    "# mu = 0.6\n",
    "# mean, var, skew, kurt = ss.poisson.stats(mu, moments='mvsk')\n",
    "# print(var)\n",
    "# a = ss.poisson(45).rvs(15, loc=5, size=1, random_state=None)\n",
    "a = ss.poisson.rvs(15, loc=5, random_state=None)\n",
    "print(a)"
   ]
  },
  {
   "cell_type": "code",
   "execution_count": 86,
   "metadata": {},
   "outputs": [
    {
     "ename": "NameError",
     "evalue": "name 'self' is not defined",
     "output_type": "error",
     "traceback": [
      "\u001b[0;31m---------------------------------------------------------------------------\u001b[0m",
      "\u001b[0;31mNameError\u001b[0m                                 Traceback (most recent call last)",
      "Cell \u001b[0;32mIn[86], line 71\u001b[0m\n\u001b[1;32m     67\u001b[0m             \u001b[39mif\u001b[39;00m \u001b[39mself\u001b[39m\u001b[39m.\u001b[39mmodel\u001b[39m.\u001b[39m_current_tick \u001b[39m-\u001b[39m \u001b[39mself\u001b[39m\u001b[39m.\u001b[39m_service_entry \u001b[39m==\u001b[39m \u001b[39mself\u001b[39m\u001b[39m.\u001b[39mservice_time:\n\u001b[1;32m     68\u001b[0m                 \u001b[39mself\u001b[39m\u001b[39m.\u001b[39mpay_n_leave()\n\u001b[0;32m---> 71\u001b[0m \u001b[39mclass\u001b[39;00m \u001b[39mCounter\u001b[39;00m(Agent):\n\u001b[1;32m     72\u001b[0m     \u001b[39mdef\u001b[39;00m \u001b[39m__init__\u001b[39m(\u001b[39mself\u001b[39m, unique_id, model):\n\u001b[1;32m     73\u001b[0m         \u001b[39msuper\u001b[39m()\u001b[39m.\u001b[39m\u001b[39m__init__\u001b[39m(unique_id, model)\n",
      "Cell \u001b[0;32mIn[86], line 90\u001b[0m, in \u001b[0;36mCounter\u001b[0;34m()\u001b[0m\n\u001b[1;32m     88\u001b[0m         \u001b[39mself\u001b[39m\u001b[39m.\u001b[39mdequeue()\n\u001b[1;32m     89\u001b[0m     \u001b[39m# if \u001b[39;00m\n\u001b[0;32m---> 90\u001b[0m \u001b[39mif\u001b[39;00m \u001b[39mlen\u001b[39m(\u001b[39mself\u001b[39;49m\u001b[39m.\u001b[39mCounter\u001b[39m.\u001b[39mqueue) \u001b[39m>\u001b[39m \u001b[39m5\u001b[39m:\n\u001b[1;32m     91\u001b[0m     \u001b[39mself\u001b[39m\u001b[39m.\u001b[39mshedule\u001b[39m.\u001b[39madd(counter)\n\u001b[1;32m     92\u001b[0m     \u001b[39mself\u001b[39m\u001b[39m.\u001b[39mcounters\u001b[39m.\u001b[39mappend(counter)\n",
      "\u001b[0;31mNameError\u001b[0m: name 'self' is not defined"
     ]
    }
   ],
   "source": [
    "class Customer(Agent):\n",
    "    def __init__(self, unique_id, model):\n",
    "        super().__init__(unique_id, model)\n",
    "        # Time for customer shopping\n",
    "        self.shopping_time = ss.poisson(45).rvs() \n",
    "        # self._shopping_entry\n",
    "        # Time required to process the customer's transaction\n",
    "        self.service_time = ss.poisson(45).rvs()\n",
    "        self.shopping_time = ss.poisson(45).rvs()\n",
    "        # Time of arrival at queue\n",
    "        self.entry_time = (np.int(ss.beta(3, 3).rvs() * ticks) + 1) + self.shopping_time\n",
    "        self.balk_tolerance = ss.poisson(5).rvs() + 1\n",
    "        # # Shopping\n",
    "        # self._shopping_entry = None\n",
    "        # self._shopping_exit = None\n",
    "        # self._enter_store = False\n",
    "        # Time of entry and exit into the Store \n",
    "        self._shop_start = None\n",
    "        self._shop_stop = None\n",
    "        # Whether or not the customer has arrived at the queue\n",
    "        self._arrived = False\n",
    "        self._chosen_counter = None\n",
    "        self._q_entry = None\n",
    "        self._q_exit = None\n",
    "        # Start time when customer is being served\n",
    "        self._service_entry = None\n",
    "        # End time\n",
    "        self._service_exit = None\n",
    "    def go_shopping(self):\n",
    "        self._enter_store = True\n",
    "        # self._shopping_entry\n",
    "        self.model._ #current time + shopping time, then set as model time for passing into queue\n",
    "    def select_counter(self):\n",
    "        self._arrived = True\n",
    "        # Queue at shortest counter\n",
    "        self._chosen_counter_idx = np.argmin([\n",
    "            len(counter.queue) for counter in self.model.counters])\n",
    "        self._chosen_counter = self.model.counters[self._chosen_counter_idx]\n",
    "        # Balk if there are too many people at the counter\n",
    "        if len(self._chosen_counter.queue) < self.balk_tolerance:\n",
    "            self._chosen_counter.queue.append(self)\n",
    "            self._q_entry = self.model._current_tick\n",
    "        # elif self.select_counter(self,new=yes)\n",
    "    \n",
    "    def select_counter(self): #modified\n",
    "        self._arrived = True\n",
    "        # Queue at shortest counter\n",
    "        self._chosen_counter_idx = np.argmin([\n",
    "            len(counter.queue) for counter in self.model.counters])\n",
    "        self._chosen_counter = self.model.counters[self._chosen_counter_idx]\n",
    "        # Balk if there are too many people at the counter\n",
    "        if len(self._chosen_counter.queue) < self.balk_tolerance:\n",
    "            self._chosen_counter.queue.append(self)\n",
    "            self._q_entry = self.model._current_tick\n",
    "        # elif self.select_counter(self,new=yes)\n",
    "\n",
    "    def pay_n_leave(self):\n",
    "        self._service_exit = self.model._current_tick\n",
    "        self._chosen_counter.active_customer = None\n",
    "\n",
    "    def step(self):\n",
    "        # if (self._enter_store == False) & (self.model._current_tick >= self._shop_start):\n",
    "        #     self.go_shopping(self)\n",
    "        if (self._arrived == False) & (self.model._current_tick >= self.entry_time):\n",
    "            self.select_counter()\n",
    "        elif isinstance(self._service_entry, int):\n",
    "            if self.model._current_tick - self._service_entry == self.service_time:\n",
    "                self.pay_n_leave()\n",
    "\n",
    "\n",
    "class Counter(Agent):\n",
    "    def __init__(self, unique_id, model):\n",
    "        super().__init__(unique_id, model)\n",
    "        self.queue = []\n",
    "        self.active_customer = None\n",
    "        self.entry_time = np.int(ss.uniform().rvs() * ticks) + 1\n",
    "\n",
    "    def dequeue(self):\n",
    "        try:\n",
    "            self.active_customer = self.queue.pop(0)\n",
    "            self.active_customer._service_entry = self.model._current_tick\n",
    "            self.active_customer._q_exit = self.model._current_tick\n",
    "        except:\n",
    "            pass\n",
    "\n",
    "    def step(self):\n",
    "        if self.active_customer is None:\n",
    "            self.dequeue()\n",
    "        # if \n",
    "    if len(self.Counter.queue) > 5:\n",
    "        self.shedule.add(counter)\n",
    "        self.counters.append(counter)\n",
    "\n",
    "class SMarket(Model):\n",
    "    \"\"\"Queueing model with customers and counters as two\n",
    "    types of agents that interact with each other\n",
    "    \"\"\"\n",
    "\n",
    "    def __init__(self, no_customers, no_counters, ticks):\n",
    "        self.ticks = ticks\n",
    "        self._current_tick = 1\n",
    "        self.no_customers = no_customers\n",
    "        self.no_counters = no_counters\n",
    "        self.schedule = RandomActivation(self)\n",
    "        # Create agents\n",
    "        self.customers = []\n",
    "        self.counters = []\n",
    "        for i in range(self.no_customers):\n",
    "            customer = Customer(i, self)\n",
    "            self.schedule.add(customer)\n",
    "            self.customers.append(customer)\n",
    "        for i in range(self.no_counters):\n",
    "            counter = Counter(i + no_customers, self)\n",
    "            self.schedule.add(counter)\n",
    "            self.counters.append(counter)\n",
    "\n",
    "        self.datacollector = DataCollector(\n",
    "            model_reporters={'Customers Arrived': get_customers_arrived,\n",
    "                             'Customers Served': get_customers_served,\n",
    "                             'Customers Balked': get_customers_balked,\n",
    "                             'Average Waiting Time': get_avg_waiting_time,\n",
    "                             'Average Queue Size': get_avg_queue_size,\n",
    "                             'Gross Margin': get_gross_margin,\n",
    "                             'Operating Costs': get_operating_costs,\n",
    "                             'Total Profit': get_total_profit})\n",
    "\n",
    "    def step(self):\n",
    "        '''Advance the model by one step.'''\n",
    "        self.datacollector.collect(self)\n",
    "        self.schedule.step()\n",
    "        self._current_tick += 1\n",
    "        # if self"
   ]
  },
  {
   "cell_type": "markdown",
   "metadata": {},
   "source": [
    "Model execution"
   ]
  },
  {
   "cell_type": "code",
   "execution_count": null,
   "metadata": {},
   "outputs": [],
   "source": [
    "model = SMarket(ticks=ticks,\n",
    "    no_customers=no_customers, no_counters=no_counters)\n",
    "\n",
    "for i in range(ticks):\n",
    "    model.step()"
   ]
  },
  {
   "cell_type": "code",
   "execution_count": null,
   "metadata": {},
   "outputs": [],
   "source": [
    "# run_stats = model.datacollector.get_model_vars_dataframe()\n",
    "\n",
    "# fig, (ax1, ax2, ax3, ax4) = plt.subplots(4, 1)\n",
    "# fig.figure.set_figwidth(12)\n",
    "# fig.figure.set_figheight(16)\n",
    "# fig.suptitle(f'Simulations stats using {no_counters} counters', fontsize=20)\n",
    "\n",
    "# ax1.plot(run_stats[['Customers Arrived',\n",
    "#                 'Customers Served',\n",
    "#                 'Customers Balked',\n",
    "#                ]])\n",
    "# ax1.legend(['Customers Arrived',\n",
    "#             'Customers Served',\n",
    "#             'Customers Balked',\n",
    "#             ])\n",
    "# ax1.set_ylabel('Customers')\n",
    "# ax1.set_xlim(0)\n",
    "# ax1.set_ylim(0)\n",
    "\n",
    "# ax2.plot(run_stats['Average Queue Size'], color='red')\n",
    "# ax2.legend(['Average Queue Size'])\n",
    "# ax2.set_ylabel('Customers')\n",
    "# ax2.set_xlim(0)\n",
    "# ax2.set_ylim(0)\n",
    "\n",
    "# ax3.plot(run_stats['Average Waiting Time'], color='grey')\n",
    "# ax3.legend(['Average Waiting Time (across full hour)'])\n",
    "# ax3.set_ylabel('Seconds')\n",
    "# ax3.set_xlim(0)\n",
    "# ax3.set_ylim(0)\n",
    "\n",
    "# ax4.plot(run_stats[['Gross Margin',\n",
    "#                 'Operating Costs',\n",
    "#                 'Total Profit'\n",
    "#                ]])\n",
    "# ax4.legend(['Gross Margin',\n",
    "#             'Operating Costs',\n",
    "#             'Total Profit'\n",
    "#             ])\n",
    "# ax4.set_ylabel('Dollars')\n",
    "# ax4.set_xlim(0)\n",
    "\n",
    "# fig.show()\n",
    "\n"
   ]
  },
  {
   "cell_type": "code",
   "execution_count": null,
   "metadata": {},
   "outputs": [],
   "source": [
    "# full_stats = {}\n",
    "\n",
    "# for no_counters in range (3, 16):\n",
    "#     model = SMarket(ticks=ticks,\n",
    "#     no_customers=no_customers, no_counters=no_counters)\n",
    "#     for i in range(ticks):\n",
    "#         model.step()   \n",
    "#     run_stats = model.datacollector.get_model_vars_dataframe()\n",
    "#     full_stats[no_counters] = run_stats.iloc[-1]\n",
    "    \n",
    "# pd.DataFrame(full_stats).transpose().astype(int)"
   ]
  },
  {
   "cell_type": "code",
   "execution_count": null,
   "metadata": {},
   "outputs": [],
   "source": [
    "# To-do Add new shopping behaviour to Customer class which includes time delay\n",
    "To D"
   ]
  },
  {
   "cell_type": "markdown",
   "metadata": {},
   "source": []
  },
  {
   "attachments": {},
   "cell_type": "markdown",
   "metadata": {},
   "source": [
    "### AB Model from spec"
   ]
  },
  {
   "attachments": {},
   "cell_type": "markdown",
   "metadata": {},
   "source": [
    "ATTR: _battery_size, _soc_thresh, _loc_init, _soc_init, \n",
    "BEH: take_journey, charge_overnight, journey_start (from probability distro), update_soc_theshold"
   ]
  },
  {
   "attachments": {},
   "cell_type": "markdown",
   "metadata": {},
   "source": [
    "Utility functions"
   ]
  },
  {
   "cell_type": "code",
   "execution_count": null,
   "metadata": {},
   "outputs": [],
   "source": [
    "# !pip install seaborn"
   ]
  },
  {
   "cell_type": "code",
<<<<<<< HEAD
   "execution_count": 98,
=======
   "execution_count": 1,
>>>>>>> e655c7724a24eec7a30e12fecb1ec342765d2a92
   "metadata": {},
   "outputs": [
    {
     "data": {
      "text/html": [
       "        <script type=\"text/javascript\">\n",
       "        window.PlotlyConfig = {MathJaxConfig: 'local'};\n",
       "        if (window.MathJax && window.MathJax.Hub && window.MathJax.Hub.Config) {window.MathJax.Hub.Config({SVG: {font: \"STIX-Web\"}});}\n",
       "        if (typeof require !== 'undefined') {\n",
       "        require.undef(\"plotly\");\n",
       "        requirejs.config({\n",
       "            paths: {\n",
       "                'plotly': ['https://cdn.plot.ly/plotly-2.16.1.min']\n",
       "            }\n",
       "        });\n",
       "        require(['plotly'], function(Plotly) {\n",
       "            window._Plotly = Plotly;\n",
       "        });\n",
       "        }\n",
       "        </script>\n",
       "        "
      ]
     },
     "metadata": {},
     "output_type": "display_data"
    }
   ],
   "source": [
    "# imports\n",
    "import seaborn as sns\n",
    "from random import choice\n",
    "import warnings\n",
    "warnings.simplefilter(\"ignore\")\n",
    "import pandas as pd\n",
    "import numpy as np\n",
    "import mesa\n",
    "from mesa import Agent, Model\n",
    "from mesa.time import RandomActivation\n",
    "from mesa.datacollection import DataCollector\n",
    "from matplotlib import pyplot as plt, patches\n",
    "import scipy.stats as ss\n",
    "import cufflinks as cf\n",
    "cf.go_offline()\n",
    "from plotly.offline import iplot"
   ]
  },
  {
   "cell_type": "code",
<<<<<<< HEAD
   "execution_count": 99,
=======
   "execution_count": 2,
>>>>>>> e655c7724a24eec7a30e12fecb1ec342765d2a92
   "metadata": {},
   "outputs": [],
   "source": [
    "# Config\n",
    "ticks = 240 # 240 ticks = 10 days\n",
    "no_cars = 10\n",
    "no_cpoints = 2\n"
   ]
  },
  {
   "cell_type": "code",
<<<<<<< HEAD
   "execution_count": 100,
=======
   "execution_count": 3,
>>>>>>> e655c7724a24eec7a30e12fecb1ec342765d2a92
   "metadata": {},
   "outputs": [],
   "source": [
    "# Method 1\n",
    "# # distr = ss.norm.rvs(size=1000,loc=12,scale=2, random_state = 42)\n",
    "# # print(distr[34])\n",
    "# x = np.arange(1, 25)\n",
    "# xU, xL = x + 0.5, x - 0.5 \n",
    "# prob = ss.norm.cdf(xU, scale = 3) - ss.norm.cdf(xL, scale = 3)\n",
    "# prob = prob / prob.sum() # normalize the probabilities so their sum is 1\n",
    "# nums = np.random.choice(x, size = 10000, p = prob)\n",
    "# plt.hist(nums, bins = len(x))\n",
    "\n",
    "# Method 2\n",
    "# import numpy as np\n",
    "# from scipy.stats import truncnorm\n",
    "# import matplotlib.pyplot as plt\n",
    "\n",
    "# scale = 3.\n",
    "# range = 10\n",
    "# size = 100000\n",
    "\n",
    "# X = truncnorm(a=-range/scale, b=+range/scale, scale=scale).rvs(size=size)\n",
    "# X = X.round().astype(int)\n",
    "# bins = 2 * range + 1\n",
    "# plt.hist(X, bins)\n"
   ]
  },
  {
   "cell_type": "code",
<<<<<<< HEAD:ev_abm_simplest.ipynb
<<<<<<< HEAD
   "execution_count": 101,
=======
   "execution_count": 4,
>>>>>>> e655c7724a24eec7a30e12fecb1ec342765d2a92
=======
   "execution_count": 3,
>>>>>>> be9813c1d1c79222d36b448e24020faebf6e09c7:ev_abm_simplest_mobile.ipynb
   "metadata": {},
   "outputs": [
    {
     "name": "stdout",
     "output_type": "stream",
     "text": [
      "12.648167938789591\n"
     ]
    }
   ],
   "source": [
    "# generate random numbers from N(0,1) # normal distribution for start time - 5am to 8pm\n",
    "# type -> array of 1000 elements\n",
    "data_normal = ss.norm.rvs(size=1000,loc=12,scale=2, random_state = 42)\n",
    "print(data_normal[50])"
   ]
  },
  {
   "cell_type": "code",
<<<<<<< HEAD:ev_abm_simplest.ipynb
<<<<<<< HEAD
   "execution_count": 191,
=======
   "execution_count": 5,
>>>>>>> e655c7724a24eec7a30e12fecb1ec342765d2a92
=======
   "execution_count": 4,
   "metadata": {},
   "outputs": [],
   "source": [
    "# class Car(Agent):\n",
    "#     \"\"\"\n",
    "#     Attr:\n",
    "\n",
    "#     Flags:\n",
    "    \n",
    "    \n",
    "#     \"\"\"\n",
    "#     def __init__(self, unique_id, model):\n",
    "#         super().__init__(unique_id, model)\n",
    "#         self._max_battery = 100\n",
    "#         self._soc_thresh = 10\n",
    "#         self._charge_rate = 20 #Vehicle soc rises at 20 per tick\n",
    "#         self._in_queue = False\n",
    "#         self._in_garage = False\n",
    "#         self._is_charging = False\n",
    "#         self._was_charged = False\n",
    "#         self._is_travelling = False\n",
    "#         self._journey_complete = False\n",
    "\n",
    "#         # self._chargerate = None\n",
    "#         # self._loc_init = \n",
    "#         # self._soc_init = 50 #initially 50 (+/- 10?). if over multiple days, use learnt value from prev day. If overnight charge, set to 100. write methods to handle cases later.\n",
    "#         # self.queue_time = self.chargerate * self. \n",
    "#         self.soc = ss.poisson(45).rvs()\n",
    "#         self._pos_init = None #Urgent Fix soon\n",
    "#         self._is_active = False\n",
    "#         self.odometer = 0\n",
    "#         self._distance_goal = 0\n",
    "#         self.journey_type = None\n",
    "#         # External \n",
    "#         self.journey_choice = choice([True, False])\n",
    "#         self.start_time = ss.norm.rvs(size=1000,loc=12,scale=2, random_state = 42)\n",
    "#         # self.select_journey_type()\n",
    "#         # self._cp_entry = None\n",
    "#         # self._cp_exit = None\n",
    "#         # self._charge_start = None\n",
    "\n",
    "#     def select_journey_type(self):\n",
    "#         self._is_active == True\n",
    "#         if self.journey_choice == True:\n",
    "#             self._distance_goal = 50\n",
    "#             self.journey_type = \"Urban\"\n",
    "#         else:\n",
    "#              self._distance_goal = 100\n",
    "#              self.journey_type = \"InterUrban\"\n",
    "\n",
    "#         # print(\"Journey type selected: \" + str(self._distance_goal))\n",
    "\n",
    "\n",
    "#     def travel(self):\n",
    "#         self._is_travelling = True\n",
    "#         self.odometer += 10\n",
    "#         self.soc -= 5\n",
    "#         # if self._is_travelling == True & self._is_active == True:\n",
    "#         if self._is_travelling == True:\n",
    "#             print(\"This car's id is: \" + str(self.unique_id) + \" and it's going on an \" + str(self.journey_type) + \" journey\" + \" with a distance goal of \" \n",
    "#             + str(self._distance_goal))\n",
    "\n",
    "\n",
    "#     # def select_cp(self):\n",
    "#     #     # self._in_queue = True\n",
    "#     #     # # queue at shortest cp\n",
    "#     #     # self._chosen_cp_idx = np.argmin([\n",
    "#     #     #     len(cpoint.queue) for cpoint in self.model.cpoints])\n",
    "#     #     # self._chosen_cp = self.model.cpoint[self._chosen_cpoint_idx]\n",
    "#     #     self._in_queue = True\n",
    "\n",
    "    \n",
    "#     def charge(self):\n",
    "#         self._is_charging = True\n",
    "#         # self._cp_exit = self.model._current_tick\n",
    "#         # self._chosen_cp.active_car = None\n",
    "#         # self.soc = self._max_battery\n",
    "#         # while self.soc < self._max_battery:\n",
    "#         #     self.soc += self._charge_rate\n",
    "#         #     if self.soc == self._max_battery:\n",
    "#         #         self._is_charging = False\n",
    "#         if self.soc < self._max_battery:\n",
    "#             self.soc += self._charge_rate\n",
    "#             print(\"Vehicle \" + str(self.unique_id) + \" is charging\")\n",
    "#         if self.soc == self._max_battery:\n",
    "#             print(\"Vehicle charged\")\n",
    "#         self._is_charging = False\n",
    "#         self._was_charged = True\n",
    "                \n",
    "\n",
    "#     def charge_overnight(self):\n",
    "#         if self._in_garage == True:\n",
    "#             self.soc = self._max_battery\n",
    "    \n",
    "#     # def step(self):\n",
    "#     #     if (self._in_queue == False) & (self.model._current_tick >= self.entry_time):\n",
    "#     #         self.select_cp()\n",
    "#     #     elif isinstance(self.self._cp_entry, int):\n",
    "#     #         if self.model._current_tick - self._cp_entry == self.charge_time:\n",
    "#     #             self.travel()\n",
    "#     def step(self):\n",
    "#         # while (self.odometer < self._distance_goal) & self.soc > self._soc_thresh: # didnt work. \n",
    "#         if (self.odometer < self._distance_goal):\n",
    "#             self.travel()\n",
    "#             print(\"Vehicle id: \" + str(self.unique_id) + \". This vehicle has travelled: \" + str(self.odometer) + \" distance units\")\n",
    "#             print(\"Vehicle id: \" + str(self.unique_id) + \". This vehicle's current charge level is: \" + str(self.soc) + \" kwh\")\n",
    "#             if self.odometer == self._distance_goal:\n",
    "#                 self._journey_complete == True\n",
    "#                 print(\"Vehicle \" + str(self.unique_id) + \" has completed its journey\")\n",
    "#                 # self._is_active == False\n",
    "#                 # self._is_travelling == False\n",
    "\n",
    "#         if self.soc < self._soc_thresh & (self._journey_complete == False):\n",
    "#             self._is_travelling == False\n",
    "#             print(\"Vehicle has hit SOC threshold. Heading to charging station\")\n",
    "#             # self._is_charging == True\n",
    "#             self.charge() #charge\n",
    "#             self.travel()\n",
    "            \n",
    "\n",
    "\n",
    "\n",
    "\n",
    "# class MainModel(Model):\n",
    "#     \"\"\"Simulation Model with cars and charging points as two types of agents, interacting.\"\"\"\n",
    "\n",
    "#     def __init__(self, no_cars, ticks):\n",
    "#         # super().__init__()\n",
    "#         # init with input args\n",
    "#         self.ticks = ticks\n",
    "#         self._current_tick = 1\n",
    "#         self.no_cars = no_cars\n",
    "#         # other key model attr \n",
    "#         self.schedule = RandomActivation(self)\n",
    "#         # Populate model with agents\n",
    "#         self.cars = []\n",
    "#         for i in range(self.no_cars):\n",
    "#             car = Car(i,self)\n",
    "#             self.schedule.add(car)\n",
    "\n",
    "#         self.datacollector = DataCollector(\n",
    "#             model_reporters={'Cars Charged': get_cars_charged,\n",
    "#                              'Cars Activated': get_cars_active})\n",
    "    \n",
    "#     def step(self):\n",
    "#         self.datacollector.collect(self)\n",
    "#         self.schedule.step()\n",
    "#         self._current_tick += 1\n",
    "\n"
   ]
  },
  {
   "cell_type": "code",
   "execution_count": 83,
>>>>>>> be9813c1d1c79222d36b448e24020faebf6e09c7:ev_abm_simplest_mobile.ipynb
   "metadata": {},
   "outputs": [],
   "source": [
    "class EV(Agent):\n",
    "    def __init__(self, unique_id, model):\n",
    "        super().__init__(unique_id, model)\n",
    "        \"\"\"\n",
    "        Class for describing vehicles (cars) in AB model\n",
    "        Attributes\n",
    "        Int: _max_battery, _soc_thresh, _charge_rate, soc\n",
    "        Bool flags: _is_active, _in_queue, _is_charging, _was_charged, _is_travelling, _journey_complete, _in_garage, \n",
    "        Other: journey_choice (random bool), start_time (int)\n",
    "\n",
    "        \"\"\"\n",
    "        # Attr\n",
    "        self._max_battery = 100\n",
    "        self._soc_thresh = 10\n",
    "        self._charge_rate = 10\n",
    "        self.soc = ss.poisson(45).rvs()\n",
    "        self.odometer = 0\n",
    "        \n",
    "        # External \n",
    "        self.journey_choice = choice([True, False])\n",
    "        self.start_time = ss.norm.rvs(size=1000,loc=12,scale=2, random_state = 42)\n",
    "\n",
    "        # unassigned attr\n",
    "        self._distance_goal = None\n",
    "        self.journey_type = None\n",
    "\n",
    "        # flags\n",
    "        self._is_active = False\n",
    "        self._in_queue = False\n",
    "        self._in_garage = False\n",
    "        self._is_charging = False\n",
    "        self._was_charged = False\n",
    "        self._is_travelling = False\n",
    "        self._journey_complete = False\n",
    "    \n",
    "        # unused\n",
    "        # self._cp_entry = None\n",
    "        # self._cp_exit = None\n",
    "        # self._charge_start = None\n",
    "\n",
    "        # To-DO location, charge rate, charging queue time requirement\n",
    "        # self._chargerate = None\n",
    "        # self._loc_init = \n",
    "        # self._soc_init = 50 #initially 50 (+/- 10?). if over multiple days, use learnt value from prev day. If overnight charge, set to 100. write methods to handle cases later.\n",
    "        # self.queue_time = self.chargerate * self. \n",
    "        self._pos_init = None #Urgent Fix soon\n",
<<<<<<< HEAD:ev_abm_simplest.ipynb
    "\n",
    "    def select_journey_type(self):\n",
    "        self._is_active == True\n",
=======
    "        self._is_active = False\n",
    "        self.odometer = 0\n",
    "        self._distance_goal = None\n",
    "        self.journey_type = None\n",
    "        # External \n",
    "        self.journey_choice = choice([True, False])\n",
    "        self.start_time = ss.norm.rvs(size=1000,loc=12,scale=2, random_state = 42)\n",
    "        # self._cp_entry = None\n",
    "        # self._cp_exit = None\n",
    "        # self._charge_start = None\n",
>>>>>>> be9813c1d1c79222d36b448e24020faebf6e09c7:ev_abm_simplest_mobile.ipynb
    "        if self.journey_choice == True:\n",
    "            self._distance_goal = 50\n",
    "            self.journey_type = \"Urban\"\n",
    "        else:\n",
    "             self._distance_goal = 100\n",
    "             self.journey_type = \"InterUrban\"\n",
    "\n",
    "    \n",
    "\n",
    "    # def select_journey_type(self):\n",
    "    #     self._is_active == True\n",
    "    #     if self.journey_choice == True:\n",
    "    #         self._distance_goal = 50\n",
    "    #         self.journey_type = \"Urban\"\n",
    "    #     else:\n",
    "    #          self._distance_goal = 100\n",
    "    #          self.journey_type = \"InterUrban\"\n",
    "    #     if self._is_travelling == True & self._is_active == True:\n",
    "    #         print(\"This car's id is: \" + str(self.unique_id) + \" and it's going on an \" + str(self.journey_type) + \" journey\" + \" with a distance goal of \" \n",
    "    #         + str(self._distance_goal))\n",
    "    #     # print(\"Journey type selected: \" + str(self._distance_goal))\n",
    "\n",
    "\n",
    "    def travel(self):\n",
    "        # self._is_active\n",
    "        self._is_travelling = True\n",
    "        self.odometer += 10\n",
    "        self.soc -= 5\n",
    "\n",
    "\n",
    "    # def select_cp(self):\n",
    "    #     # self._in_queue = True\n",
    "    #     # # queue at shortest cp\n",
    "    #     # self._chosen_cp_idx = np.argmin([\n",
    "    #     #     len(cpoint.queue) for cpoint in self.model.cpoints])\n",
    "    #     # self._chosen_cp = self.model.cpoint[self._chosen_cpoint_idx]\n",
    "    #     self._in_queue = True\n",
    "\n",
    "    \n",
    "    def charge(self):\n",
    "        self._is_charging = True\n",
    "        # self._cp_exit = self.model._current_tick\n",
    "        # self._chosen_cp.active_car = None\n",
    "        # self.soc = self._max_battery\n",
    "        # while self.soc < self._max_battery:\n",
    "        #     self.soc += self._charge_rate\n",
    "        #     if self.soc == self._max_battery:\n",
    "        #         self._is_charging = False\n",
    "        while self.soc < self._max_battery:\n",
    "            self.soc += self._charge_rate #actual will be in step method\n",
    "        print(\"Vehicle charged at hour: \" + str(model._current_tick))\n",
    "        self._is_charging = False\n",
    "        self._was_charged = True\n",
    "                \n",
    "\n",
    "    def charge_overnight(self):\n",
    "        if self._in_garage == True:\n",
    "            self.soc = self._max_battery\n",
    "    \n",
    "    # def step(self):\n",
    "    #     if (self._in_queue == False) & (self.model._current_tick >= self.entry_time):\n",
    "    #         self.select_cp()\n",
    "    #     elif isinstance(self.self._cp_entry, int):\n",
    "    #         if self.model._current_tick - self._cp_entry == self.charge_time:\n",
    "    #             self.travel()\n",
<<<<<<< HEAD:ev_abm_simplest.ipynb
    "    # too much happening in one tick \n",
=======
    "    # all happening in one step \n",
>>>>>>> be9813c1d1c79222d36b448e24020faebf6e09c7:ev_abm_simplest_mobile.ipynb
    "    # def step(self):\n",
    "    # # if self.model._current_tick >= self.start_time:\n",
    "    # # while (self.odometer < self._distance_goal) & self.soc > self._soc_thresh: # didnt work. \n",
    "    # self.select_journey_type()\n",
    "    # while (self.odometer < self._distance_goal):\n",
    "    #     self.travel()\n",
    "    #     print(\"Vehicle id: \" + str(self.unique_id) + \". This vehicle travelled: \" + str(self.odometer) + \" distance units\")\n",
    "    #     print(\"Vehicle id: \" + str(self.unique_id) + \". This vehicle's current charge level is: \" + str(self.soc) + \" kwh\")\n",
    "    #     if self.odometer == self._distance_goal:\n",
    "    #         self._journey_complete == True\n",
<<<<<<< HEAD:ev_abm_simplest.ipynb
    "    #         print(\"This vehicle has completed its journey\")\n",
=======
    "    #         print(\"This vehicle has completed its journey at\")\n",
>>>>>>> be9813c1d1c79222d36b448e24020faebf6e09c7:ev_abm_simplest_mobile.ipynb
    "    #         self._is_active == False\n",
    "    #         self._is_travelling == False\n",
    "\n",
    "    #     if self.soc < self._soc_thresh:\n",
    "    #         self._is_travelling == False\n",
    "    #         print(\"Vehicle has hit SOC threshold. Heading to charging station\")\n",
    "    #         self._is_charging == True\n",
    "    #         self.charge() #charge\n",
    "    #         self.travel()\n",
<<<<<<< HEAD:ev_abm_simplest.ipynb
    "            \n",
    "    def step(self):\n",
    "        # if self.model._current_tick >= self.start_time:\n",
    "        # while (self.odometer < self._distance_goal) & self.soc > self._soc_thresh: # didnt work. \n",
    "        self.select_journey_type()\n",
=======
    "        \n",
    "\n",
    "    # ////\n",
    "    def step(self):\n",
    "        # if self.model._current_tick >= self.start_time:\n",
    "        # while (self.odometer < self._distance_goal) & self.soc > self._soc_thresh: # didnt work. \n",
    "        # self.select_journey_type()\n",
>>>>>>> be9813c1d1c79222d36b448e24020faebf6e09c7:ev_abm_simplest_mobile.ipynb
    "        if (self.odometer < self._distance_goal):\n",
    "            self.travel()\n",
    "            print(\"Vehicle id: \" + str(self.unique_id) + \". This vehicle travelled: \" + str(self.odometer) + \" distance units\")\n",
    "            print(\"Vehicle id: \" + str(self.unique_id) + \". This vehicle's current charge level is: \" + str(self.soc) + \" kwh\")\n",
    "            if self.odometer == self._distance_goal:\n",
    "                self._journey_complete == True\n",
    "                print(\"This vehicle has completed its journey at\")\n",
    "                self._is_active == False\n",
    "                self._is_travelling == False\n",
    "\n",
    "            if self.soc < self._soc_thresh:\n",
    "                self._is_travelling == False\n",
    "                print(\"Vehicle has hit SOC threshold. Heading to charging station\")\n",
    "                # self._is_charging == True\n",
    "                self.charge() #charge\n",
    "                self.travel()\n",
    "            \n",
    "\n",
    "\n",
    "\n",
    "\n",
    "class EVModel(Model):\n",
    "    \"\"\"Simulation Model with cars and charging points as two types of agents, interacting.\"\"\"\n",
    "\n",
    "    def __init__(self, no_evs, ticks):\n",
    "        # super().__init__()\n",
    "        # init with input args\n",
    "        self.ticks = ticks\n",
    "        self._current_tick = 1\n",
    "        self.no_evs = no_evs\n",
    "        # other key model attr \n",
    "        self.schedule = RandomActivation(self)\n",
    "        # Populate model with agents\n",
<<<<<<< HEAD:ev_abm_simplest.ipynb
    "        self.cars = []\n",
    "        for i in range(self.no_cars):\n",
    "            car = Car(i, self)\n",
    "            self.schedule.add(car)\n",
=======
    "        self.evs = []\n",
    "        for i in range(self.no_evs):\n",
    "            ev = EV(i,self)\n",
    "            self.schedule.add(ev)\n",
>>>>>>> be9813c1d1c79222d36b448e24020faebf6e09c7:ev_abm_simplest_mobile.ipynb
    "\n",
    "        # self.datacollector = DataCollector(\n",
    "        #     model_reporters={'Cars Charged': get_cars_charged,\n",
    "        #                      'Cars Activated': get_cars_active})\n",
    "        self.datacollector = DataCollector(\n",
<<<<<<< HEAD:ev_abm_simplest.ipynb
    "            model_reporters={'Cars Charged': get_cars_charged,\n",
    "                            'Cars Activated': get_cars_active}, \n",
    "            agent_reporters ={\"Agent SOC\": get_agent_soc})\n",
=======
    "            model_reporters={'Cars Charged': get_evs_charged,\n",
    "                             'Cars Activated': get_evs_active}\n",
    "            )\n",
>>>>>>> be9813c1d1c79222d36b448e24020faebf6e09c7:ev_abm_simplest_mobile.ipynb
    "    \n",
    "    def step(self):\n",
    "        self.datacollector.collect(self)\n",
    "        self.schedule.step()\n",
    "        self._current_tick += 1"
   ]
  },
  {
   "cell_type": "code",
<<<<<<< HEAD:ev_abm_simplest.ipynb
<<<<<<< HEAD
   "execution_count": 196,
=======
   "execution_count": 6,
>>>>>>> e655c7724a24eec7a30e12fecb1ec342765d2a92
=======
   "execution_count": 79,
>>>>>>> be9813c1d1c79222d36b448e24020faebf6e09c7:ev_abm_simplest_mobile.ipynb
   "metadata": {},
   "outputs": [
    {
     "data": {
      "text/plain": [
       "0"
      ]
     },
     "execution_count": 79,
     "metadata": {},
     "output_type": "execute_result"
    }
   ],
   "source": [
<<<<<<< HEAD:ev_abm_simplest.ipynb
    "# def get_cars_charged(model):\n",
    "#     cars_charged = [car._was_charged == True for car in model.cars]\n",
    "#     no_cars_charged = np.sum(cars_charged)\n",
    "#     return no_cars_charged\n",
    "\n",
    "# def get_cars_active(model):\n",
    "#     cars_active = [car._is_active == True for car in model.cars]\n",
    "#     no_cars_active = np.sum(cars_active)\n",
    "#     return no_cars_active\n",
    "def get_cars_charged(model):\n",
    "    cars_charged = [car._was_charged for car in model.cars]\n",
    "    no_cars_charged = np.sum(cars_charged)\n",
    "    return no_cars_charged\n",
    "\n",
    "def get_cars_active(model):\n",
    "    cars_active = [car._is_active == True for car in model.cars]\n",
    "    no_cars_active = np.sum(cars_active)\n",
    "    return no_cars_active\n",
    "\n",
    "def get_agent_soc(model):\n",
    "    agent_soc = [car.soc for car in model.schedule.cars]\n",
    "    return agent_soc"
=======
    "# def get_evs_charged(model):\n",
    "#     evs_charged = [ev._was_charged for ev in model.evs]\n",
    "#     no_evs_charged = np.sum(evs_charged)\n",
    "#     return no_evs_charged\n",
    "\n",
    "# def get_evs_active(model):\n",
    "#     evs_active = [ev._is_active for ev in model.evs]\n",
    "#     no_evs_active = np.sum(evs_active)\n",
    "#     return no_evs_active\n",
    "\n",
    "# def get_evs_charged(model):\n",
    "#     evs_charged = [ev._was_charged for ev in model.evs]\n",
    "#     no_evs_charged = np.sum(evs_charged)\n",
    "#     return no_evs_charged\n",
    "\n",
    "# def get_evs_active(model):\n",
    "#     evs_active = [ev._is_active for ev in model.evs]\n",
    "#     no_evs_active = np.sum(evs_active)\n",
    "#     return no_evs_active"
>>>>>>> be9813c1d1c79222d36b448e24020faebf6e09c7:ev_abm_simplest_mobile.ipynb
   ]
  },
  {
   "cell_type": "code",
<<<<<<< HEAD:ev_abm_simplest.ipynb
<<<<<<< HEAD
   "execution_count": 197,
   "metadata": {},
   "outputs": [
    {
     "ename": "AttributeError",
     "evalue": "'Car' object has no attribute 'schedule'",
     "output_type": "error",
     "traceback": [
      "\u001b[0;31m---------------------------------------------------------------------------\u001b[0m",
      "\u001b[0;31mAttributeError\u001b[0m                            Traceback (most recent call last)",
      "Cell \u001b[0;32mIn[197], line 7\u001b[0m\n\u001b[1;32m      4\u001b[0m model \u001b[39m=\u001b[39m MainModel(ticks\u001b[39m=\u001b[39mticks,\n\u001b[1;32m      5\u001b[0m     no_cars\u001b[39m=\u001b[39mno_cars)\n\u001b[1;32m      6\u001b[0m \u001b[39mfor\u001b[39;00m i \u001b[39min\u001b[39;00m \u001b[39mrange\u001b[39m(ticks):\n\u001b[0;32m----> 7\u001b[0m     model\u001b[39m.\u001b[39;49mstep()\n",
      "Cell \u001b[0;32mIn[191], line 177\u001b[0m, in \u001b[0;36mMainModel.step\u001b[0;34m(self)\u001b[0m\n\u001b[1;32m    176\u001b[0m \u001b[39mdef\u001b[39;00m \u001b[39mstep\u001b[39m(\u001b[39mself\u001b[39m):\n\u001b[0;32m--> 177\u001b[0m     \u001b[39mself\u001b[39;49m\u001b[39m.\u001b[39;49mdatacollector\u001b[39m.\u001b[39;49mcollect(\u001b[39mself\u001b[39;49m)\n\u001b[1;32m    178\u001b[0m     \u001b[39mself\u001b[39m\u001b[39m.\u001b[39mschedule\u001b[39m.\u001b[39mstep()\n\u001b[1;32m    179\u001b[0m     \u001b[39mself\u001b[39m\u001b[39m.\u001b[39m_current_tick \u001b[39m+\u001b[39m\u001b[39m=\u001b[39m \u001b[39m1\u001b[39m\n",
      "File \u001b[0;32m~/.local/share/virtualenvs/eCharge-6UtsfbOy/lib/python3.9/site-packages/mesa/datacollection.py:195\u001b[0m, in \u001b[0;36mDataCollector.collect\u001b[0;34m(self, model)\u001b[0m\n\u001b[1;32m    193\u001b[0m \u001b[39mif\u001b[39;00m \u001b[39mself\u001b[39m\u001b[39m.\u001b[39magent_reporters:\n\u001b[1;32m    194\u001b[0m     agent_records \u001b[39m=\u001b[39m \u001b[39mself\u001b[39m\u001b[39m.\u001b[39m_record_agents(model)\n\u001b[0;32m--> 195\u001b[0m     \u001b[39mself\u001b[39m\u001b[39m.\u001b[39m_agent_records[model\u001b[39m.\u001b[39mschedule\u001b[39m.\u001b[39msteps] \u001b[39m=\u001b[39m \u001b[39mlist\u001b[39;49m(agent_records)\n",
      "File \u001b[0;32m~/.local/share/virtualenvs/eCharge-6UtsfbOy/lib/python3.9/site-packages/mesa/datacollection.py:167\u001b[0m, in \u001b[0;36mDataCollector._record_agents.<locals>.get_reports\u001b[0;34m(agent)\u001b[0m\n\u001b[1;32m    165\u001b[0m \u001b[39mdef\u001b[39;00m \u001b[39mget_reports\u001b[39m(agent):\n\u001b[1;32m    166\u001b[0m     _prefix \u001b[39m=\u001b[39m (agent\u001b[39m.\u001b[39mmodel\u001b[39m.\u001b[39mschedule\u001b[39m.\u001b[39msteps, agent\u001b[39m.\u001b[39munique_id)\n\u001b[0;32m--> 167\u001b[0m     reports \u001b[39m=\u001b[39m \u001b[39mtuple\u001b[39;49m(rep(agent) \u001b[39mfor\u001b[39;49;00m rep \u001b[39min\u001b[39;49;00m rep_funcs)\n\u001b[1;32m    168\u001b[0m     \u001b[39mreturn\u001b[39;00m _prefix \u001b[39m+\u001b[39m reports\n",
      "File \u001b[0;32m~/.local/share/virtualenvs/eCharge-6UtsfbOy/lib/python3.9/site-packages/mesa/datacollection.py:167\u001b[0m, in \u001b[0;36m<genexpr>\u001b[0;34m(.0)\u001b[0m\n\u001b[1;32m    165\u001b[0m \u001b[39mdef\u001b[39;00m \u001b[39mget_reports\u001b[39m(agent):\n\u001b[1;32m    166\u001b[0m     _prefix \u001b[39m=\u001b[39m (agent\u001b[39m.\u001b[39mmodel\u001b[39m.\u001b[39mschedule\u001b[39m.\u001b[39msteps, agent\u001b[39m.\u001b[39munique_id)\n\u001b[0;32m--> 167\u001b[0m     reports \u001b[39m=\u001b[39m \u001b[39mtuple\u001b[39m(rep(agent) \u001b[39mfor\u001b[39;00m rep \u001b[39min\u001b[39;00m rep_funcs)\n\u001b[1;32m    168\u001b[0m     \u001b[39mreturn\u001b[39;00m _prefix \u001b[39m+\u001b[39m reports\n",
      "Cell \u001b[0;32mIn[196], line 21\u001b[0m, in \u001b[0;36mget_agent_soc\u001b[0;34m(model)\u001b[0m\n\u001b[1;32m     20\u001b[0m \u001b[39mdef\u001b[39;00m \u001b[39mget_agent_soc\u001b[39m(model):\n\u001b[0;32m---> 21\u001b[0m     agent_soc \u001b[39m=\u001b[39m [car\u001b[39m.\u001b[39msoc \u001b[39mfor\u001b[39;00m car \u001b[39min\u001b[39;00m model\u001b[39m.\u001b[39;49mschedule\u001b[39m.\u001b[39mcars]\n\u001b[1;32m     22\u001b[0m     \u001b[39mreturn\u001b[39;00m agent_soc\n",
      "\u001b[0;31mAttributeError\u001b[0m: 'Car' object has no attribute 'schedule'"
=======
   "execution_count": 7,
=======
   "execution_count": 84,
>>>>>>> be9813c1d1c79222d36b448e24020faebf6e09c7:ev_abm_simplest_mobile.ipynb
   "metadata": {},
   "outputs": [
    {
     "name": "stdout",
     "output_type": "stream",
     "text": [
      "0\n",
      "Vehicle id: 0. This vehicle travelled: 10 distance units\n",
      "Vehicle id: 0. This vehicle's current charge level is: 47 kwh\n",
      "Vehicle id: 1. This vehicle travelled: 10 distance units\n",
      "Vehicle id: 1. This vehicle's current charge level is: 36 kwh\n",
      "0\n",
      "Vehicle id: 1. This vehicle travelled: 20 distance units\n",
      "Vehicle id: 1. This vehicle's current charge level is: 31 kwh\n",
      "Vehicle id: 0. This vehicle travelled: 20 distance units\n",
      "Vehicle id: 0. This vehicle's current charge level is: 42 kwh\n",
      "0\n",
      "Vehicle id: 0. This vehicle travelled: 30 distance units\n",
      "Vehicle id: 0. This vehicle's current charge level is: 37 kwh\n",
      "Vehicle id: 1. This vehicle travelled: 30 distance units\n",
      "Vehicle id: 1. This vehicle's current charge level is: 26 kwh\n",
      "0\n",
      "Vehicle id: 1. This vehicle travelled: 40 distance units\n",
      "Vehicle id: 1. This vehicle's current charge level is: 21 kwh\n",
      "Vehicle id: 0. This vehicle travelled: 40 distance units\n",
      "Vehicle id: 0. This vehicle's current charge level is: 32 kwh\n",
      "0\n",
      "Vehicle id: 1. This vehicle travelled: 50 distance units\n",
      "Vehicle id: 1. This vehicle's current charge level is: 16 kwh\n",
      "This vehicle has completed its journey at\n",
      "Vehicle id: 0. This vehicle travelled: 50 distance units\n",
      "Vehicle id: 0. This vehicle's current charge level is: 27 kwh\n",
<<<<<<< HEAD:ev_abm_simplest.ipynb
      "This vehicle has completed its journey\n",
      "Vehicle id: 1. This vehicle travelled: 10 distance units\n",
      "Vehicle id: 1. This vehicle's current charge level is: 35 kwh\n",
      "Vehicle id: 1. This vehicle travelled: 20 distance units\n",
      "Vehicle id: 1. This vehicle's current charge level is: 30 kwh\n",
      "Vehicle id: 1. This vehicle travelled: 30 distance units\n",
      "Vehicle id: 1. This vehicle's current charge level is: 25 kwh\n",
      "Vehicle id: 1. This vehicle travelled: 40 distance units\n",
      "Vehicle id: 1. This vehicle's current charge level is: 20 kwh\n",
      "Vehicle id: 1. This vehicle travelled: 50 distance units\n",
      "Vehicle id: 1. This vehicle's current charge level is: 15 kwh\n",
      "Vehicle id: 1. This vehicle travelled: 60 distance units\n",
      "Vehicle id: 1. This vehicle's current charge level is: 10 kwh\n",
      "Vehicle id: 1. This vehicle travelled: 70 distance units\n",
      "Vehicle id: 1. This vehicle's current charge level is: 5 kwh\n",
      "Vehicle has hit SOC threshold. Heading to charging station\n",
      "Vehicle charged\n",
      "Vehicle id: 1. This vehicle travelled: 90 distance units\n",
      "Vehicle id: 1. This vehicle's current charge level is: 95 kwh\n",
      "Vehicle id: 1. This vehicle travelled: 100 distance units\n",
      "Vehicle id: 1. This vehicle's current charge level is: 90 kwh\n",
      "This vehicle has completed its journey\n"
>>>>>>> e655c7724a24eec7a30e12fecb1ec342765d2a92
=======
      "This vehicle has completed its journey at\n",
      "0\n",
      "0\n",
      "0\n",
      "0\n",
      "0\n",
      "0\n",
      "0\n",
      "0\n",
      "0\n",
      "0\n",
      "0\n",
      "0\n",
      "0\n",
      "0\n",
      "0\n",
      "0\n",
      "0\n",
      "0\n",
      "0\n",
      "0\n",
      "0\n",
      "0\n",
      "0\n",
      "0\n",
      "0\n",
      "0\n",
      "0\n",
      "0\n",
      "0\n",
      "0\n",
      "0\n",
      "0\n",
      "0\n",
      "0\n",
      "0\n",
      "0\n",
      "0\n",
      "0\n",
      "0\n",
      "0\n",
      "0\n",
      "0\n",
      "0\n"
>>>>>>> be9813c1d1c79222d36b448e24020faebf6e09c7:ev_abm_simplest_mobile.ipynb
     ]
    }
   ],
   "source": [
<<<<<<< HEAD:ev_abm_simplest.ipynb
    "ticks = 24 # 3600 ticks = 3600 seconds = 1 hour\n",
    "no_cars = 1\n",
=======
    "ticks = 48 # 3600 ticks = 3600 seconds = 1 hour\n",
    "no_evs = 2\n",
>>>>>>> be9813c1d1c79222d36b448e24020faebf6e09c7:ev_abm_simplest_mobile.ipynb
    "# no_cpoints = 2\n",
    "model = EVModel(ticks=ticks,\n",
    "    no_evs=no_evs)\n",
    "for i in range(ticks):\n",
    "    print(len(model.evs))\n",
    "    model.step()"
   ]
  },
  {
   "cell_type": "code",
<<<<<<< HEAD:ev_abm_simplest.ipynb
<<<<<<< HEAD
   "execution_count": 132,
   "metadata": {},
   "outputs": [
    {
     "data": {
      "text/plain": [
       "<__main__.MainModel at 0x7ff22105f460>"
      ]
     },
     "execution_count": 132,
     "metadata": {},
     "output_type": "execute_result"
    }
   ],
   "source": [
    "model"
   ]
  },
  {
   "cell_type": "code",
   "execution_count": 174,
=======
   "execution_count": 8,
>>>>>>> e655c7724a24eec7a30e12fecb1ec342765d2a92
=======
   "execution_count": 65,
>>>>>>> be9813c1d1c79222d36b448e24020faebf6e09c7:ev_abm_simplest_mobile.ipynb
   "metadata": {},
   "outputs": [
    {
     "data": {
      "text/html": [
       "<div>\n",
       "<style scoped>\n",
       "    .dataframe tbody tr th:only-of-type {\n",
       "        vertical-align: middle;\n",
       "    }\n",
       "\n",
       "    .dataframe tbody tr th {\n",
       "        vertical-align: top;\n",
       "    }\n",
       "\n",
       "    .dataframe thead th {\n",
       "        text-align: right;\n",
       "    }\n",
       "</style>\n",
       "<table border=\"1\" class=\"dataframe\">\n",
       "  <thead>\n",
       "    <tr style=\"text-align: right;\">\n",
       "      <th></th>\n",
       "      <th></th>\n",
       "    </tr>\n",
       "    <tr>\n",
       "      <th>Step</th>\n",
       "      <th>AgentID</th>\n",
       "    </tr>\n",
       "  </thead>\n",
       "  <tbody>\n",
       "  </tbody>\n",
       "</table>\n",
       "</div>"
      ],
      "text/plain": [
       "Empty DataFrame\n",
       "Columns: []\n",
       "Index: []"
      ]
     },
<<<<<<< HEAD:ev_abm_simplest.ipynb
<<<<<<< HEAD
     "execution_count": 174,
=======
     "execution_count": 8,
>>>>>>> e655c7724a24eec7a30e12fecb1ec342765d2a92
=======
     "execution_count": 65,
>>>>>>> be9813c1d1c79222d36b448e24020faebf6e09c7:ev_abm_simplest_mobile.ipynb
     "metadata": {},
     "output_type": "execute_result"
    }
   ],
   "source": [
    "model.datacollector.get_agent_vars_dataframe()\n",
    "# model.datacollector.get_model_vars_dataframe()"
   ]
  },
  {
   "cell_type": "code",
<<<<<<< HEAD:ev_abm_simplest.ipynb
<<<<<<< HEAD
   "execution_count": 173,
=======
   "execution_count": 9,
>>>>>>> e655c7724a24eec7a30e12fecb1ec342765d2a92
=======
   "execution_count": 74,
>>>>>>> be9813c1d1c79222d36b448e24020faebf6e09c7:ev_abm_simplest_mobile.ipynb
   "metadata": {},
   "outputs": [],
   "source": [
    "run_stats = model.datacollector.get_model_vars_dataframe()"
   ]
  },
  {
   "cell_type": "code",
<<<<<<< HEAD:ev_abm_simplest.ipynb
<<<<<<< HEAD
   "execution_count": 175,
=======
   "execution_count": 10,
>>>>>>> e655c7724a24eec7a30e12fecb1ec342765d2a92
=======
   "execution_count": 75,
>>>>>>> be9813c1d1c79222d36b448e24020faebf6e09c7:ev_abm_simplest_mobile.ipynb
   "metadata": {},
   "outputs": [
    {
     "name": "stdout",
     "output_type": "stream",
     "text": [
      "    Cars Charged  Cars Activated\n",
      "0            0.0             0.0\n",
      "1            0.0             0.0\n",
      "2            0.0             0.0\n",
      "3            0.0             0.0\n",
      "4            0.0             0.0\n",
      "5            0.0             0.0\n",
      "6            0.0             0.0\n",
      "7            0.0             0.0\n",
      "8            0.0             0.0\n",
      "9            0.0             0.0\n",
      "10           0.0             0.0\n",
      "11           0.0             0.0\n",
      "12           0.0             0.0\n",
      "13           0.0             0.0\n",
      "14           0.0             0.0\n",
      "15           0.0             0.0\n",
      "16           0.0             0.0\n",
      "17           0.0             0.0\n",
      "18           0.0             0.0\n",
      "19           0.0             0.0\n",
      "20           0.0             0.0\n",
      "21           0.0             0.0\n",
      "22           0.0             0.0\n",
<<<<<<< HEAD:ev_abm_simplest.ipynb
      "23           0.0             0.0\n"
=======
      "23           0.0             0.0\n",
      "24           0.0             0.0\n",
      "25           0.0             0.0\n",
      "26           0.0             0.0\n",
      "27           0.0             0.0\n",
      "28           0.0             0.0\n",
      "29           0.0             0.0\n",
      "30           0.0             0.0\n",
      "31           0.0             0.0\n",
      "32           0.0             0.0\n",
      "33           0.0             0.0\n",
      "34           0.0             0.0\n",
      "35           0.0             0.0\n",
      "36           0.0             0.0\n",
      "37           0.0             0.0\n",
      "38           0.0             0.0\n",
      "39           0.0             0.0\n",
      "40           0.0             0.0\n",
      "41           0.0             0.0\n",
      "42           0.0             0.0\n",
      "43           0.0             0.0\n",
      "44           0.0             0.0\n",
      "45           0.0             0.0\n",
      "46           0.0             0.0\n",
      "47           0.0             0.0\n"
>>>>>>> be9813c1d1c79222d36b448e24020faebf6e09c7:ev_abm_simplest_mobile.ipynb
     ]
    }
   ],
   "source": [
    "print(run_stats)"
   ]
  },
  {
   "attachments": {},
   "cell_type": "markdown",
   "metadata": {},
   "source": [
    "Visualix"
   ]
  },
  {
   "cell_type": "code",
<<<<<<< HEAD
   "execution_count": 108,
=======
   "execution_count": 11,
>>>>>>> e655c7724a24eec7a30e12fecb1ec342765d2a92
   "metadata": {},
   "outputs": [
    {
     "name": "stdout",
     "output_type": "stream",
     "text": [
      "Interface starting at http://127.0.0.1:8521\n"
     ]
    },
    {
     "ename": "RuntimeError",
     "evalue": "This event loop is already running",
     "output_type": "error",
     "traceback": [
      "\u001b[0;31m---------------------------------------------------------------------------\u001b[0m",
<<<<<<< HEAD
      "\u001b[0;31mOSError\u001b[0m                                   Traceback (most recent call last)",
      "Cell \u001b[0;32mIn[108], line 17\u001b[0m\n\u001b[1;32m     12\u001b[0m grid \u001b[39m=\u001b[39m CanvasGrid(agent_portrayal, \u001b[39m10\u001b[39m, \u001b[39m10\u001b[39m, \u001b[39m500\u001b[39m, \u001b[39m500\u001b[39m)\n\u001b[1;32m     13\u001b[0m server \u001b[39m=\u001b[39m ModularServer(Model,\n\u001b[1;32m     14\u001b[0m                        [grid],\n\u001b[1;32m     15\u001b[0m                        \u001b[39m\"\u001b[39m\u001b[39mMy Model\u001b[39m\u001b[39m\"\u001b[39m,\n\u001b[1;32m     16\u001b[0m                        {\u001b[39m'\u001b[39m\u001b[39mn_agents\u001b[39m\u001b[39m'\u001b[39m: \u001b[39m10\u001b[39m})\n\u001b[0;32m---> 17\u001b[0m server\u001b[39m.\u001b[39;49mlaunch()\n",
      "File \u001b[0;32m~/.local/share/virtualenvs/eCharge-6UtsfbOy/lib/python3.9/site-packages/mesa/visualization/ModularVisualization.py:406\u001b[0m, in \u001b[0;36mModularServer.launch\u001b[0;34m(self, port, open_browser)\u001b[0m\n\u001b[1;32m    404\u001b[0m url \u001b[39m=\u001b[39m \u001b[39mf\u001b[39m\u001b[39m\"\u001b[39m\u001b[39mhttp://127.0.0.1:\u001b[39m\u001b[39m{\u001b[39;00m\u001b[39mself\u001b[39m\u001b[39m.\u001b[39mport\u001b[39m}\u001b[39;00m\u001b[39m\"\u001b[39m\n\u001b[1;32m    405\u001b[0m \u001b[39mprint\u001b[39m(\u001b[39mf\u001b[39m\u001b[39m\"\u001b[39m\u001b[39mInterface starting at \u001b[39m\u001b[39m{\u001b[39;00murl\u001b[39m}\u001b[39;00m\u001b[39m\"\u001b[39m)\n\u001b[0;32m--> 406\u001b[0m \u001b[39mself\u001b[39;49m\u001b[39m.\u001b[39;49mlisten(\u001b[39mself\u001b[39;49m\u001b[39m.\u001b[39;49mport)\n\u001b[1;32m    407\u001b[0m \u001b[39mif\u001b[39;00m open_browser:\n\u001b[1;32m    408\u001b[0m     webbrowser\u001b[39m.\u001b[39mopen(url)\n",
      "File \u001b[0;32m~/.local/share/virtualenvs/eCharge-6UtsfbOy/lib/python3.9/site-packages/tornado/web.py:2134\u001b[0m, in \u001b[0;36mApplication.listen\u001b[0;34m(self, port, address, family, backlog, flags, reuse_port, **kwargs)\u001b[0m\n\u001b[1;32m   2111\u001b[0m \u001b[39m\"\"\"Starts an HTTP server for this application on the given port.\u001b[39;00m\n\u001b[1;32m   2112\u001b[0m \n\u001b[1;32m   2113\u001b[0m \u001b[39mThis is a convenience alias for creating an `.HTTPServer` object and\u001b[39;00m\n\u001b[0;32m   (...)\u001b[0m\n\u001b[1;32m   2131\u001b[0m \u001b[39m   including ``reuse_port``.\u001b[39;00m\n\u001b[1;32m   2132\u001b[0m \u001b[39m\"\"\"\u001b[39;00m\n\u001b[1;32m   2133\u001b[0m server \u001b[39m=\u001b[39m HTTPServer(\u001b[39mself\u001b[39m, \u001b[39m*\u001b[39m\u001b[39m*\u001b[39mkwargs)\n\u001b[0;32m-> 2134\u001b[0m server\u001b[39m.\u001b[39;49mlisten(\n\u001b[1;32m   2135\u001b[0m     port,\n\u001b[1;32m   2136\u001b[0m     address\u001b[39m=\u001b[39;49maddress,\n\u001b[1;32m   2137\u001b[0m     family\u001b[39m=\u001b[39;49mfamily,\n\u001b[1;32m   2138\u001b[0m     backlog\u001b[39m=\u001b[39;49mbacklog,\n\u001b[1;32m   2139\u001b[0m     flags\u001b[39m=\u001b[39;49mflags,\n\u001b[1;32m   2140\u001b[0m     reuse_port\u001b[39m=\u001b[39;49mreuse_port,\n\u001b[1;32m   2141\u001b[0m )\n\u001b[1;32m   2142\u001b[0m \u001b[39mreturn\u001b[39;00m server\n",
      "File \u001b[0;32m~/.local/share/virtualenvs/eCharge-6UtsfbOy/lib/python3.9/site-packages/tornado/tcpserver.py:183\u001b[0m, in \u001b[0;36mTCPServer.listen\u001b[0;34m(self, port, address, family, backlog, flags, reuse_port)\u001b[0m\n\u001b[1;32m    159\u001b[0m \u001b[39mdef\u001b[39;00m \u001b[39mlisten\u001b[39m(\n\u001b[1;32m    160\u001b[0m     \u001b[39mself\u001b[39m,\n\u001b[1;32m    161\u001b[0m     port: \u001b[39mint\u001b[39m,\n\u001b[0;32m   (...)\u001b[0m\n\u001b[1;32m    166\u001b[0m     reuse_port: \u001b[39mbool\u001b[39m \u001b[39m=\u001b[39m \u001b[39mFalse\u001b[39;00m,\n\u001b[1;32m    167\u001b[0m ) \u001b[39m-\u001b[39m\u001b[39m>\u001b[39m \u001b[39mNone\u001b[39;00m:\n\u001b[1;32m    168\u001b[0m     \u001b[39m\"\"\"Starts accepting connections on the given port.\u001b[39;00m\n\u001b[1;32m    169\u001b[0m \n\u001b[1;32m    170\u001b[0m \u001b[39m    This method may be called more than once to listen on multiple ports.\u001b[39;00m\n\u001b[0;32m   (...)\u001b[0m\n\u001b[1;32m    181\u001b[0m \u001b[39m       arguments to match `tornado.netutil.bind_sockets`.\u001b[39;00m\n\u001b[1;32m    182\u001b[0m \u001b[39m    \"\"\"\u001b[39;00m\n\u001b[0;32m--> 183\u001b[0m     sockets \u001b[39m=\u001b[39m bind_sockets(\n\u001b[1;32m    184\u001b[0m         port,\n\u001b[1;32m    185\u001b[0m         address\u001b[39m=\u001b[39;49maddress,\n\u001b[1;32m    186\u001b[0m         family\u001b[39m=\u001b[39;49mfamily,\n\u001b[1;32m    187\u001b[0m         backlog\u001b[39m=\u001b[39;49mbacklog,\n\u001b[1;32m    188\u001b[0m         flags\u001b[39m=\u001b[39;49mflags,\n\u001b[1;32m    189\u001b[0m         reuse_port\u001b[39m=\u001b[39;49mreuse_port,\n\u001b[1;32m    190\u001b[0m     )\n\u001b[1;32m    191\u001b[0m     \u001b[39mself\u001b[39m\u001b[39m.\u001b[39madd_sockets(sockets)\n",
      "File \u001b[0;32m~/.local/share/virtualenvs/eCharge-6UtsfbOy/lib/python3.9/site-packages/tornado/netutil.py:162\u001b[0m, in \u001b[0;36mbind_sockets\u001b[0;34m(port, address, family, backlog, flags, reuse_port)\u001b[0m\n\u001b[1;32m    160\u001b[0m sock\u001b[39m.\u001b[39msetblocking(\u001b[39mFalse\u001b[39;00m)\n\u001b[1;32m    161\u001b[0m \u001b[39mtry\u001b[39;00m:\n\u001b[0;32m--> 162\u001b[0m     sock\u001b[39m.\u001b[39;49mbind(sockaddr)\n\u001b[1;32m    163\u001b[0m \u001b[39mexcept\u001b[39;00m \u001b[39mOSError\u001b[39;00m \u001b[39mas\u001b[39;00m e:\n\u001b[1;32m    164\u001b[0m     \u001b[39mif\u001b[39;00m (\n\u001b[1;32m    165\u001b[0m         errno_from_exception(e) \u001b[39m==\u001b[39m errno\u001b[39m.\u001b[39mEADDRNOTAVAIL\n\u001b[1;32m    166\u001b[0m         \u001b[39mand\u001b[39;00m address \u001b[39m==\u001b[39m \u001b[39m\"\u001b[39m\u001b[39mlocalhost\u001b[39m\u001b[39m\"\u001b[39m\n\u001b[0;32m   (...)\u001b[0m\n\u001b[1;32m    178\u001b[0m         \u001b[39m# might be a real problem like a typo in a\u001b[39;00m\n\u001b[1;32m    179\u001b[0m         \u001b[39m# configuration.\u001b[39;00m\n",
      "\u001b[0;31mOSError\u001b[0m: [Errno 48] Address already in use"
=======
      "\u001b[0;31mRuntimeError\u001b[0m                              Traceback (most recent call last)",
      "Cell \u001b[0;32mIn[11], line 17\u001b[0m\n\u001b[1;32m     12\u001b[0m grid \u001b[39m=\u001b[39m CanvasGrid(agent_portrayal, \u001b[39m10\u001b[39m, \u001b[39m10\u001b[39m, \u001b[39m500\u001b[39m, \u001b[39m500\u001b[39m)\n\u001b[1;32m     13\u001b[0m server \u001b[39m=\u001b[39m ModularServer(Model,\n\u001b[1;32m     14\u001b[0m                        [grid],\n\u001b[1;32m     15\u001b[0m                        \u001b[39m\"\u001b[39m\u001b[39mMy Model\u001b[39m\u001b[39m\"\u001b[39m,\n\u001b[1;32m     16\u001b[0m                        {\u001b[39m'\u001b[39m\u001b[39mn_agents\u001b[39m\u001b[39m'\u001b[39m: \u001b[39m10\u001b[39m})\n\u001b[0;32m---> 17\u001b[0m server\u001b[39m.\u001b[39;49mlaunch()\n",
      "File \u001b[0;32m~/Library/Python/3.9/lib/python/site-packages/mesa/visualization/ModularVisualization.py:410\u001b[0m, in \u001b[0;36mModularServer.launch\u001b[0;34m(self, port, open_browser)\u001b[0m\n\u001b[1;32m    408\u001b[0m     webbrowser\u001b[39m.\u001b[39mopen(url)\n\u001b[1;32m    409\u001b[0m tornado\u001b[39m.\u001b[39mautoreload\u001b[39m.\u001b[39mstart()\n\u001b[0;32m--> 410\u001b[0m tornado\u001b[39m.\u001b[39;49mioloop\u001b[39m.\u001b[39;49mIOLoop\u001b[39m.\u001b[39;49mcurrent()\u001b[39m.\u001b[39;49mstart()\n",
      "File \u001b[0;32m~/Library/Python/3.9/lib/python/site-packages/tornado/platform/asyncio.py:215\u001b[0m, in \u001b[0;36mBaseAsyncIOLoop.start\u001b[0;34m(self)\u001b[0m\n\u001b[1;32m    213\u001b[0m \u001b[39mtry\u001b[39;00m:\n\u001b[1;32m    214\u001b[0m     asyncio\u001b[39m.\u001b[39mset_event_loop(\u001b[39mself\u001b[39m\u001b[39m.\u001b[39masyncio_loop)\n\u001b[0;32m--> 215\u001b[0m     \u001b[39mself\u001b[39;49m\u001b[39m.\u001b[39;49masyncio_loop\u001b[39m.\u001b[39;49mrun_forever()\n\u001b[1;32m    216\u001b[0m \u001b[39mfinally\u001b[39;00m:\n\u001b[1;32m    217\u001b[0m     asyncio\u001b[39m.\u001b[39mset_event_loop(old_loop)\n",
      "File \u001b[0;32m/Applications/Xcode.app/Contents/Developer/Library/Frameworks/Python3.framework/Versions/3.9/lib/python3.9/asyncio/base_events.py:586\u001b[0m, in \u001b[0;36mBaseEventLoop.run_forever\u001b[0;34m(self)\u001b[0m\n\u001b[1;32m    584\u001b[0m \u001b[39m\"\"\"Run until stop() is called.\"\"\"\u001b[39;00m\n\u001b[1;32m    585\u001b[0m \u001b[39mself\u001b[39m\u001b[39m.\u001b[39m_check_closed()\n\u001b[0;32m--> 586\u001b[0m \u001b[39mself\u001b[39;49m\u001b[39m.\u001b[39;49m_check_running()\n\u001b[1;32m    587\u001b[0m \u001b[39mself\u001b[39m\u001b[39m.\u001b[39m_set_coroutine_origin_tracking(\u001b[39mself\u001b[39m\u001b[39m.\u001b[39m_debug)\n\u001b[1;32m    588\u001b[0m \u001b[39mself\u001b[39m\u001b[39m.\u001b[39m_thread_id \u001b[39m=\u001b[39m threading\u001b[39m.\u001b[39mget_ident()\n",
      "File \u001b[0;32m/Applications/Xcode.app/Contents/Developer/Library/Frameworks/Python3.framework/Versions/3.9/lib/python3.9/asyncio/base_events.py:578\u001b[0m, in \u001b[0;36mBaseEventLoop._check_running\u001b[0;34m(self)\u001b[0m\n\u001b[1;32m    576\u001b[0m \u001b[39mdef\u001b[39;00m \u001b[39m_check_running\u001b[39m(\u001b[39mself\u001b[39m):\n\u001b[1;32m    577\u001b[0m     \u001b[39mif\u001b[39;00m \u001b[39mself\u001b[39m\u001b[39m.\u001b[39mis_running():\n\u001b[0;32m--> 578\u001b[0m         \u001b[39mraise\u001b[39;00m \u001b[39mRuntimeError\u001b[39;00m(\u001b[39m'\u001b[39m\u001b[39mThis event loop is already running\u001b[39m\u001b[39m'\u001b[39m)\n\u001b[1;32m    579\u001b[0m     \u001b[39mif\u001b[39;00m events\u001b[39m.\u001b[39m_get_running_loop() \u001b[39mis\u001b[39;00m \u001b[39mnot\u001b[39;00m \u001b[39mNone\u001b[39;00m:\n\u001b[1;32m    580\u001b[0m         \u001b[39mraise\u001b[39;00m \u001b[39mRuntimeError\u001b[39;00m(\n\u001b[1;32m    581\u001b[0m             \u001b[39m'\u001b[39m\u001b[39mCannot run the event loop while another loop is running\u001b[39m\u001b[39m'\u001b[39m)\n",
      "\u001b[0;31mRuntimeError\u001b[0m: This event loop is already running"
>>>>>>> e655c7724a24eec7a30e12fecb1ec342765d2a92
     ]
    }
   ],
   "source": [
    "# from mesa.visualization.modules import CanvasGrid\n",
    "# from mesa.visualization.ModularVisualization import ModularServer\n",
    "\n",
    "# def agent_portrayal(agent):\n",
    "#     portrayal = {\"Shape\": \"circle\",\n",
    "#                  \"Filled\": \"true\",\n",
    "#                  \"Layer\": 0,\n",
    "#                  \"Color\": \"red\",\n",
    "#                  \"r\": 0.5}\n",
    "#     return portrayal\n",
    "\n",
    "# grid = CanvasGrid(agent_portrayal, 10, 10, 500, 500)\n",
    "# server = ModularServer(Model,\n",
    "#                        [grid],\n",
    "#                        \"My Model\",\n",
    "#                        {'n_agents': 10})\n",
    "# server.launch()"
   ]
  },
  {
   "cell_type": "code",
   "execution_count": 12,
   "metadata": {},
   "outputs": [
    {
     "ename": "NameError",
     "evalue": "name 'no_counters' is not defined",
     "output_type": "error",
     "traceback": [
      "\u001b[0;31m---------------------------------------------------------------------------\u001b[0m",
      "\u001b[0;31mNameError\u001b[0m                                 Traceback (most recent call last)",
      "Cell \u001b[0;32mIn[12], line 5\u001b[0m\n\u001b[1;32m      3\u001b[0m fig\u001b[39m.\u001b[39mfigure\u001b[39m.\u001b[39mset_figwidth(\u001b[39m12\u001b[39m)\n\u001b[1;32m      4\u001b[0m fig\u001b[39m.\u001b[39mfigure\u001b[39m.\u001b[39mset_figheight(\u001b[39m16\u001b[39m)\n\u001b[0;32m----> 5\u001b[0m fig\u001b[39m.\u001b[39msuptitle(\u001b[39mf\u001b[39m\u001b[39m'\u001b[39m\u001b[39mSimulations stats using \u001b[39m\u001b[39m{\u001b[39;00mno_counters\u001b[39m}\u001b[39;00m\u001b[39m counters\u001b[39m\u001b[39m'\u001b[39m, fontsize\u001b[39m=\u001b[39m\u001b[39m20\u001b[39m)\n\u001b[1;32m      6\u001b[0m ax1\u001b[39m.\u001b[39mplot(run_stats[[\u001b[39m'\u001b[39m\u001b[39mCustomers Arrived\u001b[39m\u001b[39m'\u001b[39m,\n\u001b[1;32m      7\u001b[0m                 \u001b[39m'\u001b[39m\u001b[39mCustomers Served\u001b[39m\u001b[39m'\u001b[39m,\n\u001b[1;32m      8\u001b[0m                 \u001b[39m'\u001b[39m\u001b[39mCustomers Balked\u001b[39m\u001b[39m'\u001b[39m,\n\u001b[1;32m      9\u001b[0m                ]])\n\u001b[1;32m     10\u001b[0m ax1\u001b[39m.\u001b[39mlegend([\u001b[39m'\u001b[39m\u001b[39mCustomers Arrived\u001b[39m\u001b[39m'\u001b[39m,\n\u001b[1;32m     11\u001b[0m             \u001b[39m'\u001b[39m\u001b[39mCustomers Served\u001b[39m\u001b[39m'\u001b[39m,\n\u001b[1;32m     12\u001b[0m             \u001b[39m'\u001b[39m\u001b[39mCustomers Balked\u001b[39m\u001b[39m'\u001b[39m,\n\u001b[1;32m     13\u001b[0m             ])\n",
      "\u001b[0;31mNameError\u001b[0m: name 'no_counters' is not defined"
     ]
    },
    {
     "data": {
      "image/png": "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",
      "text/plain": [
       "<Figure size 1200x1600 with 4 Axes>"
      ]
     },
     "metadata": {},
     "output_type": "display_data"
    }
   ],
   "source": [
    "run_stats = model.datacollector.get_model_vars_dataframe()\n",
    "fig, (ax1, ax2, ax3, ax4) = plt.subplots(2, 1)\n",
    "fig.figure.set_figwidth(12)\n",
    "fig.figure.set_figheight(16)\n",
    "fig.suptitle(f'Simulations stats using {no_cars} cars', fontsize=20)\n",
    "ax1.plot(run_stats[['Cars Activated',\n",
    "                'Cars Charged',\n",
    "               ]])\n",
    "ax1.legend(['Cars Activated',\n",
    "            'Cars Charged',\n",
    "            'Customers Balked',\n",
    "            ])\n",
    "ax1.set_ylabel('Customers')\n",
    "ax1.set_xlim(0)\n",
    "ax1.set_ylim(0)\n",
    "ax2.plot(run_stats['Average Queue Size'], color='red')\n",
    "ax2.legend(['Average Queue Size'])\n",
    "ax2.set_ylabel('Customers')\n",
    "ax2.set_xlim(0)\n",
    "ax2.set_ylim(0)\n",
    "ax3.plot(run_stats['Average Waiting Time'], color='grey')\n",
    "ax3.legend(['Average Waiting Time (across full hour)'])\n",
    "ax3.set_ylabel('Seconds')\n",
    "ax3.set_xlim(0)\n",
    "ax3.set_ylim(0)\n",
    "ax4.plot(run_stats[['Gross Margin',\n",
    "                'Operating Costs',\n",
    "                'Total Profit'\n",
    "               ]])\n",
    "ax4.legend(['Gross Margin',\n",
    "            'Operating Costs',\n",
    "            'Total Profit'\n",
    "            ])\n",
    "ax4.set_ylabel('Dollars')\n",
    "ax4.set_xlim(0)\n",
    "fig.show()"
   ]
  },
  {
   "cell_type": "code",
   "execution_count": null,
   "metadata": {},
   "outputs": [],
   "source": [
    "# from travel\n",
    "\n",
    "        # print(\"Vehicle id: \" + str(self.unique_id) + \". This vehicle travelled: \" + str(self.odometer) + \" distance units\")\n",
    "        # print(\"Vehicle id: \" + str(self.unique_id) + \". This vehicle's current charge level is: \" + str(self.soc) + \" kwh\")\n",
    "            \n",
    "        # if self.soc < self._soc_thresh:\n",
    "        #     self._is_travelling == False\n",
    "        #     self.charge() #charge\n",
    "\n"
   ]
  },
  {
   "cell_type": "code",
   "execution_count": null,
   "metadata": {},
   "outputs": [],
   "source": [
    "# def get_avg_queue_size(model):\n",
    "#     queue_size = [len(counter.queue) for counter in model.counters]\n",
    "#     avg_queue_size = np.mean(queue_size)\n",
    "#     return avg_queue_size\n",
    "\n",
    "# def get_avg_waiting_time(model):\n",
    "#     cars_wait = [np.nan if car._cp_exit is None else\n",
    "#                       car._cp_exit - car._cp_entry for car in model.cars]\n",
    "#     avg_customer_wait = np.nanmean(cars_wait)\n",
    "#     return avg_customer_wait\n",
    "\n",
    "# def get_customers_served(model):\n",
    "#     customers_served = [not(customer._service_exit is None) for customer in model.customers]     \n",
    "#     no_customers_served = np.sum(customers_served)\n",
    "#     return no_customers_served\n",
    "# def get_customers_balked(model):\n",
    "#     customers_arrived = [\n",
    "#         customer._arrived for customer in model.customers]\n",
    "#     # Customers who never joined a queue\n",
    "#     customers_no_q = np.array([\n",
    "#         customer._q_entry is None for customer in model.customers])\n",
    "#     no_customers_balked = np.sum(customers_arrived * customers_no_q)\n",
    "#     return no_customers_balked\n",
    "# def get_avg_queue_size(model):\n",
    "#     queue_size = [len(counter.queue) for counter in model.counters]\n",
    "#     avg_queue_size = np.mean(queue_size)\n",
    "#     return avg_queue_size\n",
    "# def get_avg_waiting_time(model):\n",
    "#     customers_wait = [np.nan if customer._q_exit is None else\n",
    "#                       customer._q_exit - customer._q_entry for customer in model.customers]\n",
    "#     avg_customer_wait = np.nanmean(customers_wait)\n",
    "#     return avg_customer_wait\n",
    "# def get_gross_margin(model):\n",
    "#     return gross_margin_per_customer * get_customers_served(model)\n",
    "# def get_operating_costs(model):\n",
    "#     return cost_per_counter * no_counters\n",
    "# def get_total_profit(model):\n",
    "#     return get_gross_margin(model) - get_operating_costs(model)"
   ]
  },
  {
   "cell_type": "code",
   "execution_count": null,
   "metadata": {},
   "outputs": [],
   "source": [
    "# CGPT\n",
    "\n",
    "import random\n",
    "\n",
    "from mesa import Agent, Model\n",
    "from mesa.time import RandomActivation\n",
    "\n",
    "class EV(Agent):\n",
    "    def __init__(self, unique_id, model):\n",
    "        super().__init__(unique_id, model)\n",
    "        self.battery = 100 # start with a fully charged battery\n",
    "        self.distance_to_travel = random.randint(50, 150) # set random distance to travel\n",
    "\n",
    "    def step(self):\n",
    "        # if battery is low, go to charging station\n",
    "        if self.battery < 20:\n",
    "            self.go_to_charging_station()\n",
    "        # if there is still distance to travel and the battery is not low, drive\n",
    "        elif self.distance_to_travel > 0:\n",
    "            self.drive()\n",
    "        # if there is no distance left to travel, do nothing\n",
    "        else:\n",
    "            return\n",
    "\n",
    "    def drive(self):\n",
    "        self.distance_to_travel -= 1\n",
    "        self.battery -= 1\n",
    "\n",
    "    def go_to_charging_station(self):\n",
    "        self.battery = 100 # fully charge the battery\n",
    "\n",
    "class EVModel(Model):\n",
    "    def __init__(self, num_evs):\n",
    "        self.num_evs = num_evs\n",
    "        self.schedule = RandomActivation(self)\n",
    "        # create agents\n",
    "        for i in range(self.num_evs):\n",
    "            ev = EV(i, self)\n",
    "            self.schedule.add(ev)\n",
    "\n",
    "    def step(self):\n",
    "        self.schedule.step()\n",
    "\n"
   ]
  }
 ],
 "metadata": {
  "kernelspec": {
   "display_name": "Python 3",
   "language": "python",
   "name": "python3"
  },
  "language_info": {
   "codemirror_mode": {
    "name": "ipython",
    "version": 3
   },
   "file_extension": ".py",
   "mimetype": "text/x-python",
   "name": "python",
   "nbconvert_exporter": "python",
   "pygments_lexer": "ipython3",
   "version": "3.9.6"
  },
  "orig_nbformat": 4,
  "vscode": {
   "interpreter": {
    "hash": "31f2aee4e71d21fbe5cf8b01ff0e069b9275f58929596ceb00d14d90e3e16cd6"
   }
  }
 },
 "nbformat": 4,
 "nbformat_minor": 2
}
