{
 "cells": [
  {
   "attachments": {},
   "cell_type": "markdown",
   "metadata": {},
   "source": [
    "### AB Model from spec"
   ]
  },
  {
   "attachments": {},
   "cell_type": "markdown",
   "metadata": {},
   "source": [
    "Package installation"
   ]
  },
  {
   "cell_type": "code",
   "execution_count": 1,
   "metadata": {},
   "outputs": [],
   "source": [
    "# !pip3 install seaborn\n",
    "# !pip3 install python-statemachine\n",
    "# !pip3 install mesa\n",
    "# !pip3 install transitions\n",
    "# !pip3 install scipy\n",
    "# !pip3 install cufflinks\n",
    "# !pip3 install graphviz pygraphviz\n",
    "# !pip3 install graphviz\n",
    "# !pip3 install transitions[diagrams]\n",
    "# !pip3 uninstall mesa"
   ]
  },
  {
   "attachments": {},
   "cell_type": "markdown",
   "metadata": {},
   "source": [
    "Package importation"
   ]
  },
  {
   "cell_type": "code",
   "execution_count": 2,
   "metadata": {},
   "outputs": [
    {
     "data": {
      "text/html": [
       "        <script type=\"text/javascript\">\n",
       "        window.PlotlyConfig = {MathJaxConfig: 'local'};\n",
       "        if (window.MathJax && window.MathJax.Hub && window.MathJax.Hub.Config) {window.MathJax.Hub.Config({SVG: {font: \"STIX-Web\"}});}\n",
       "        if (typeof require !== 'undefined') {\n",
       "        require.undef(\"plotly\");\n",
       "        requirejs.config({\n",
       "            paths: {\n",
       "                'plotly': ['https://cdn.plot.ly/plotly-2.16.1.min']\n",
       "            }\n",
       "        });\n",
       "        require(['plotly'], function(Plotly) {\n",
       "            window._Plotly = Plotly;\n",
       "        });\n",
       "        }\n",
       "        </script>\n",
       "        "
      ]
     },
     "metadata": {},
     "output_type": "display_data"
    }
   ],
   "source": [
    "# imports\n",
    "import os\n",
    "import seaborn as sns\n",
    "from random import choice\n",
    "import warnings\n",
    "warnings.simplefilter(\"ignore\")\n",
    "import pandas as pd\n",
    "import numpy as np\n",
    "import mesa\n",
    "from mesa import Agent, Model\n",
    "from mesa.time import RandomActivation, RandomActivationByType, SimultaneousActivation\n",
    "from mesa.datacollection import DataCollector\n",
    "from matplotlib import pyplot as plt, patches\n",
    "import scipy.stats as ss\n",
    "import cufflinks as cf\n",
    "cf.go_offline()\n",
    "from plotly.offline import iplot\n",
    "from transitions import Machine\n",
    "import random\n",
    "from transitions.extensions import GraphMachine\n",
    "import graphviz\n",
    "import timeit\n",
    "import logging\n",
    "os.environ[\"PATH\"] += os.pathsep + '/Users/isaacao/homebrew/bin' # for graphviz"
   ]
  },
  {
   "attachments": {},
   "cell_type": "markdown",
   "metadata": {},
   "source": [
    "Model component importation"
   ]
  },
  {
   "cell_type": "code",
   "execution_count": 3,
   "metadata": {},
   "outputs": [
    {
     "data": {
      "text/html": [
       "        <script type=\"text/javascript\">\n",
       "        window.PlotlyConfig = {MathJaxConfig: 'local'};\n",
       "        if (window.MathJax && window.MathJax.Hub && window.MathJax.Hub.Config) {window.MathJax.Hub.Config({SVG: {font: \"STIX-Web\"}});}\n",
       "        if (typeof require !== 'undefined') {\n",
       "        require.undef(\"plotly\");\n",
       "        requirejs.config({\n",
       "            paths: {\n",
       "                'plotly': ['https://cdn.plot.ly/plotly-2.16.1.min']\n",
       "            }\n",
       "        });\n",
       "        require(['plotly'], function(Plotly) {\n",
       "            window._Plotly = Plotly;\n",
       "        });\n",
       "        }\n",
       "        </script>\n",
       "        "
      ]
     },
     "metadata": {},
     "output_type": "display_data"
    }
   ],
   "source": [
    "from EV.agent import EV, Cpoint\n",
    "import EV.model as model\n",
    "from EV.statemachine import EVSM\n",
    "from EV.model import get_evs_charge, get_evs_charge_level, get_evs_active, get_evs_charging, get_evs_queue, get_evs_travel, get_evs_not_idle, get_active_cpoints, get_eod_evs_socs, get_evs_destinations, get_ev_distance_covered"
   ]
  },
  {
   "attachments": {},
   "cell_type": "markdown",
   "metadata": {},
   "source": [
    "State diagram"
   ]
  },
  {
   "attachments": {},
   "cell_type": "markdown",
   "metadata": {},
   "source": [
    "### Model"
   ]
  },
  {
   "attachments": {},
   "cell_type": "markdown",
   "metadata": {},
   "source": [
    "Model parameters"
   ]
  },
  {
   "cell_type": "code",
   "execution_count": 4,
   "metadata": {},
   "outputs": [],
   "source": [
    "ticks =  23 # 3600 ticks = 3600 seconds = 1 hour\n",
    "no_evs = 3\n",
    "# no of cps must be fixed\n",
    "no_cps = 5"
   ]
  },
  {
   "attachments": {},
   "cell_type": "markdown",
   "metadata": {},
   "source": [
    "Run Model"
   ]
  },
  {
   "cell_type": "code",
   "execution_count": 5,
   "metadata": {},
   "outputs": [
    {
     "name": "stdout",
     "output_type": "stream",
     "text": [
      "EV No 1 initialized. Journey type: Urban. Vehicle State: Idle\n",
      "EV info: ID: 0, destination name: market , distance goal: 80, max_battery: 56, speed: 10, energy consumption rate 0.2\n",
      "EV No 2 initialized. Journey type: InterUrban. Vehicle State: Idle\n",
      "EV info: ID: 1, destination name: City A , distance goal: 210, max_battery: 62, speed: 20, energy consumption rate 0.5\n",
      "EV No 3 initialized. Journey type: InterUrban. Vehicle State: Idle\n",
      "EV info: ID: 2, destination name: City C , distance goal: 245, max_battery: 50, speed: 20, energy consumption rate 0.5\n",
      "CP info: ID: 3, initialized. Charge rate: 7.5 kW.\n",
      "CP info: ID: 4, initialized. Charge rate: 7.5 kW.\n",
      "CP info: ID: 5, initialized. Charge rate: 7.5 kW.\n",
      "CP info: ID: 6, initialized. Charge rate: 7.5 kW.\n",
      "CP info: ID: 7, initialized. Charge rate: 7.5 kW.\n",
      "CP: 3 is at checkpoint: 40 miles\n",
      "CP: 4 is at checkpoint: 80 miles\n",
      "CP: 5 is at checkpoint: 120 miles\n",
      "CP: 6 is at checkpoint: 160 miles\n",
      "CP: 7 is at checkpoint: 200 miles\n",
      "Model initialised. 3 EVs and 5 Charging Points. Simulation will run for 23 ticks.\n",
      "\n",
      "Current timestep (tick): 1.\n",
      "Vehicle 0 is travelling. Odometer: 10, Battery: 54.0\n",
      "Vehicle id: 0 is Travel. This vehicle has travelled: 10 miles. Battery: 54.0 kWh\n",
      "Vehicle 1 is travelling. Odometer: 20, Battery: 52.0\n",
      "Vehicle id: 1 is Travel. This vehicle has travelled: 20 miles. Battery: 52.0 kWh\n",
      "Vehicle 2 is travelling. Odometer: 20, Battery: 40.0\n",
      "Vehicle id: 2 is Travel. This vehicle has travelled: 20 miles. Battery: 40.0 kWh\n",
      "\n",
      "Current timestep (tick): 2.\n",
      "Vehicle 0 is travelling. Odometer: 20, Battery: 52.0\n",
      "Vehicle id: 0 is Travel. This vehicle has travelled: 20 miles. Battery: 52.0 kWh\n",
      "Vehicle 1 is travelling. Odometer: 40, Battery: 42.0\n",
      "Vehicle id: 1 is Travel. This vehicle has travelled: 40 miles. Battery: 42.0 kWh\n",
      "EV has arrived at Charge Station but is not yet low on battery\n",
      "Vehicle 2 is travelling. Odometer: 40, Battery: 30.0\n",
      "Vehicle id: 2 is Travel. This vehicle has travelled: 40 miles. Battery: 30.0 kWh\n",
      "EV has arrived at Charge Station but is not yet low on battery\n",
      "\n",
      "Current timestep (tick): 3.\n",
      "Vehicle 0 is travelling. Odometer: 30, Battery: 50.0\n",
      "Vehicle id: 0 is Travel. This vehicle has travelled: 30 miles. Battery: 50.0 kWh\n",
      "Vehicle 1 is travelling. Odometer: 60, Battery: 32.0\n",
      "Vehicle id: 1 is Travel. This vehicle has travelled: 60 miles. Battery: 32.0 kWh\n",
      "Vehicle 2 is travelling. Odometer: 60, Battery: 20.0\n",
      "Vehicle id: 2 is Travel. This vehicle has travelled: 60 miles. Battery: 20.0 kWh\n",
      "Current EV state: Travel_low\n",
      "EV: 2. This vehicle has travelled: 60 miles and is low on battery. This vehicle's current charge level is: 20.0 kwh\n",
      "EV 2 is low on charge and is seeking a charge station. Current charge: 20.0 kWh\n",
      "Vehicle 2 is travelling. Odometer: 80, Battery: 10.0\n",
      "EV 2 is low on battery and is at a station. Seeking charge queue. Current EV state: Seek_queue\n",
      "Charge Station selected: 4\n",
      "Length of q 1: 0. Length of q 2: 0\n",
      "EV 2 selected queue 1 at Charge Station 4\n",
      "Vehicle 2 selected Charge Station: 4 for charging.\n",
      "Charging. Vehicle 2 is Charge. This vehicle has travelled: 80 miles. Battery: 10.0 kWh\n",
      "\n",
      "Current timestep (tick): 4.\n",
      "Vehicle 0 is travelling. Odometer: 40, Battery: 48.0\n",
      "Vehicle id: 0 is Travel. This vehicle has travelled: 40 miles. Battery: 48.0 kWh\n",
      "EV has arrived at Charge Station but is not yet low on battery\n",
      "Vehicle 1 is travelling. Odometer: 80, Battery: 22.0\n",
      "Vehicle id: 1 is Travel. This vehicle has travelled: 80 miles. Battery: 22.0 kWh\n",
      "Current EV state: Travel_low\n",
      "EV: 1. This vehicle has travelled: 80 miles and is low on battery. This vehicle's current charge level is: 22.0 kwh\n",
      "EV 1 is low on charge and is seeking a charge station. Current charge: 22.0 kWh\n",
      "Vehicle 1 is travelling. Odometer: 100, Battery: 12.0\n",
      "EV 4 is in state; Charge\n",
      "EV 2 at CP 4 is in state: Charge, CLevel 17.5\n",
      "Charging. Vehicle 2 is Charge. This vehicle has travelled: 80 miles. Battery: 17.5 kWh\n",
      "\n",
      "Current timestep (tick): 5.\n",
      "Vehicle 0 is travelling. Odometer: 50, Battery: 46.0\n",
      "Vehicle id: 0 is Travel. This vehicle has travelled: 50 miles. Battery: 46.0 kWh\n",
      "EV 1 is low on charge and is seeking a charge station. Current charge: 12.0 kWh\n",
      "Vehicle 1 is travelling. Odometer: 120, Battery: 2.0\n",
      "EV 1 is low on battery and is at a station. Seeking charge queue. Current EV state: Seek_queue\n",
      "Charge Station selected: 5\n",
      "Length of q 1: 0. Length of q 2: 0\n",
      "EV 1 selected queue 1 at Charge Station 5\n",
      "Vehicle 1 selected Charge Station: 5 for charging.\n",
      "Charging. Vehicle 1 is Charge. This vehicle has travelled: 120 miles. Battery: 2.0 kWh\n",
      "EV 4 is in state; Charge\n",
      "EV 2 at CP 4 is in state: Charge, CLevel 25.0\n",
      "Charging. Vehicle 2 is Charge. This vehicle has travelled: 80 miles. Battery: 25.0 kWh\n",
      "\n",
      "Current timestep (tick): 6.\n",
      "Vehicle 0 is travelling. Odometer: 60, Battery: 44.0\n",
      "Vehicle id: 0 is Travel. This vehicle has travelled: 60 miles. Battery: 44.0 kWh\n",
      "EV 5 is in state; Charge\n",
      "EV 1 at CP 5 is in state: Charge, CLevel 9.5\n",
      "Charging. Vehicle 1 is Charge. This vehicle has travelled: 120 miles. Battery: 9.5 kWh\n",
      "EV 4 is in state; Charge\n",
      "EV 2 at CP 4 is in state: Charge, CLevel 32.5\n",
      "Charging. Vehicle 2 is Charge. This vehicle has travelled: 80 miles. Battery: 32.5 kWh\n",
      "\n",
      "Current timestep (tick): 7.\n",
      "Vehicle 0 is travelling. Odometer: 70, Battery: 42.0\n",
      "Vehicle id: 0 is Travel. This vehicle has travelled: 70 miles. Battery: 42.0 kWh\n",
      "EV 5 is in state; Charge\n",
      "EV 1 at CP 5 is in state: Charge, CLevel 17.0\n",
      "Charging. Vehicle 1 is Charge. This vehicle has travelled: 120 miles. Battery: 17.0 kWh\n",
      "EV 4 is in state; Charge\n",
      "EV 2 at CP 4 is in state: Charge, CLevel 40.0\n",
      "Charging. Vehicle 2 is Charge. This vehicle has travelled: 80 miles. Battery: 40.0 kWh\n",
      "\n",
      "Current timestep (tick): 8.\n",
      "Vehicle 0 is travelling. Odometer: 80, Battery: 40.0\n",
      "Vehicle id: 0 is Travel. This vehicle has travelled: 80 miles. Battery: 40.0 kWh\n",
      "EV has arrived at Charge Station but is not yet low on battery\n",
      "Current EV state: Idle\n",
      "Vehicle 0 has completed its journey and is now Idle\n",
      "EV 5 is in state; Charge\n",
      "EV 1 at CP 5 is in state: Charge, CLevel 24.5\n",
      "Charging. Vehicle 1 is Charge. This vehicle has travelled: 120 miles. Battery: 24.5 kWh\n",
      "Charge complete. Vehicle 2 is Charge. This vehicle has travelled: 80 miles. Battery: 40.0 kWh\n",
      "\n",
      "Current timestep (tick): 9.\n",
      "EV 5 is in state; Charge\n",
      "EV 1 at CP 5 is in state: Charge, CLevel 32.0\n",
      "Charging. Vehicle 1 is Charge. This vehicle has travelled: 120 miles. Battery: 32.0 kWh\n",
      "Vehicle 2 is travelling. Odometer: 100, Battery: 30.0\n",
      "Vehicle id: 2 is Travel. This vehicle has travelled: 100 miles. Battery: 30.0 kWh\n",
      "\n",
      "Current timestep (tick): 10.\n",
      "EV 5 is in state; Charge\n",
      "EV 1 at CP 5 is in state: Charge, CLevel 39.5\n",
      "Charging. Vehicle 1 is Charge. This vehicle has travelled: 120 miles. Battery: 39.5 kWh\n",
      "Vehicle 2 is travelling. Odometer: 120, Battery: 20.0\n",
      "Vehicle id: 2 is Travel. This vehicle has travelled: 120 miles. Battery: 20.0 kWh\n",
      "Current EV state: Travel_low\n",
      "EV: 2. This vehicle has travelled: 120 miles and is low on battery. This vehicle's current charge level is: 20.0 kwh\n",
      "EV 2 is low on charge and is seeking a charge station. Current charge: 20.0 kWh\n",
      "Vehicle 2 is travelling. Odometer: 140, Battery: 10.0\n",
      "\n",
      "Current timestep (tick): 11.\n",
      "EV 5 is in state; Charge\n",
      "EV 1 at CP 5 is in state: Charge, CLevel 47.0\n",
      "Charging. Vehicle 1 is Charge. This vehicle has travelled: 120 miles. Battery: 47.0 kWh\n",
      "EV 2 is low on charge and is seeking a charge station. Current charge: 10.0 kWh\n",
      "Vehicle 2 is travelling. Odometer: 160, Battery: 0.0\n",
      "EV 2 is low on battery and is at a station. Seeking charge queue. Current EV state: Seek_queue\n",
      "Charge Station selected: 6\n",
      "Length of q 1: 0. Length of q 2: 0\n",
      "EV 2 selected queue 1 at Charge Station 6\n",
      "Vehicle 2 selected Charge Station: 6 for charging.\n",
      "Charging. Vehicle 2 is Charge. This vehicle has travelled: 160 miles. Battery: 0.0 kWh\n",
      "\n",
      "Current timestep (tick): 12.\n",
      "EV 5 is in state; Charge\n",
      "EV 1 at CP 5 is in state: Charge, CLevel 54.5\n",
      "Charging. Vehicle 1 is Charge. This vehicle has travelled: 120 miles. Battery: 54.5 kWh\n",
      "EV 6 is in state; Charge\n",
      "EV 2 at CP 6 is in state: Charge, CLevel 7.5\n",
      "Charging. Vehicle 2 is Charge. This vehicle has travelled: 160 miles. Battery: 7.5 kWh\n",
      "\n",
      "Current timestep (tick): 13.\n",
      "Charge complete. Vehicle 1 is Charge. This vehicle has travelled: 120 miles. Battery: 54.5 kWh\n",
      "EV 6 is in state; Charge\n",
      "EV 2 at CP 6 is in state: Charge, CLevel 15.0\n",
      "Charging. Vehicle 2 is Charge. This vehicle has travelled: 160 miles. Battery: 15.0 kWh\n",
      "\n",
      "Current timestep (tick): 14.\n",
      "Vehicle 1 is travelling. Odometer: 140, Battery: 44.5\n",
      "Vehicle id: 1 is Travel. This vehicle has travelled: 140 miles. Battery: 44.5 kWh\n",
      "EV 6 is in state; Charge\n",
      "EV 2 at CP 6 is in state: Charge, CLevel 22.5\n",
      "Charging. Vehicle 2 is Charge. This vehicle has travelled: 160 miles. Battery: 22.5 kWh\n",
      "\n",
      "Current timestep (tick): 15.\n",
      "Vehicle 1 is travelling. Odometer: 160, Battery: 34.5\n",
      "Vehicle id: 1 is Travel. This vehicle has travelled: 160 miles. Battery: 34.5 kWh\n",
      "EV has arrived at Charge Station but is not yet low on battery\n",
      "EV 6 is in state; Charge\n",
      "EV 2 at CP 6 is in state: Charge, CLevel 30.0\n",
      "Charging. Vehicle 2 is Charge. This vehicle has travelled: 160 miles. Battery: 30.0 kWh\n",
      "\n",
      "Current timestep (tick): 16.\n",
      "Vehicle 1 is travelling. Odometer: 180, Battery: 24.5\n",
      "Vehicle id: 1 is Travel. This vehicle has travelled: 180 miles. Battery: 24.5 kWh\n",
      "Current EV state: Travel_low\n",
      "EV: 1. This vehicle has travelled: 180 miles and is low on battery. This vehicle's current charge level is: 24.5 kwh\n",
      "EV 1 is low on charge and is seeking a charge station. Current charge: 24.5 kWh\n",
      "Vehicle 1 is travelling. Odometer: 200, Battery: 14.5\n",
      "EV 1 is low on battery and is at a station. Seeking charge queue. Current EV state: Seek_queue\n",
      "Charge Station selected: 7\n",
      "Length of q 1: 0. Length of q 2: 0\n",
      "EV 1 selected queue 1 at Charge Station 7\n",
      "Vehicle 1 selected Charge Station: 7 for charging.\n",
      "Charging. Vehicle 1 is Charge. This vehicle has travelled: 200 miles. Battery: 14.5 kWh\n",
      "EV 6 is in state; Charge\n",
      "EV 2 at CP 6 is in state: Charge, CLevel 37.5\n",
      "Charging. Vehicle 2 is Charge. This vehicle has travelled: 160 miles. Battery: 37.5 kWh\n",
      "\n",
      "Current timestep (tick): 17.\n",
      "EV 7 is in state; Charge\n",
      "EV 1 at CP 7 is in state: Charge, CLevel 22.0\n",
      "Charging. Vehicle 1 is Charge. This vehicle has travelled: 200 miles. Battery: 22.0 kWh\n",
      "EV 6 is in state; Charge\n",
      "EV 2 at CP 6 is in state: Charge, CLevel 45.0\n",
      "Charging. Vehicle 2 is Charge. This vehicle has travelled: 160 miles. Battery: 45.0 kWh\n",
      "\n",
      "Current timestep (tick): 18.\n",
      "EV 7 is in state; Charge\n",
      "EV 1 at CP 7 is in state: Charge, CLevel 29.5\n",
      "Charging. Vehicle 1 is Charge. This vehicle has travelled: 200 miles. Battery: 29.5 kWh\n",
      "Charge complete. Vehicle 2 is Charge. This vehicle has travelled: 160 miles. Battery: 45.0 kWh\n",
      "\n",
      "Current timestep (tick): 19.\n",
      "EV 7 is in state; Charge\n",
      "EV 1 at CP 7 is in state: Charge, CLevel 37.0\n",
      "Charging. Vehicle 1 is Charge. This vehicle has travelled: 200 miles. Battery: 37.0 kWh\n",
      "Vehicle 2 is travelling. Odometer: 180, Battery: 35.0\n",
      "Vehicle id: 2 is Travel. This vehicle has travelled: 180 miles. Battery: 35.0 kWh\n",
      "\n",
      "Current timestep (tick): 20.\n",
      "EV 7 is in state; Charge\n",
      "EV 1 at CP 7 is in state: Charge, CLevel 44.5\n",
      "Charging. Vehicle 1 is Charge. This vehicle has travelled: 200 miles. Battery: 44.5 kWh\n",
      "Vehicle 2 is travelling. Odometer: 200, Battery: 25.0\n",
      "Vehicle id: 2 is Travel. This vehicle has travelled: 200 miles. Battery: 25.0 kWh\n",
      "EV has arrived at Charge Station but is not yet low on battery\n",
      "\n",
      "Current timestep (tick): 21.\n",
      "EV 7 is in state; Charge\n",
      "EV 1 at CP 7 is in state: Charge, CLevel 52.0\n",
      "Charging. Vehicle 1 is Charge. This vehicle has travelled: 200 miles. Battery: 52.0 kWh\n",
      "Vehicle 2 is travelling. Odometer: 220, Battery: 15.0\n",
      "Vehicle id: 2 is Travel. This vehicle has travelled: 220 miles. Battery: 15.0 kWh\n",
      "Current EV state: Travel_low\n",
      "EV: 2. This vehicle has travelled: 220 miles and is low on battery. This vehicle's current charge level is: 15.0 kwh\n",
      "EV 2 is low on charge and is seeking a charge station. Current charge: 15.0 kWh\n",
      "Vehicle 2 is travelling. Odometer: 240, Battery: 5.0\n",
      "\n",
      "Current timestep (tick): 22.\n",
      "Charge complete. Vehicle 1 is Charge. This vehicle has travelled: 200 miles. Battery: 52.0 kWh\n",
      "EV 2 is low on charge and is seeking a charge station. Current charge: 5.0 kWh\n",
      "Vehicle 2 is travelling. Odometer: 260, Battery: -5.0\n"
     ]
    },
    {
     "ename": "MachineError",
     "evalue": "\"Can't trigger event end_travel from state Travel_low!\"",
     "output_type": "error",
     "traceback": [
      "\u001b[0;31m---------------------------------------------------------------------------\u001b[0m",
      "\u001b[0;31mMachineError\u001b[0m                              Traceback (most recent call last)",
      "Cell \u001b[0;32mIn[5], line 3\u001b[0m\n\u001b[1;32m      1\u001b[0m model_run \u001b[39m=\u001b[39m model\u001b[39m.\u001b[39mEVModel(ticks\u001b[39m=\u001b[39mticks, no_evs\u001b[39m=\u001b[39mno_evs, no_cps\u001b[39m=\u001b[39mno_cps)\n\u001b[1;32m      2\u001b[0m \u001b[39mfor\u001b[39;00m i \u001b[39min\u001b[39;00m \u001b[39mrange\u001b[39m(ticks):\n\u001b[0;32m----> 3\u001b[0m     model_run\u001b[39m.\u001b[39;49mstep()\n",
      "File \u001b[0;32m~/vspy/ec4d/ec4d/EV/model.py:157\u001b[0m, in \u001b[0;36mEVModel.step\u001b[0;34m(self)\u001b[0m\n\u001b[1;32m    154\u001b[0m \u001b[39mprint\u001b[39m(\u001b[39mf\u001b[39m\u001b[39m\"\u001b[39m\u001b[39m\\n\u001b[39;00m\u001b[39mCurrent timestep (tick): \u001b[39m\u001b[39m{\u001b[39;00m\u001b[39mself\u001b[39m\u001b[39m.\u001b[39m_current_tick\u001b[39m}\u001b[39;00m\u001b[39m.\u001b[39m\u001b[39m\"\u001b[39m)\n\u001b[1;32m    155\u001b[0m \u001b[39m# print(\"Active CPs: \" + str(get_active_cps(self)))\u001b[39;00m\n\u001b[1;32m    156\u001b[0m \u001b[39m# print(self.get_agent_count(self))\u001b[39;00m\n\u001b[0;32m--> 157\u001b[0m \u001b[39mself\u001b[39;49m\u001b[39m.\u001b[39;49mschedule\u001b[39m.\u001b[39;49mstep()\n\u001b[1;32m    158\u001b[0m \u001b[39mif\u001b[39;00m (\u001b[39mself\u001b[39m\u001b[39m.\u001b[39mschedule\u001b[39m.\u001b[39msteps \u001b[39m+\u001b[39m \u001b[39m1\u001b[39m) \u001b[39m%\u001b[39m \u001b[39m24\u001b[39m \u001b[39m==\u001b[39m \u001b[39m0\u001b[39m:\n\u001b[1;32m    159\u001b[0m     \u001b[39mprint\u001b[39m(\u001b[39m\"\u001b[39m\u001b[39mThis is the end of day: \u001b[39m\u001b[39m\"\u001b[39m \u001b[39m+\u001b[39m \u001b[39mstr\u001b[39m((\u001b[39mself\u001b[39m\u001b[39m.\u001b[39mschedule\u001b[39m.\u001b[39msteps \u001b[39m+\u001b[39m \u001b[39m1\u001b[39m) \u001b[39m/\u001b[39m \u001b[39m24\u001b[39m))\n",
      "File \u001b[0;32m~/Library/Python/3.9/lib/python/site-packages/mesa/time.py:146\u001b[0m, in \u001b[0;36mSimultaneousActivation.step\u001b[0;34m(self)\u001b[0m\n\u001b[1;32m    144\u001b[0m \u001b[39m\"\"\"Step all agents, then advance them.\"\"\"\u001b[39;00m\n\u001b[1;32m    145\u001b[0m \u001b[39mfor\u001b[39;00m agent \u001b[39min\u001b[39;00m \u001b[39mself\u001b[39m\u001b[39m.\u001b[39m_agents\u001b[39m.\u001b[39mvalues():\n\u001b[0;32m--> 146\u001b[0m     agent\u001b[39m.\u001b[39;49mstep()\n\u001b[1;32m    147\u001b[0m \u001b[39m# the previous steps might remove some agents, but\u001b[39;00m\n\u001b[1;32m    148\u001b[0m \u001b[39m# this loop will go over the remaining existing agents\u001b[39;00m\n\u001b[1;32m    149\u001b[0m \u001b[39mfor\u001b[39;00m agent \u001b[39min\u001b[39;00m \u001b[39mself\u001b[39m\u001b[39m.\u001b[39m_agents\u001b[39m.\u001b[39mvalues():\n",
      "File \u001b[0;32m~/vspy/ec4d/ec4d/EV/agent.py:416\u001b[0m, in \u001b[0;36mEV.step\u001b[0;34m(self)\u001b[0m\n\u001b[1;32m    414\u001b[0m \u001b[39m# Transition Case 7: Journey Complete. travel -> idle\u001b[39;00m\n\u001b[1;32m    415\u001b[0m \u001b[39mif\u001b[39;00m (\u001b[39mself\u001b[39m\u001b[39m.\u001b[39mmachine\u001b[39m.\u001b[39mstate \u001b[39m==\u001b[39m \u001b[39m'\u001b[39m\u001b[39mTravel\u001b[39m\u001b[39m'\u001b[39m \u001b[39mor\u001b[39;00m \u001b[39mself\u001b[39m\u001b[39m.\u001b[39mmachine\u001b[39m.\u001b[39mstate \u001b[39m==\u001b[39m \u001b[39m'\u001b[39m\u001b[39mTravel_low\u001b[39m\u001b[39m'\u001b[39m) \u001b[39mand\u001b[39;00m \u001b[39mself\u001b[39m\u001b[39m.\u001b[39modometer \u001b[39m>\u001b[39m\u001b[39m=\u001b[39m \u001b[39mself\u001b[39m\u001b[39m.\u001b[39m_distance_goal:\n\u001b[0;32m--> 416\u001b[0m     \u001b[39mself\u001b[39;49m\u001b[39m.\u001b[39;49mmachine\u001b[39m.\u001b[39;49mend_travel()\n\u001b[1;32m    417\u001b[0m     \u001b[39mprint\u001b[39m(\u001b[39m\"\u001b[39m\u001b[39mCurrent EV state: \u001b[39m\u001b[39m\"\u001b[39m \u001b[39m+\u001b[39m \u001b[39mstr\u001b[39m(\u001b[39mself\u001b[39m\u001b[39m.\u001b[39mmachine\u001b[39m.\u001b[39mstate))\n\u001b[1;32m    418\u001b[0m     \u001b[39mprint\u001b[39m(\u001b[39m\"\u001b[39m\u001b[39mVehicle \u001b[39m\u001b[39m\"\u001b[39m \u001b[39m+\u001b[39m \u001b[39mstr\u001b[39m(\u001b[39mself\u001b[39m\u001b[39m.\u001b[39munique_id) \u001b[39m+\u001b[39m \u001b[39m\"\u001b[39m\u001b[39m has completed its journey and is now \u001b[39m\u001b[39m\"\u001b[39m \u001b[39m+\u001b[39m \u001b[39mstr\u001b[39m(\u001b[39mself\u001b[39m\u001b[39m.\u001b[39mmachine\u001b[39m.\u001b[39mstate))\n",
      "File \u001b[0;32m~/Library/Python/3.9/lib/python/site-packages/transitions/core.py:402\u001b[0m, in \u001b[0;36mEvent.trigger\u001b[0;34m(self, model, *args, **kwargs)\u001b[0m\n\u001b[1;32m    397\u001b[0m func \u001b[39m=\u001b[39m partial(\u001b[39mself\u001b[39m\u001b[39m.\u001b[39m_trigger, EventData(\u001b[39mNone\u001b[39;00m, \u001b[39mself\u001b[39m, \u001b[39mself\u001b[39m\u001b[39m.\u001b[39mmachine, model, args\u001b[39m=\u001b[39margs, kwargs\u001b[39m=\u001b[39mkwargs))\n\u001b[1;32m    398\u001b[0m \u001b[39m# pylint: disable=protected-access\u001b[39;00m\n\u001b[1;32m    399\u001b[0m \u001b[39m# noinspection PyProtectedMember\u001b[39;00m\n\u001b[1;32m    400\u001b[0m \u001b[39m# Machine._process should not be called somewhere else. That's why it should not be exposed\u001b[39;00m\n\u001b[1;32m    401\u001b[0m \u001b[39m# to Machine users.\u001b[39;00m\n\u001b[0;32m--> 402\u001b[0m \u001b[39mreturn\u001b[39;00m \u001b[39mself\u001b[39;49m\u001b[39m.\u001b[39;49mmachine\u001b[39m.\u001b[39;49m_process(func)\n",
      "File \u001b[0;32m~/Library/Python/3.9/lib/python/site-packages/transitions/core.py:1211\u001b[0m, in \u001b[0;36mMachine._process\u001b[0;34m(self, trigger)\u001b[0m\n\u001b[1;32m   1208\u001b[0m \u001b[39mif\u001b[39;00m \u001b[39mnot\u001b[39;00m \u001b[39mself\u001b[39m\u001b[39m.\u001b[39mhas_queue:\n\u001b[1;32m   1209\u001b[0m     \u001b[39mif\u001b[39;00m \u001b[39mnot\u001b[39;00m \u001b[39mself\u001b[39m\u001b[39m.\u001b[39m_transition_queue:\n\u001b[1;32m   1210\u001b[0m         \u001b[39m# if trigger raises an Error, it has to be handled by the Machine.process caller\u001b[39;00m\n\u001b[0;32m-> 1211\u001b[0m         \u001b[39mreturn\u001b[39;00m trigger()\n\u001b[1;32m   1212\u001b[0m     \u001b[39mraise\u001b[39;00m MachineError(\u001b[39m\"\u001b[39m\u001b[39mAttempt to process events synchronously while transition queue is not empty!\u001b[39m\u001b[39m\"\u001b[39m)\n\u001b[1;32m   1214\u001b[0m \u001b[39m# process queued events\u001b[39;00m\n",
      "File \u001b[0;32m~/Library/Python/3.9/lib/python/site-packages/transitions/core.py:415\u001b[0m, in \u001b[0;36mEvent._trigger\u001b[0;34m(self, event_data)\u001b[0m\n\u001b[1;32m    413\u001b[0m event_data\u001b[39m.\u001b[39mstate \u001b[39m=\u001b[39m \u001b[39mself\u001b[39m\u001b[39m.\u001b[39mmachine\u001b[39m.\u001b[39mget_model_state(event_data\u001b[39m.\u001b[39mmodel)\n\u001b[1;32m    414\u001b[0m \u001b[39mtry\u001b[39;00m:\n\u001b[0;32m--> 415\u001b[0m     \u001b[39mif\u001b[39;00m \u001b[39mself\u001b[39;49m\u001b[39m.\u001b[39;49m_is_valid_source(event_data\u001b[39m.\u001b[39;49mstate):\n\u001b[1;32m    416\u001b[0m         \u001b[39mself\u001b[39m\u001b[39m.\u001b[39m_process(event_data)\n\u001b[1;32m    417\u001b[0m \u001b[39mexcept\u001b[39;00m \u001b[39mException\u001b[39;00m \u001b[39mas\u001b[39;00m err:  \u001b[39m# pylint: disable=broad-except; Exception will be handled elsewhere\u001b[39;00m\n",
      "File \u001b[0;32m~/Library/Python/3.9/lib/python/site-packages/transitions/core.py:452\u001b[0m, in \u001b[0;36mEvent._is_valid_source\u001b[0;34m(self, state)\u001b[0m\n\u001b[1;32m    450\u001b[0m         _LOGGER\u001b[39m.\u001b[39mwarning(msg)\n\u001b[1;32m    451\u001b[0m         \u001b[39mreturn\u001b[39;00m \u001b[39mFalse\u001b[39;00m\n\u001b[0;32m--> 452\u001b[0m     \u001b[39mraise\u001b[39;00m MachineError(msg)\n\u001b[1;32m    453\u001b[0m \u001b[39mreturn\u001b[39;00m \u001b[39mTrue\u001b[39;00m\n",
      "\u001b[0;31mMachineError\u001b[0m: \"Can't trigger event end_travel from state Travel_low!\""
     ]
    }
   ],
   "source": [
    "model_run = model.EVModel(ticks=ticks, no_evs=no_evs, no_cps=no_cps)\n",
    "for i in range(ticks):\n",
    "    model_run.step()"
   ]
  },
  {
   "cell_type": "code",
   "execution_count": null,
   "metadata": {},
   "outputs": [],
   "source": [
    "run_stats = model_run.datacollector.get_model_vars_dataframe()\n",
    "print(run_stats)"
   ]
  },
  {
   "cell_type": "code",
   "execution_count": null,
   "metadata": {},
   "outputs": [],
   "source": [
    "a = 26 % 24\n",
    "print(a) "
   ]
  },
  {
   "attachments": {},
   "cell_type": "markdown",
   "metadata": {},
   "source": [
    "Export results to CSV file"
   ]
  },
  {
   "cell_type": "code",
   "execution_count": null,
   "metadata": {},
   "outputs": [],
   "source": [
    "model_run.datacollector.get_model_vars_dataframe().to_csv('model_output.csv')"
   ]
  },
  {
   "attachments": {},
   "cell_type": "markdown",
   "metadata": {},
   "source": [
    "### Batching"
   ]
  },
  {
   "cell_type": "code",
   "execution_count": null,
   "metadata": {},
   "outputs": [],
   "source": [
    "from mesa.batchrunner import BatchRunner\n",
    "\n",
    "EVcounts = (100,500,1000)\n",
    "cpcounts = (1,2)\n",
    "tickcounts = (24,48)\n",
    "model_reporters={'EVs Charged': get_evs_charged,\n",
    "                'EVs Activated': get_evs_active,\n",
    "                'EVs Travelling': get_evs_travel,\n",
    "                'EVs Charge Level': get_evs_charge_level,\n",
    "                'EVs Currently charging': get_evs_charging,\n",
    "                'EVs Not Idle': get_evs_not_idle,\n",
    "                'EOD Battery SOC': get_eod_evs_socs,\n",
    "                'EVs Destinations': get_evs_destinations,\n",
    "                }\n",
    "# parameters = {\"no_evs\": range(1000,20000,3000), \"no_cps\": 1}\n",
    "parameters = {\"no_evs\": EVcounts, \"no_cps\": cpcounts, \"ticks\": tickcounts}\n",
    "batch_run = BatchRunner(model.EVModel, parameters, max_steps=24, iterations=1, model_reporters= model_reporters) #iterations=1\n",
    "batch_run.run_all()"
   ]
  },
  {
   "cell_type": "code",
   "execution_count": null,
   "metadata": {},
   "outputs": [],
   "source": [
    "# batch_df = batch_run.get_model_vars_dataframe()"
   ]
  },
  {
   "cell_type": "code",
   "execution_count": null,
   "metadata": {},
   "outputs": [],
   "source": [
    "# print(batch_df)"
   ]
  },
  {
   "attachments": {},
   "cell_type": "markdown",
   "metadata": {},
   "source": [
    "### Visualisations"
   ]
  },
  {
   "cell_type": "code",
   "execution_count": null,
   "metadata": {},
   "outputs": [],
   "source": []
  },
  {
   "attachments": {},
   "cell_type": "markdown",
   "metadata": {},
   "source": [
    "### Scrapbook"
   ]
  },
  {
   "cell_type": "code",
   "execution_count": null,
   "metadata": {},
   "outputs": [],
   "source": []
  }
 ],
 "metadata": {
  "kernelspec": {
   "display_name": "Python 3",
   "language": "python",
   "name": "python3"
  },
  "language_info": {
   "codemirror_mode": {
    "name": "ipython",
    "version": 3
   },
   "file_extension": ".py",
   "mimetype": "text/x-python",
   "name": "python",
   "nbconvert_exporter": "python",
   "pygments_lexer": "ipython3",
   "version": "3.9.6"
  },
  "orig_nbformat": 4,
  "vscode": {
   "interpreter": {
    "hash": "31f2aee4e71d21fbe5cf8b01ff0e069b9275f58929596ceb00d14d90e3e16cd6"
   }
  }
 },
 "nbformat": 4,
 "nbformat_minor": 2
}
