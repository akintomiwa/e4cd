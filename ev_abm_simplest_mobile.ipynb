{
 "cells": [
  {
   "attachments": {},
   "cell_type": "markdown",
   "metadata": {},
   "source": [
    "### AB Model from spec"
   ]
  },
  {
   "attachments": {},
   "cell_type": "markdown",
   "metadata": {},
   "source": [
    "Package installation"
   ]
  },
  {
   "cell_type": "code",
   "execution_count": null,
   "metadata": {},
   "outputs": [],
   "source": [
    "# !pip3 install seaborn\n",
    "# !pip3 install python-statemachine\n",
    "# !pip3 install mesa\n",
    "# !pip3 install transitions\n",
    "# !pip3 install scipy\n",
    "# !pip3 install cufflinks\n",
    "# !pip3 install graphviz pygraphviz\n",
    "# !pip3 install graphviz\n",
    "# !pip3 install transitions[diagrams]\n",
    "# !pip3 uninstall mesa"
   ]
  },
  {
   "attachments": {},
   "cell_type": "markdown",
   "metadata": {},
   "source": [
    "Package importation"
   ]
  },
  {
   "cell_type": "code",
   "execution_count": 1,
   "metadata": {},
   "outputs": [
    {
     "data": {
      "text/html": [
       "        <script type=\"text/javascript\">\n",
       "        window.PlotlyConfig = {MathJaxConfig: 'local'};\n",
       "        if (window.MathJax && window.MathJax.Hub && window.MathJax.Hub.Config) {window.MathJax.Hub.Config({SVG: {font: \"STIX-Web\"}});}\n",
       "        if (typeof require !== 'undefined') {\n",
       "        require.undef(\"plotly\");\n",
       "        requirejs.config({\n",
       "            paths: {\n",
       "                'plotly': ['https://cdn.plot.ly/plotly-2.16.1.min']\n",
       "            }\n",
       "        });\n",
       "        require(['plotly'], function(Plotly) {\n",
       "            window._Plotly = Plotly;\n",
       "        });\n",
       "        }\n",
       "        </script>\n",
       "        "
      ]
     },
     "metadata": {},
     "output_type": "display_data"
    }
   ],
   "source": [
    "# imports\n",
    "import os\n",
    "import seaborn as sns\n",
    "from random import choice\n",
    "import warnings\n",
    "warnings.simplefilter(\"ignore\")\n",
    "import pandas as pd\n",
    "import numpy as np\n",
    "import mesa\n",
    "from mesa import Agent, Model\n",
    "from mesa.time import RandomActivation, RandomActivationByType, SimultaneousActivation\n",
    "from mesa.datacollection import DataCollector\n",
    "from matplotlib import pyplot as plt, patches\n",
    "import scipy.stats as ss\n",
    "import cufflinks as cf\n",
    "cf.go_offline()\n",
    "from plotly.offline import iplot\n",
    "from transitions import Machine\n",
    "import random\n",
    "from transitions.extensions import GraphMachine\n",
    "import graphviz\n",
    "import timeit\n",
    "import timeit\n",
    "\n",
    "import logging\n",
    "os.environ[\"PATH\"] += os.pathsep + '/Users/isaacao/homebrew/bin' # for graphviz"
   ]
  },
  {
   "attachments": {},
   "cell_type": "markdown",
   "metadata": {},
   "source": [
    "Model component importation"
   ]
  },
  {
   "cell_type": "code",
   "execution_count": null,
   "metadata": {},
   "outputs": [],
   "source": [
    "from EV.agent import EV, ChargeStation\n",
    "import EV.model as model\n",
    "from EV.statemachine import EVSM, LSM\n",
    "from EV.model import get_evs_charge, get_evs_charge_level, get_evs_active, get_evs_charging, get_evs_queue, get_evs_travel, get_evs_not_idle, get_active_chargestations, get_eod_evs_socs, get_evs_destinations, get_ev_distance_covered"
   ]
  },
  {
   "attachments": {},
   "cell_type": "markdown",
   "metadata": {},
   "source": [
    "State diagram"
   ]
  },
  {
   "attachments": {},
   "cell_type": "markdown",
   "metadata": {},
   "source": [
    "### Model"
   ]
  },
  {
   "attachments": {},
   "cell_type": "markdown",
   "metadata": {},
   "source": [
    "Model parameters"
   ]
  },
  {
   "cell_type": "code",
   "execution_count": null,
   "metadata": {},
   "outputs": [],
   "source": [
    "ticks =  48 # 3600 ticks = 3600 seconds = 1 hour\n",
    "no_evs = 2\n",
    "# no of css must be fixed\n",
    "no_css = 5"
   ]
  },
  {
   "attachments": {},
   "cell_type": "markdown",
   "metadata": {},
   "source": [
    "Run Model"
   ]
  },
  {
   "cell_type": "code",
   "execution_count": null,
   "metadata": {},
   "outputs": [],
   "source": [
    "model_run = model.EVModel(ticks=ticks, no_evs=no_evs, no_css=no_css)\n",
    "for i in range(ticks):\n",
    "    model_run.step()"
   ]
  },
  {
   "cell_type": "code",
   "execution_count": null,
   "metadata": {},
   "outputs": [],
   "source": [
    "run_stats = model_run.datacollector.get_model_vars_dataframe()\n",
    "print(run_stats)"
   ]
  },
  {
   "cell_type": "code",
   "execution_count": null,
   "metadata": {},
   "outputs": [],
   "source": [
    "a = 26 % 24\n",
    "print(a) "
   ]
  },
  {
   "attachments": {},
   "cell_type": "markdown",
   "metadata": {},
   "source": [
    "Export results to CSV file"
   ]
  },
  {
   "cell_type": "code",
   "execution_count": null,
   "metadata": {},
   "outputs": [],
   "source": [
    "model_run.datacollector.get_model_vars_dataframe().to_csv('01_03_5EV_agent_model_output.csv')"
   ]
  },
  {
   "cell_type": "code",
   "execution_count": null,
   "metadata": {},
   "outputs": [],
   "source": [
    "# def unpack_datacollector(dc):\n",
    "#     \"\"\"\n",
    "#     Unpacks the data from a DataCollector instance in Mesa.\n",
    "    \n",
    "#     Args:\n",
    "#         dc (DataCollector): A DataCollector instance in Mesa.\n",
    "    \n",
    "#     Returns:\n",
    "#         A dictionary with the keys as the variable names and the values as the lists of data for each variable.\n",
    "#     \"\"\"\n",
    "#     data = {}\n",
    "#     for varname, var in dc.model_vars.items():\n",
    "#         data[varname] = var.get_data()\n",
    "#     return data"
   ]
  },
  {
   "attachments": {},
   "cell_type": "markdown",
   "metadata": {},
   "source": [
    "### Data import and preprocessing"
   ]
  },
  {
   "attachments": {},
   "cell_type": "markdown",
   "metadata": {},
   "source": [
    "Helper functions"
   ]
  },
  {
   "cell_type": "code",
   "execution_count": 3,
   "metadata": {},
   "outputs": [],
   "source": [
    "def split_column_values(df, col_name):\n",
    "    \"\"\"\n",
    "    Splits the values in a column by commas and creates a new column for each value.\n",
    "\n",
    "    Args:\n",
    "        df (pandas.DataFrame): A pandas DataFrame.\n",
    "        col_name (str): The name of the column to split.\n",
    "\n",
    "    Returns:\n",
    "        A pandas DataFrame with additional columns for each value in the input column.\n",
    "    \"\"\"\n",
    "    # Get the unique values in the column\n",
    "    unique_values = set(df[col_name].str.cat(sep=',').split(','))\n",
    "\n",
    "    # Create a new column for each unique value\n",
    "    for value in unique_values:\n",
    "        df[value] = df[col_name].str.contains(value).astype(int)\n",
    "\n",
    "    # Drop the original column\n",
    "    df.drop(col_name, axis=1, inplace=True)\n",
    "\n",
    "    return df\n",
    "\n",
    "\n",
    "def unpack_and_join(df, column_name):\n",
    "    \"\"\"\n",
    "    Unpacks the values in a column by commas and creates a new column for each value. Removes square brackets from the values.\n",
    "    \"\"\"\n",
    "    # Get the column values as a list of strings\n",
    "    column_values = df[column_name].tolist()\n",
    "\n",
    "    # Strip the square brackets from the strings\n",
    "    column_values = [s.strip(\"[]\") for s in column_values]\n",
    "\n",
    "    # Split the strings on commas and create a list of lists\n",
    "    split_values = [s.split(\",\") for s in column_values]\n",
    "\n",
    "    # Get the number of columns needed\n",
    "    num_cols = max([len(row) for row in split_values])\n",
    "\n",
    "    # Create the new columns in the output dataframe\n",
    "    column_names = [column_name+\"_unpacked_\"+str(i) for i in range(num_cols)]\n",
    "    new_df = pd.DataFrame(columns=column_names)\n",
    "\n",
    "    # Loop over the original column values and add the unpacked values to the new dataframe\n",
    "    for vals in split_values:\n",
    "        row_data = {}\n",
    "        for i in range(num_cols):\n",
    "            if i < len(vals):\n",
    "                row_data[column_name+\"_unpacked_\"+str(i)] = vals[i].strip()\n",
    "            else:\n",
    "                row_data[column_name+\"_unpacked_\"+str(i)] = \"\"\n",
    "        new_df = new_df.append(row_data, ignore_index=True)\n",
    "\n",
    "    # Merge the original dataframe with the new unpacked dataframe\n",
    "    merged_df = pd.concat([df, new_df], axis=1)\n",
    "\n",
    "    return merged_df\n"
   ]
  },
  {
   "cell_type": "code",
   "execution_count": 4,
   "metadata": {},
   "outputs": [],
   "source": [
    "data = pd.read_csv('01_03_5EV_agent_model_output.csv')"
   ]
  },
  {
   "cell_type": "code",
   "execution_count": 5,
   "metadata": {},
   "outputs": [
    {
     "name": "stdout",
     "output_type": "stream",
     "text": [
      "<class 'pandas.core.frame.DataFrame'>\n",
      "RangeIndex: 48 entries, 0 to 47\n",
      "Data columns (total 14 columns):\n",
      " #   Column                                  Non-Null Count  Dtype  \n",
      "---  ------                                  --------------  -----  \n",
      " 0   Unnamed: 0                              48 non-null     int64  \n",
      " 1   EVs Charging                            48 non-null     int64  \n",
      " 2   EVs Activated                           48 non-null     int64  \n",
      " 3   EVs Travelling                          48 non-null     int64  \n",
      " 4   EVs Queued                              48 non-null     int64  \n",
      " 5   EVs Charge Level                        48 non-null     object \n",
      " 6   EVs Currently charging                  48 non-null     int64  \n",
      " 7   EVs Not Idle                            48 non-null     int64  \n",
      " 8   EOD Battery SOC                         48 non-null     object \n",
      " 9   EVs Destinations                        48 non-null     object \n",
      " 10  EVs at Charging Station - S             48 non-null     int64  \n",
      " 11  Length of Queue 1 at Charging Stations  48 non-null     object \n",
      " 12  Length of Queue 2 at Charging Stations  48 non-null     object \n",
      " 13  EVs at Charging Stations                0 non-null      float64\n",
      "dtypes: float64(1), int64(8), object(5)\n",
      "memory usage: 5.4+ KB\n"
     ]
    }
   ],
   "source": [
    "data.info()"
   ]
  },
  {
   "cell_type": "code",
   "execution_count": 6,
   "metadata": {},
   "outputs": [
    {
     "name": "stdout",
     "output_type": "stream",
     "text": [
      "    Unnamed: 0  EVs Charging  EVs Activated  EVs Travelling  EVs Queued  \\\n",
      "0            0             0              2               0           0   \n",
      "1            1             0              2               0           0   \n",
      "2            2             0              2               0           0   \n",
      "3            3             0              2               0           0   \n",
      "4            4             0              2               0           0   \n",
      "5            5             0              2               0           0   \n",
      "6            6             0              2               0           0   \n",
      "7            7             0              2               0           0   \n",
      "8            8             0              2               1           0   \n",
      "9            9             0              2               1           0   \n",
      "10          10             0              2               1           0   \n",
      "11          11             0              2               1           0   \n",
      "12          12             0              2               2           0   \n",
      "13          13             1              2               1           0   \n",
      "14          14             1              2               1           0   \n",
      "15          15             1              2               1           0   \n",
      "16          16             1              2               0           0   \n",
      "17          17             1              2               0           0   \n",
      "18          18             1              2               0           0   \n",
      "19          19             1              2               0           0   \n",
      "20          20             0              2               1           0   \n",
      "21          21             0              2               1           0   \n",
      "22          22             0              2               0           0   \n",
      "23          23             0              2               0           0   \n",
      "24          24             0              2               0           0   \n",
      "25          25             0              2               0           0   \n",
      "26          26             0              2               0           0   \n",
      "27          27             0              2               0           0   \n",
      "28          28             0              2               0           0   \n",
      "29          29             0              2               0           0   \n",
      "30          30             0              2               0           0   \n",
      "31          31             0              2               1           0   \n",
      "32          32             1              2               0           0   \n",
      "33          33             1              2               0           0   \n",
      "34          34             1              2               1           0   \n",
      "35          35             1              2               1           0   \n",
      "36          36             1              2               1           0   \n",
      "37          37             0              2               2           0   \n",
      "38          38             0              2               2           0   \n",
      "39          39             0              2               1           0   \n",
      "40          40             0              2               1           0   \n",
      "41          41             1              2               0           0   \n",
      "42          42             1              2               0           0   \n",
      "43          43             1              2               0           0   \n",
      "44          44             1              2               0           0   \n",
      "45          45             1              2               0           0   \n",
      "46          46             1              2               0           0   \n",
      "47          47             0              2               1           0   \n",
      "\n",
      "   EVs Charge Level  EVs Currently charging  EVs Not Idle  \\\n",
      "0          [62, 54]                       0             0   \n",
      "1          [62, 54]                       0             0   \n",
      "2          [62, 54]                       0             0   \n",
      "3          [62, 54]                       0             0   \n",
      "4          [62, 54]                       0             0   \n",
      "5          [62, 54]                       0             0   \n",
      "6          [62, 54]                       0             0   \n",
      "7          [62, 54]                       0             0   \n",
      "8        [52.0, 54]                       0             1   \n",
      "9        [42.0, 54]                       0             1   \n",
      "10       [32.0, 54]                       0             1   \n",
      "11       [22.0, 54]                       0             1   \n",
      "12     [12.0, 52.0]                       0             2   \n",
      "13      [9.5, 50.0]                       0             2   \n",
      "14     [17.0, 48.0]                       0             2   \n",
      "15     [24.5, 46.0]                       0             2   \n",
      "16     [32.0, 44.0]                       0             1   \n",
      "17     [39.5, 44.0]                       0             1   \n",
      "18     [47.0, 44.0]                       0             1   \n",
      "19     [54.5, 44.0]                       0             1   \n",
      "20     [54.5, 44.0]                       0             1   \n",
      "21     [44.5, 44.0]                       0             1   \n",
      "22     [34.5, 44.0]                       0             0   \n",
      "23     [34.5, 44.0]                       0             0   \n",
      "24     [34.5, 44.0]                       0             0   \n",
      "25     [34.5, 44.0]                       0             0   \n",
      "26     [34.5, 44.0]                       0             0   \n",
      "27     [34.5, 44.0]                       0             0   \n",
      "28     [34.5, 44.0]                       0             0   \n",
      "29     [34.5, 44.0]                       0             0   \n",
      "30     [34.5, 44.0]                       0             0   \n",
      "31     [24.5, 44.0]                       0             1   \n",
      "32     [22.0, 44.0]                       0             1   \n",
      "33     [29.5, 44.0]                       0             1   \n",
      "34     [37.0, 42.0]                       0             2   \n",
      "35     [44.5, 40.0]                       0             2   \n",
      "36     [52.0, 38.0]                       0             2   \n",
      "37     [52.0, 36.0]                       0             2   \n",
      "38     [42.0, 34.0]                       0             2   \n",
      "39     [32.0, 32.0]                       0             1   \n",
      "40     [22.0, 32.0]                       0             1   \n",
      "41     [19.5, 32.0]                       0             1   \n",
      "42     [27.0, 32.0]                       0             1   \n",
      "43     [34.5, 32.0]                       0             1   \n",
      "44     [42.0, 32.0]                       0             1   \n",
      "45     [49.5, 32.0]                       0             1   \n",
      "46     [57.0, 32.0]                       0             1   \n",
      "47     [57.0, 32.0]                       0             1   \n",
      "\n",
      "                 EOD Battery SOC        EVs Destinations  \\\n",
      "0   [[34.5, 57.0], [44.0, 32.0]]      ['City C', 'work']   \n",
      "1   [[34.5, 57.0], [44.0, 32.0]]      ['City C', 'work']   \n",
      "2   [[34.5, 57.0], [44.0, 32.0]]      ['City C', 'work']   \n",
      "3   [[34.5, 57.0], [44.0, 32.0]]      ['City C', 'work']   \n",
      "4   [[34.5, 57.0], [44.0, 32.0]]      ['City C', 'work']   \n",
      "5   [[34.5, 57.0], [44.0, 32.0]]      ['City C', 'work']   \n",
      "6   [[34.5, 57.0], [44.0, 32.0]]      ['City C', 'work']   \n",
      "7   [[34.5, 57.0], [44.0, 32.0]]      ['City C', 'work']   \n",
      "8   [[34.5, 57.0], [44.0, 32.0]]      ['City C', 'work']   \n",
      "9   [[34.5, 57.0], [44.0, 32.0]]      ['City C', 'work']   \n",
      "10  [[34.5, 57.0], [44.0, 32.0]]      ['City C', 'work']   \n",
      "11  [[34.5, 57.0], [44.0, 32.0]]      ['City C', 'work']   \n",
      "12  [[34.5, 57.0], [44.0, 32.0]]      ['City C', 'work']   \n",
      "13  [[34.5, 57.0], [44.0, 32.0]]      ['City C', 'work']   \n",
      "14  [[34.5, 57.0], [44.0, 32.0]]      ['City C', 'work']   \n",
      "15  [[34.5, 57.0], [44.0, 32.0]]      ['City C', 'work']   \n",
      "16  [[34.5, 57.0], [44.0, 32.0]]      ['City C', 'work']   \n",
      "17  [[34.5, 57.0], [44.0, 32.0]]      ['City C', 'work']   \n",
      "18  [[34.5, 57.0], [44.0, 32.0]]      ['City C', 'work']   \n",
      "19  [[34.5, 57.0], [44.0, 32.0]]      ['City C', 'work']   \n",
      "20  [[34.5, 57.0], [44.0, 32.0]]      ['City C', 'work']   \n",
      "21  [[34.5, 57.0], [44.0, 32.0]]      ['City C', 'work']   \n",
      "22  [[34.5, 57.0], [44.0, 32.0]]      ['City C', 'work']   \n",
      "23  [[34.5, 57.0], [44.0, 32.0]]      ['City C', 'work']   \n",
      "24  [[34.5, 57.0], [44.0, 32.0]]  ['City C', 'autoshop']   \n",
      "25  [[34.5, 57.0], [44.0, 32.0]]  ['City C', 'autoshop']   \n",
      "26  [[34.5, 57.0], [44.0, 32.0]]  ['City C', 'autoshop']   \n",
      "27  [[34.5, 57.0], [44.0, 32.0]]  ['City C', 'autoshop']   \n",
      "28  [[34.5, 57.0], [44.0, 32.0]]  ['City C', 'autoshop']   \n",
      "29  [[34.5, 57.0], [44.0, 32.0]]  ['City C', 'autoshop']   \n",
      "30  [[34.5, 57.0], [44.0, 32.0]]  ['City C', 'autoshop']   \n",
      "31  [[34.5, 57.0], [44.0, 32.0]]  ['City C', 'autoshop']   \n",
      "32  [[34.5, 57.0], [44.0, 32.0]]  ['City C', 'autoshop']   \n",
      "33  [[34.5, 57.0], [44.0, 32.0]]  ['City C', 'autoshop']   \n",
      "34  [[34.5, 57.0], [44.0, 32.0]]  ['City C', 'autoshop']   \n",
      "35  [[34.5, 57.0], [44.0, 32.0]]  ['City C', 'autoshop']   \n",
      "36  [[34.5, 57.0], [44.0, 32.0]]  ['City C', 'autoshop']   \n",
      "37  [[34.5, 57.0], [44.0, 32.0]]  ['City C', 'autoshop']   \n",
      "38  [[34.5, 57.0], [44.0, 32.0]]  ['City C', 'autoshop']   \n",
      "39  [[34.5, 57.0], [44.0, 32.0]]  ['City C', 'autoshop']   \n",
      "40  [[34.5, 57.0], [44.0, 32.0]]  ['City C', 'autoshop']   \n",
      "41  [[34.5, 57.0], [44.0, 32.0]]  ['City C', 'autoshop']   \n",
      "42  [[34.5, 57.0], [44.0, 32.0]]  ['City C', 'autoshop']   \n",
      "43  [[34.5, 57.0], [44.0, 32.0]]  ['City C', 'autoshop']   \n",
      "44  [[34.5, 57.0], [44.0, 32.0]]  ['City C', 'autoshop']   \n",
      "45  [[34.5, 57.0], [44.0, 32.0]]  ['City C', 'autoshop']   \n",
      "46  [[34.5, 57.0], [44.0, 32.0]]  ['City C', 'autoshop']   \n",
      "47  [[34.5, 57.0], [44.0, 32.0]]  ['City C', 'autoshop']   \n",
      "\n",
      "    EVs at Charging Station - S Length of Queue 1 at Charging Stations  \\\n",
      "0                             0                        [0, 0, 0, 0, 0]   \n",
      "1                             0                        [0, 0, 0, 0, 0]   \n",
      "2                             0                        [0, 0, 0, 0, 0]   \n",
      "3                             0                        [0, 0, 0, 0, 0]   \n",
      "4                             0                        [0, 0, 0, 0, 0]   \n",
      "5                             0                        [0, 0, 0, 0, 0]   \n",
      "6                             0                        [0, 0, 0, 0, 0]   \n",
      "7                             0                        [0, 0, 0, 0, 0]   \n",
      "8                             0                        [0, 0, 0, 0, 0]   \n",
      "9                             0                        [0, 0, 0, 0, 0]   \n",
      "10                            0                        [0, 0, 0, 0, 0]   \n",
      "11                            0                        [0, 0, 0, 0, 0]   \n",
      "12                            0                        [0, 0, 0, 0, 0]   \n",
      "13                            1                        [0, 0, 0, 0, 0]   \n",
      "14                            1                        [0, 0, 0, 0, 0]   \n",
      "15                            1                        [0, 0, 0, 0, 0]   \n",
      "16                            1                        [0, 0, 0, 0, 0]   \n",
      "17                            1                        [0, 0, 0, 0, 0]   \n",
      "18                            1                        [0, 0, 0, 0, 0]   \n",
      "19                            1                        [0, 0, 0, 0, 0]   \n",
      "20                            0                        [0, 0, 0, 0, 0]   \n",
      "21                            0                        [0, 0, 0, 0, 0]   \n",
      "22                            0                        [0, 0, 0, 0, 0]   \n",
      "23                            0                        [0, 0, 0, 0, 0]   \n",
      "24                            0                        [0, 0, 0, 0, 0]   \n",
      "25                            0                        [0, 0, 0, 0, 0]   \n",
      "26                            0                        [0, 0, 0, 0, 0]   \n",
      "27                            0                        [0, 0, 0, 0, 0]   \n",
      "28                            0                        [0, 0, 0, 0, 0]   \n",
      "29                            0                        [0, 0, 0, 0, 0]   \n",
      "30                            0                        [0, 0, 0, 0, 0]   \n",
      "31                            0                        [0, 0, 0, 0, 0]   \n",
      "32                            1                        [0, 0, 0, 0, 0]   \n",
      "33                            1                        [0, 0, 0, 0, 0]   \n",
      "34                            1                        [0, 0, 0, 0, 0]   \n",
      "35                            1                        [0, 0, 0, 0, 0]   \n",
      "36                            1                        [0, 0, 0, 0, 0]   \n",
      "37                            0                        [0, 0, 0, 0, 0]   \n",
      "38                            0                        [0, 0, 0, 0, 0]   \n",
      "39                            0                        [0, 0, 0, 0, 0]   \n",
      "40                            0                        [0, 0, 0, 0, 0]   \n",
      "41                            1                        [0, 0, 0, 0, 0]   \n",
      "42                            1                        [0, 0, 0, 0, 0]   \n",
      "43                            1                        [0, 0, 0, 0, 0]   \n",
      "44                            1                        [0, 0, 0, 0, 0]   \n",
      "45                            1                        [0, 0, 0, 0, 0]   \n",
      "46                            1                        [0, 0, 0, 0, 0]   \n",
      "47                            0                        [0, 0, 0, 0, 0]   \n",
      "\n",
      "   Length of Queue 2 at Charging Stations  EVs at Charging Stations  \\\n",
      "0                         [0, 0, 0, 0, 0]                       NaN   \n",
      "1                         [0, 0, 0, 0, 0]                       NaN   \n",
      "2                         [0, 0, 0, 0, 0]                       NaN   \n",
      "3                         [0, 0, 0, 0, 0]                       NaN   \n",
      "4                         [0, 0, 0, 0, 0]                       NaN   \n",
      "5                         [0, 0, 0, 0, 0]                       NaN   \n",
      "6                         [0, 0, 0, 0, 0]                       NaN   \n",
      "7                         [0, 0, 0, 0, 0]                       NaN   \n",
      "8                         [0, 0, 0, 0, 0]                       NaN   \n",
      "9                         [0, 0, 0, 0, 0]                       NaN   \n",
      "10                        [0, 0, 0, 0, 0]                       NaN   \n",
      "11                        [0, 0, 0, 0, 0]                       NaN   \n",
      "12                        [0, 0, 0, 0, 0]                       NaN   \n",
      "13                        [0, 0, 0, 0, 0]                       NaN   \n",
      "14                        [0, 0, 0, 0, 0]                       NaN   \n",
      "15                        [0, 0, 0, 0, 0]                       NaN   \n",
      "16                        [0, 0, 0, 0, 0]                       NaN   \n",
      "17                        [0, 0, 0, 0, 0]                       NaN   \n",
      "18                        [0, 0, 0, 0, 0]                       NaN   \n",
      "19                        [0, 0, 0, 0, 0]                       NaN   \n",
      "20                        [0, 0, 0, 0, 0]                       NaN   \n",
      "21                        [0, 0, 0, 0, 0]                       NaN   \n",
      "22                        [0, 0, 0, 0, 0]                       NaN   \n",
      "23                        [0, 0, 0, 0, 0]                       NaN   \n",
      "24                        [0, 0, 0, 0, 0]                       NaN   \n",
      "25                        [0, 0, 0, 0, 0]                       NaN   \n",
      "26                        [0, 0, 0, 0, 0]                       NaN   \n",
      "27                        [0, 0, 0, 0, 0]                       NaN   \n",
      "28                        [0, 0, 0, 0, 0]                       NaN   \n",
      "29                        [0, 0, 0, 0, 0]                       NaN   \n",
      "30                        [0, 0, 0, 0, 0]                       NaN   \n",
      "31                        [0, 0, 0, 0, 0]                       NaN   \n",
      "32                        [0, 0, 0, 0, 0]                       NaN   \n",
      "33                        [0, 0, 0, 0, 0]                       NaN   \n",
      "34                        [0, 0, 0, 0, 0]                       NaN   \n",
      "35                        [0, 0, 0, 0, 0]                       NaN   \n",
      "36                        [0, 0, 0, 0, 0]                       NaN   \n",
      "37                        [0, 0, 0, 0, 0]                       NaN   \n",
      "38                        [0, 0, 0, 0, 0]                       NaN   \n",
      "39                        [0, 0, 0, 0, 0]                       NaN   \n",
      "40                        [0, 0, 0, 0, 0]                       NaN   \n",
      "41                        [0, 0, 0, 0, 0]                       NaN   \n",
      "42                        [0, 0, 0, 0, 0]                       NaN   \n",
      "43                        [0, 0, 0, 0, 0]                       NaN   \n",
      "44                        [0, 0, 0, 0, 0]                       NaN   \n",
      "45                        [0, 0, 0, 0, 0]                       NaN   \n",
      "46                        [0, 0, 0, 0, 0]                       NaN   \n",
      "47                        [0, 0, 0, 0, 0]                       NaN   \n",
      "\n",
      "   EVs Charge Level_unpacked_0 EVs Charge Level_unpacked_1  \n",
      "0                           62                          54  \n",
      "1                           62                          54  \n",
      "2                           62                          54  \n",
      "3                           62                          54  \n",
      "4                           62                          54  \n",
      "5                           62                          54  \n",
      "6                           62                          54  \n",
      "7                           62                          54  \n",
      "8                         52.0                          54  \n",
      "9                         42.0                          54  \n",
      "10                        32.0                          54  \n",
      "11                        22.0                          54  \n",
      "12                        12.0                        52.0  \n",
      "13                         9.5                        50.0  \n",
      "14                        17.0                        48.0  \n",
      "15                        24.5                        46.0  \n",
      "16                        32.0                        44.0  \n",
      "17                        39.5                        44.0  \n",
      "18                        47.0                        44.0  \n",
      "19                        54.5                        44.0  \n",
      "20                        54.5                        44.0  \n",
      "21                        44.5                        44.0  \n",
      "22                        34.5                        44.0  \n",
      "23                        34.5                        44.0  \n",
      "24                        34.5                        44.0  \n",
      "25                        34.5                        44.0  \n",
      "26                        34.5                        44.0  \n",
      "27                        34.5                        44.0  \n",
      "28                        34.5                        44.0  \n",
      "29                        34.5                        44.0  \n",
      "30                        34.5                        44.0  \n",
      "31                        24.5                        44.0  \n",
      "32                        22.0                        44.0  \n",
      "33                        29.5                        44.0  \n",
      "34                        37.0                        42.0  \n",
      "35                        44.5                        40.0  \n",
      "36                        52.0                        38.0  \n",
      "37                        52.0                        36.0  \n",
      "38                        42.0                        34.0  \n",
      "39                        32.0                        32.0  \n",
      "40                        22.0                        32.0  \n",
      "41                        19.5                        32.0  \n",
      "42                        27.0                        32.0  \n",
      "43                        34.5                        32.0  \n",
      "44                        42.0                        32.0  \n",
      "45                        49.5                        32.0  \n",
      "46                        57.0                        32.0  \n",
      "47                        57.0                        32.0  \n"
     ]
    }
   ],
   "source": [
    "a = unpack_and_join(data, 'EVs Charge Level')\n",
    "# del data['EOD_EVs_SOCs']\n",
    "print(a)\n"
   ]
  },
  {
   "attachments": {},
   "cell_type": "markdown",
   "metadata": {},
   "source": [
    "### Batching"
   ]
  },
  {
   "cell_type": "code",
   "execution_count": null,
   "metadata": {},
   "outputs": [],
   "source": [
    "from mesa.batchrunner import BatchRunner\n",
    "\n",
    "EVcounts = (100,500,1000)\n",
    "cpcounts = (1,2)\n",
    "tickcounts = (24,48)\n",
    "model_reporters={'EVs Charged': get_evs_charged,\n",
    "                'EVs Activated': get_evs_active,\n",
    "                'EVs Travelling': get_evs_travel,\n",
    "                'EVs Charge Level': get_evs_charge_level,\n",
    "                'EVs Currently charging': get_evs_charging,\n",
    "                'EVs Not Idle': get_evs_not_idle,\n",
    "                'EOD Battery SOC': get_eod_evs_socs,\n",
    "                'EVs Destinations': get_evs_destinations,\n",
    "                }\n",
    "# parameters = {\"no_evs\": range(1000,20000,3000), \"no_cps\": 1}\n",
    "parameters = {\"no_evs\": EVcounts, \"no_cps\": cpcounts, \"ticks\": tickcounts}\n",
    "batch_run = BatchRunner(model.EVModel, parameters, max_steps=24, iterations=1, model_reporters= model_reporters) #iterations=1\n",
    "batch_run.run_all()"
   ]
  },
  {
   "cell_type": "code",
   "execution_count": null,
   "metadata": {},
   "outputs": [],
   "source": [
    "# batch_df = batch_run.get_model_vars_dataframe()"
   ]
  },
  {
   "cell_type": "code",
   "execution_count": null,
   "metadata": {},
   "outputs": [],
   "source": [
    "# print(batch_df)"
   ]
  },
  {
   "attachments": {},
   "cell_type": "markdown",
   "metadata": {},
   "source": [
    "### Visualisations"
   ]
  },
  {
   "cell_type": "code",
   "execution_count": null,
   "metadata": {},
   "outputs": [],
   "source": []
  },
  {
   "attachments": {},
   "cell_type": "markdown",
   "metadata": {},
   "source": [
    "### Scrapbook"
   ]
  },
  {
   "cell_type": "code",
   "execution_count": null,
   "metadata": {},
   "outputs": [],
   "source": []
  }
 ],
 "metadata": {
  "kernelspec": {
   "display_name": "Python 3",
   "language": "python",
   "name": "python3"
  },
  "language_info": {
   "codemirror_mode": {
    "name": "ipython",
    "version": 3
   },
   "file_extension": ".py",
   "mimetype": "text/x-python",
   "name": "python",
   "nbconvert_exporter": "python",
   "pygments_lexer": "ipython3",
   "version": "3.9.6"
  },
  "orig_nbformat": 4,
  "vscode": {
   "interpreter": {
    "hash": "31f2aee4e71d21fbe5cf8b01ff0e069b9275f58929596ceb00d14d90e3e16cd6"
   }
  }
 },
 "nbformat": 4,
 "nbformat_minor": 2
}
