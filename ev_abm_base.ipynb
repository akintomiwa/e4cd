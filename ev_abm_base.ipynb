{
 "cells": [
  {
   "attachments": {},
   "cell_type": "markdown",
   "metadata": {},
   "source": [
    "### AB Model from spec"
   ]
  },
  {
   "attachments": {},
   "cell_type": "markdown",
   "metadata": {},
   "source": [
    "Package installation"
   ]
  },
  {
   "cell_type": "code",
   "execution_count": 1,
   "metadata": {},
   "outputs": [],
   "source": [
    "# !pip3 install seaborn\n",
    "# !pip3 install python-statemachine\n",
    "# !pip3 install mesa\n",
    "# !pip3 install transitions\n",
    "# !pip3 install scipy\n",
    "# !pip3 install cufflinks\n",
    "# !pip3 install graphviz pygraphviz\n",
    "# !pip3 install graphviz\n",
    "# !pip3 install transitions[diagrams]\n",
    "# !pip3 uninstall mesa"
   ]
  },
  {
   "attachments": {},
   "cell_type": "markdown",
   "metadata": {},
   "source": [
    "Package importation"
   ]
  },
  {
   "cell_type": "code",
   "execution_count": 2,
   "metadata": {},
   "outputs": [
    {
     "data": {
      "text/html": [
       "        <script type=\"text/javascript\">\n",
       "        window.PlotlyConfig = {MathJaxConfig: 'local'};\n",
       "        if (window.MathJax && window.MathJax.Hub && window.MathJax.Hub.Config) {window.MathJax.Hub.Config({SVG: {font: \"STIX-Web\"}});}\n",
       "        if (typeof require !== 'undefined') {\n",
       "        require.undef(\"plotly\");\n",
       "        requirejs.config({\n",
       "            paths: {\n",
       "                'plotly': ['https://cdn.plot.ly/plotly-2.18.2.min']\n",
       "            }\n",
       "        });\n",
       "        require(['plotly'], function(Plotly) {\n",
       "            window._Plotly = Plotly;\n",
       "        });\n",
       "        }\n",
       "        </script>\n",
       "        "
      ]
     },
     "metadata": {},
     "output_type": "display_data"
    }
   ],
   "source": [
    "# imports\n",
    "import os\n",
    "import seaborn as sns\n",
    "from random import choice\n",
    "import warnings\n",
    "warnings.simplefilter(\"ignore\")\n",
    "import pandas as pd\n",
    "import numpy as np\n",
    "import mesa\n",
    "from mesa import Agent, Model\n",
    "from mesa.time import RandomActivation, RandomActivationByType, SimultaneousActivation\n",
    "from mesa.datacollection import DataCollector\n",
    "from matplotlib import pyplot as plt, patches\n",
    "import scipy.stats as ss\n",
    "import cufflinks as cf\n",
    "cf.go_offline()\n",
    "from plotly.offline import iplot\n",
    "from transitions import Machine\n",
    "import random\n",
    "from transitions.extensions import GraphMachine\n",
    "import graphviz\n",
    "import timeit\n",
    "from datetime import datetime\n",
    "import logging\n",
    "# os.environ[\"PATH\"] += os.pathsep + '/Users/ia329/homebrew/bin' # for graphviz"
   ]
  },
  {
   "attachments": {},
   "cell_type": "markdown",
   "metadata": {},
   "source": [
    "Model component importation"
   ]
  },
  {
   "cell_type": "code",
   "execution_count": 3,
   "metadata": {},
   "outputs": [
    {
     "data": {
      "text/html": [
       "        <script type=\"text/javascript\">\n",
       "        window.PlotlyConfig = {MathJaxConfig: 'local'};\n",
       "        if (window.MathJax && window.MathJax.Hub && window.MathJax.Hub.Config) {window.MathJax.Hub.Config({SVG: {font: \"STIX-Web\"}});}\n",
       "        if (typeof require !== 'undefined') {\n",
       "        require.undef(\"plotly\");\n",
       "        requirejs.config({\n",
       "            paths: {\n",
       "                'plotly': ['https://cdn.plot.ly/plotly-2.18.2.min']\n",
       "            }\n",
       "        });\n",
       "        require(['plotly'], function(Plotly) {\n",
       "            window._Plotly = Plotly;\n",
       "        });\n",
       "        }\n",
       "        </script>\n",
       "        "
      ]
     },
     "metadata": {},
     "output_type": "display_data"
    }
   ],
   "source": [
    "import config.model_config as cfg\n",
    "import config.worker as worker\n",
    "from EV.agent import EV, ChargeStation\n",
    "import EV.model as model\n",
    "from EV.statemachine import EVSM, LSM\n",
    "from EV.model import get_evs_charge, get_evs_charge_level, get_evs_active, get_evs_queue, get_evs_travel, get_evs_not_idle, get_active_chargestations, get_eod_evs_socs, get_evs_destinations, get_ev_distance_covered\n",
    "# old:  get_evs_charging,"
   ]
  },
  {
   "attachments": {},
   "cell_type": "markdown",
   "metadata": {},
   "source": [
    "State diagram"
   ]
  },
  {
   "attachments": {},
   "cell_type": "markdown",
   "metadata": {},
   "source": [
    "### Model"
   ]
  },
  {
   "attachments": {},
   "cell_type": "markdown",
   "metadata": {},
   "source": [
    "Station config import"
   ]
  },
  {
   "cell_type": "code",
   "execution_count": 4,
   "metadata": {},
   "outputs": [],
   "source": [
    "station_config = worker.read_csv(cfg.STATION_PATH +'stations.csv')"
   ]
  },
  {
   "cell_type": "code",
   "execution_count": null,
   "metadata": {},
   "outputs": [],
   "source": [
    "# station_config['A-B']['CS_AB_1']"
   ]
  },
  {
   "cell_type": "code",
   "execution_count": null,
   "metadata": {},
   "outputs": [],
   "source": [
    "{'A-B': {'CS_AB_1': [{'CPID': 'CS_AB_1_1',\n",
    "    'Power': '7',\n",
    "    'Distance': '40',\n",
    "    'Price': '6',\n",
    "    'Green': '0',\n",
    "    'Booking': '0'},\n",
    "   {'CPID': 'CS_AB_1_2',\n",
    "    'Power': '7',\n",
    "    'Distance': '40',\n",
    "    'Price': '6',\n",
    "    'Green': '0',\n",
    "    'Booking': '0'},\n",
    "   {'CPID': 'CS_AB_1_3',\n",
    "    'Power': '60',\n",
    "    'Distance': '40',\n",
    "    'Price': '10',\n",
    "    'Green': '0',\n",
    "    'Booking': '0'}],\n",
    "  'CS_AB_2': [{'CPID': 'CS_AB_2_1',\n",
    "    'Power': '7',\n",
    "    'Distance': '20',\n",
    "    'Price': '6',\n",
    "    'Green': '0',\n",
    "    'Booking': '0'},\n",
    "   {'CPID': 'CS_AB_2_2',\n",
    "    'Power': '7',\n",
    "    'Distance': '20',\n",
    "    'Price': '6',\n",
    "    'Green': '0',\n",
    "    'Booking': '0'}],\n",
    "  'CS_AB_3': [{'CPID': 'CS_AB_3_1',\n",
    "    'Power': '7',\n",
    "    'Distance': '50',\n",
    "    'Price': '6',\n",
    "    'Green': '0',\n",
    "    'Booking': '0'},\n",
    "   {'CPID': 'CS_AB_3_2',\n",
    "    'Power': '7',\n",
    "    'Distance': '50',\n",
    "    'Price': '6',\n",
    "    'Green': '0',\n",
    "    'Booking': '0'},\n",
    "   {'CPID': 'CS_AB_3_3',\n",
    "    'Power': '60',\n",
    "    'Distance': '50',\n",
    "    'Price': '10',\n",
    "    'Green': '0',\n",
    "    'Booking': '0'}],\n",
    "  'CS_AB_4': [{'CPID': 'CS_AB_4_1',\n",
    "    'Power': '7',\n",
    "    'Distance': '10',\n",
    "    'Price': '6',\n",
    "    'Green': '0',\n",
    "    'Booking': '0'},\n",
    "   {'CPID': 'CS_AB_4_2',\n",
    "    'Power': '7',\n",
    "    'Distance': '10',\n",
    "    'Price': '6',\n",
    "    'Green': '0',\n",
    "    'Booking': '0'},\n",
    "   {'CPID': 'CS_AB_4_3',\n",
    "    'Power': '60',\n",
    "    'Distance': '10',\n",
    "    'Price': '10',\n",
    "    'Green': '0',\n",
    "    'Booking': '0'}],\n",
    "  'CS_AB_5': [{'CPID': 'CS_AB_5_1',\n",
    "    'Power': '7',\n",
    "    'Distance': '30',\n",
    "    'Price': '6',\n",
    "    'Green': '0',\n",
    "    'Booking': '0'},\n",
    "   {'CPID': 'CS_AB_5_2',\n",
    "    'Power': '7',\n",
    "    'Distance': '30',\n",
    "    'Price': '6',\n",
    "    'Green': '0',\n",
    "    'Booking': '0'},\n",
    "   {'CPID': 'CS_AB_5_3',\n",
    "    'Power': '7',\n",
    "    'Distance': '30',\n",
    "    'Price': '6',\n",
    "    'Green': '0',\n",
    "    'Booking': '0'}]},\n",
    " 'A-C': {'CS_AC_1': [{'CPID': 'CS_AC_1_1',\n",
    "    'Power': '7',\n",
    "    'Distance': '40',\n",
    "    'Price': '6',\n",
    "    'Green': '0',\n",
    "    'Booking': '0'},\n",
    "   {'CPID': 'CS_AC_1_2',\n",
    "    'Power': '7',\n",
    "    'Distance': '40',\n",
    "    'Price': '6',\n",
    "    'Green': '0',\n",
    "    'Booking': '0'}],\n",
    "  'CS_AC_2': [{'CPID': 'CS_AC_2_1',\n",
    "    'Power': '7',\n",
    "    'Distance': '40',\n",
    "    'Price': '6',\n",
    "    'Green': '0',\n",
    "    'Booking': '0'},\n",
    "   {'CPID': 'CS_AC_2_2',\n",
    "    'Power': '7',\n",
    "    'Distance': '40',\n",
    "    'Price': '6',\n",
    "    'Green': '0',\n",
    "    'Booking': '0'}],\n",
    "  'CS_AC_3': [{'CPID': 'CS_AC_3_1',\n",
    "    'Power': '7',\n",
    "    'Distance': '40',\n",
    "    'Price': '6',\n",
    "    'Green': '0',\n",
    "    'Booking': '0'},\n",
    "   {'CPID': 'CS_AC_3_2',\n",
    "    'Power': '7',\n",
    "    'Distance': '40',\n",
    "    'Price': '6',\n",
    "    'Green': '0',\n",
    "    'Booking': '0'}],\n",
    "  'CS_AC_4': [{'CPID': 'CS_AC_4_1',\n",
    "    'Power': '7',\n",
    "    'Distance': '40',\n",
    "    'Price': '6',\n",
    "    'Green': '0',\n",
    "    'Booking': '0'},\n",
    "   {'CPID': 'CS_AC_4_2',\n",
    "    'Power': '7',\n",
    "    'Distance': '40',\n",
    "    'Price': '6',\n",
    "    'Green': '0',\n",
    "    'Booking': '0'}]}}\n"
   ]
  },
  {
   "cell_type": "code",
   "execution_count": 22,
   "metadata": {},
   "outputs": [
    {
     "data": {
      "text/plain": [
       "['CS_AC_1', 'CS_AC_2', 'CS_AC_3', 'CS_AC_4']"
      ]
     },
     "execution_count": 22,
     "metadata": {},
     "output_type": "execute_result"
    }
   ],
   "source": [
    "worker.get_charging_stations_on_route(station_config, 'A-C')                    #works\n",
    "# worker.find_cpid_for_charging_station(station_config, 'CS_AC_1')                 #works"
   ]
  },
  {
   "cell_type": "code",
   "execution_count": 23,
   "metadata": {},
   "outputs": [
    {
     "data": {
      "text/plain": [
       "['A-B', 'A-C']"
      ]
     },
     "execution_count": 23,
     "metadata": {},
     "output_type": "execute_result"
    }
   ],
   "source": [
    "# worker.count_charging_stations('A-B', station_config)\n",
    "\n",
    "\n",
    "\n",
    "# worker.get_target_charging_stations('A-B', station_config)                   # Works\n",
    "# worker.sum_total_charging_stations(station_config)                           # Works   \n",
    "worker.get_routes(station_config)                                            # Works\n",
    "# worker.total_route_length(station_config, 'A-B')                             # Works\n",
    "# worker.cpids_for_route(station_config, 'A-B') # not working\n",
    "\n",
    "# worker.get_checkpoint_list(station_config, 'A-C')                           # Works\n",
    "# worker.get_charging_stations_on_route(station_config, 'A-C')                    # Works\n",
    "# worker.charge_points_on_route(station_config, 'A-B')                    # not working\n",
    "# worker.get_route_cps(station_config, 'A-B')                              #not working snymore\n",
    "\n",
    "# worker.find_cpid_for_charging_station(station_config, 'CS_AB_1_1')                    # not works\n",
    "\n"
   ]
  },
  {
   "cell_type": "code",
   "execution_count": 21,
   "metadata": {},
   "outputs": [
    {
     "name": "stdout",
     "output_type": "stream",
     "text": [
      "2\n",
      "['A-B', 'A-C']\n"
     ]
    },
    {
     "ename": "TypeError",
     "evalue": "list indices must be integers or slices, not str",
     "output_type": "error",
     "traceback": [
      "\u001b[0;31m---------------------------------------------------------------------------\u001b[0m",
      "\u001b[0;31mTypeError\u001b[0m                                 Traceback (most recent call last)",
      "Cell \u001b[0;32mIn[21], line 4\u001b[0m\n\u001b[1;32m      2\u001b[0m \u001b[39mprint\u001b[39m(\u001b[39mlen\u001b[39m(a))  \n\u001b[1;32m      3\u001b[0m \u001b[39mprint\u001b[39m(a)\n\u001b[0;32m----> 4\u001b[0m worker\u001b[39m.\u001b[39;49mget_checkpoint_list(station_config, \u001b[39m'\u001b[39;49m\u001b[39mA-B\u001b[39;49m\u001b[39m'\u001b[39;49m)\n",
      "File \u001b[0;32m~/Projects/ec4d/config/worker.py:156\u001b[0m, in \u001b[0;36mget_checkpoint_list\u001b[0;34m(route_dict, route_name)\u001b[0m\n\u001b[1;32m    153\u001b[0m \u001b[39mif\u001b[39;00m route_stations \u001b[39mis\u001b[39;00m \u001b[39mNone\u001b[39;00m:\n\u001b[1;32m    154\u001b[0m     \u001b[39mraise\u001b[39;00m \u001b[39mValueError\u001b[39;00m(\u001b[39mf\u001b[39m\u001b[39m\"\u001b[39m\u001b[39mNo such route: \u001b[39m\u001b[39m{\u001b[39;00mroute_name\u001b[39m}\u001b[39;00m\u001b[39m\"\u001b[39m)\n\u001b[0;32m--> 156\u001b[0m distances \u001b[39m=\u001b[39m [station[\u001b[39m'\u001b[39;49m\u001b[39mDistance\u001b[39;49m\u001b[39m'\u001b[39;49m] \u001b[39mfor\u001b[39;49;00m station \u001b[39min\u001b[39;49;00m route_stations\u001b[39m.\u001b[39;49mvalues()]  \u001b[39m# Extract the distance attribute of each charging station\u001b[39;00m\n\u001b[1;32m    157\u001b[0m checkpoints \u001b[39m=\u001b[39m [\u001b[39msum\u001b[39m(distances[:i\u001b[39m+\u001b[39m\u001b[39m1\u001b[39m]) \u001b[39mfor\u001b[39;00m i \u001b[39min\u001b[39;00m \u001b[39mrange\u001b[39m(\u001b[39mlen\u001b[39m(distances))]  \u001b[39m# Calculate the running total of distances\u001b[39;00m\n\u001b[1;32m    158\u001b[0m \u001b[39mreturn\u001b[39;00m checkpoints\n",
      "File \u001b[0;32m~/Projects/ec4d/config/worker.py:156\u001b[0m, in \u001b[0;36m<listcomp>\u001b[0;34m(.0)\u001b[0m\n\u001b[1;32m    153\u001b[0m \u001b[39mif\u001b[39;00m route_stations \u001b[39mis\u001b[39;00m \u001b[39mNone\u001b[39;00m:\n\u001b[1;32m    154\u001b[0m     \u001b[39mraise\u001b[39;00m \u001b[39mValueError\u001b[39;00m(\u001b[39mf\u001b[39m\u001b[39m\"\u001b[39m\u001b[39mNo such route: \u001b[39m\u001b[39m{\u001b[39;00mroute_name\u001b[39m}\u001b[39;00m\u001b[39m\"\u001b[39m)\n\u001b[0;32m--> 156\u001b[0m distances \u001b[39m=\u001b[39m [station[\u001b[39m'\u001b[39;49m\u001b[39mDistance\u001b[39;49m\u001b[39m'\u001b[39;49m] \u001b[39mfor\u001b[39;00m station \u001b[39min\u001b[39;00m route_stations\u001b[39m.\u001b[39mvalues()]  \u001b[39m# Extract the distance attribute of each charging station\u001b[39;00m\n\u001b[1;32m    157\u001b[0m checkpoints \u001b[39m=\u001b[39m [\u001b[39msum\u001b[39m(distances[:i\u001b[39m+\u001b[39m\u001b[39m1\u001b[39m]) \u001b[39mfor\u001b[39;00m i \u001b[39min\u001b[39;00m \u001b[39mrange\u001b[39m(\u001b[39mlen\u001b[39m(distances))]  \u001b[39m# Calculate the running total of distances\u001b[39;00m\n\u001b[1;32m    158\u001b[0m \u001b[39mreturn\u001b[39;00m checkpoints\n",
      "\u001b[0;31mTypeError\u001b[0m: list indices must be integers or slices, not str"
     ]
    }
   ],
   "source": [
    "a = worker.get_routes(station_config)\n",
    "print(len(a))  \n",
    "print(a)\n",
    "worker.get_checkpoint_list(station_config, 'A-B')"
   ]
  },
  {
   "attachments": {},
   "cell_type": "markdown",
   "metadata": {},
   "source": [
    "From input matrix to model params"
   ]
  },
  {
   "cell_type": "code",
   "execution_count": null,
   "metadata": {},
   "outputs": [],
   "source": [
    "# params = {}\n",
    "# params['no_css'] = worker.sum_total_charging_stations(station_config)\n",
    "# params['no_routes'] = len(station_config)\n",
    "# params['no_stations'] = worker.sum_total_charging_stations(station_config)\n"
   ]
  },
  {
   "cell_type": "code",
   "execution_count": null,
   "metadata": {},
   "outputs": [],
   "source": [
    "# print(params)"
   ]
  },
  {
   "attachments": {},
   "cell_type": "markdown",
   "metadata": {},
   "source": [
    "Model parameters"
   ]
  },
  {
   "cell_type": "code",
   "execution_count": null,
   "metadata": {},
   "outputs": [],
   "source": [
    "# 365 days = 8760 hours\n",
    "# 30 days = 720 hours\n",
    "# 2 days = 48 hours\n",
    "# 7 days = 168 hours\n",
    "# ticks =  48 # 3600 ticks = 3600 seconds = 1 hour\n",
    "# no_evs = 3\n",
    "\n",
    "# no_css = 5\n",
    "# no_cps = 2\n",
    "# check points = [40, 80, 120, 160, 200, 240, 280]\n",
    "# # no of css must be fixed\n",
    "# '40':2, '80':3, '120':4, '160':2, '200':2\n",
    "ticks = 48\n",
    "no_evs = 20\n",
    "params = {'no_css': 5, \n",
    "          'no_cps_per_cs':{\n",
    "                '1':2, '2':3, '3':4, '4':2, '5':2\n",
    "                },\n",
    "            'default_cppcs': 3,\n",
    "            }\n"
   ]
  },
  {
   "cell_type": "code",
   "execution_count": null,
   "metadata": {},
   "outputs": [],
   "source": [
    "# model_run = model.EVModel(ticks=ticks, no_evs=no_evs, no_css=no_css, no_cps=no_cps)\n",
    "# for i in range(ticks):\n",
    "#     model_run.step()\n",
    "model_run = model.EVModel(ticks=ticks, no_evs=no_evs, params=params)\n",
    "for i in range(ticks):\n",
    "    model_run.step()"
   ]
  },
  {
   "cell_type": "code",
   "execution_count": null,
   "metadata": {},
   "outputs": [],
   "source": [
    "# import numpy as np\n",
    "\n",
    "# def matrix_to_list(matrix):\n",
    "#     # Convert the matrix to a nested list\n",
    "#     nested_list = matrix.tolist()\n",
    "\n",
    "#     # Return the nested list\n",
    "#     return nested_list\n",
    "# matrix = np.array([[1, 2, 3], [4, 5, 6], [7, 8, 9]])\n",
    "# nested_list = matrix_to_list(matrix)\n",
    "# print(nested_list)\n"
   ]
  },
  {
   "attachments": {},
   "cell_type": "markdown",
   "metadata": {},
   "source": [
    "Run Model"
   ]
  },
  {
   "cell_type": "code",
   "execution_count": null,
   "metadata": {},
   "outputs": [],
   "source": [
    "# model_run.schedule.agents\n",
    "run_stats = model_run.datacollector.get_model_vars_dataframe()\n",
    "print(run_stats)"
   ]
  },
  {
   "attachments": {},
   "cell_type": "markdown",
   "metadata": {},
   "source": [
    "Export results to CSV file"
   ]
  },
  {
   "cell_type": "code",
   "execution_count": null,
   "metadata": {},
   "outputs": [],
   "source": [
    "# today's date as string\n",
    "date_str = str(datetime.today())\n",
    "# export csv\n",
    "model_run.datacollector.get_model_vars_dataframe().to_csv(cfg.DATA_PATH + 'data_' + date_str[0:10] + '_' + str(no_evs) + '_EV_agent_model_output.csv')"
   ]
  },
  {
   "attachments": {},
   "cell_type": "markdown",
   "metadata": {},
   "source": [
    "### Data import and preprocessing"
   ]
  },
  {
   "attachments": {},
   "cell_type": "markdown",
   "metadata": {},
   "source": [
    "Data import and Helper functions"
   ]
  },
  {
   "cell_type": "code",
   "execution_count": null,
   "metadata": {},
   "outputs": [],
   "source": [
    "import analysis.helper as helper\n",
    "import plotly.express as px\n",
    "import plotly.graph_objs as go\n",
    "import pandas as pd"
   ]
  },
  {
   "cell_type": "code",
   "execution_count": null,
   "metadata": {},
   "outputs": [],
   "source": [
    "data = pd.read_csv(cfg.DATA_PATH +'modeldatadata_2023-03-19_500_EV_agent_model_output.csv')\n",
    "\n",
    "data = data.drop(columns=['Unnamed: 0'])"
   ]
  },
  {
   "cell_type": "code",
   "execution_count": null,
   "metadata": {},
   "outputs": [],
   "source": [
    "# data.info()\n",
    "data.head()"
   ]
  },
  {
   "cell_type": "code",
   "execution_count": null,
   "metadata": {},
   "outputs": [],
   "source": [
    "a = helper.unpack_and_join(data, 'EVs Charge Level')\n",
    "print(a)"
   ]
  },
  {
   "cell_type": "code",
   "execution_count": null,
   "metadata": {},
   "outputs": [],
   "source": [
    "# # EV charge level per EV per timestep - 20 EVs unpacked\n",
    "# newdf = a[['EVs Charge Level', 'EVs Charge Level_unpacked_0', 'EVs Charge Level_unpacked_1', 'EVs Charge Level_unpacked_2', 'EVs Charge Level_unpacked_3', 'EVs Charge Level_unpacked_4', 'EVs Charge Level_unpacked_5', 'EVs Charge Level_unpacked_6', 'EVs Charge Level_unpacked_7', 'EVs Charge Level_unpacked_8', 'EVs Charge Level_unpacked_9', 'EVs Charge Level_unpacked_10', 'EVs Charge Level_unpacked_11', 'EVs Charge Level_unpacked_12', 'EVs Charge Level_unpacked_13', 'EVs Charge Level_unpacked_14', 'EVs Charge Level_unpacked_15', 'EVs Charge Level_unpacked_16', 'EVs Charge Level_unpacked_17', 'EVs Charge Level_unpacked_18', 'EVs Charge Level_unpacked_19']]\n",
    "# newdf.head()\n",
    "\n",
    "# EV charge level per EV per timestep - 20 EVs unpacked\n",
    "newdf = a[['EVs Charge Level', 'EVs Charge Level_unpacked_0', 'EVs Charge Level_unpacked_1', 'EVs Charge Level_unpacked_2', 'EVs Charge Level_unpacked_3', 'EVs Charge Level_unpacked_4']]\n",
    "newdf.head()"
   ]
  },
  {
   "attachments": {},
   "cell_type": "markdown",
   "metadata": {},
   "source": [
    "### Batching"
   ]
  },
  {
   "cell_type": "code",
   "execution_count": null,
   "metadata": {},
   "outputs": [],
   "source": [
    "from mesa.batchrunner import BatchRunner\n",
    "\n",
    "EVcounts = (100,500,1000)\n",
    "cpcounts = (1,2)\n",
    "tickcounts = (24,48)\n",
    "model_reporters={'EVs Charged': get_evs_charged,\n",
    "                'EVs Activated': get_evs_active,\n",
    "                'EVs Travelling': get_evs_travel,\n",
    "                'EVs Charge Level': get_evs_charge_level,\n",
    "                'EVs Currently charging': get_evs_charging,\n",
    "                'EVs Not Idle': get_evs_not_idle,\n",
    "                'EOD Battery SOC': get_eod_evs_socs,\n",
    "                'EVs Destinations': get_evs_destinations,\n",
    "                }\n",
    "# parameters = {\"no_evs\": range(1000,20000,3000), \"no_cps\": 1}\n",
    "parameters = {\"no_evs\": EVcounts, \"no_cps\": cpcounts, \"ticks\": tickcounts}\n",
    "batch_run = BatchRunner(model.EVModel, parameters, max_steps=24, iterations=1, model_reporters= model_reporters) #iterations=1\n",
    "batch_run.run_all()"
   ]
  },
  {
   "cell_type": "code",
   "execution_count": null,
   "metadata": {},
   "outputs": [],
   "source": [
    "# batch_df = batch_run.get_model_vars_dataframe()"
   ]
  },
  {
   "cell_type": "code",
   "execution_count": null,
   "metadata": {},
   "outputs": [],
   "source": [
    "# print(batch_df)"
   ]
  },
  {
   "attachments": {},
   "cell_type": "markdown",
   "metadata": {},
   "source": [
    "### Visualisations"
   ]
  },
  {
   "attachments": {},
   "cell_type": "markdown",
   "metadata": {},
   "source": [
    "Scatter plot"
   ]
  },
  {
   "cell_type": "code",
   "execution_count": null,
   "metadata": {},
   "outputs": [],
   "source": [
    "# plot_data_lines(newdf, 'Timestep', ['EVs Charge Level_unpacked_0', 'EVs Charge Level_unpacked_1', 'EVs Charge Level_unpacked_2', 'EVs Charge Level_unpacked_3', 'EVs Charge Level_unpacked_4'])"
   ]
  },
  {
   "cell_type": "code",
   "execution_count": null,
   "metadata": {},
   "outputs": [],
   "source": []
  },
  {
   "attachments": {},
   "cell_type": "markdown",
   "metadata": {},
   "source": [
    "### Scrapbook"
   ]
  },
  {
   "cell_type": "code",
   "execution_count": null,
   "metadata": {},
   "outputs": [],
   "source": []
  }
 ],
 "metadata": {
  "kernelspec": {
   "display_name": "Python 3",
   "language": "python",
   "name": "python3"
  },
  "language_info": {
   "codemirror_mode": {
    "name": "ipython",
    "version": 3
   },
   "file_extension": ".py",
   "mimetype": "text/x-python",
   "name": "python",
   "nbconvert_exporter": "python",
   "pygments_lexer": "ipython3",
   "version": "3.11.2"
  },
  "orig_nbformat": 4,
  "vscode": {
   "interpreter": {
    "hash": "aee8b7b246df8f9039afb4144a1f6fd8d2ca17a180786b69acc140d282b71a49"
   }
  }
 },
 "nbformat": 4,
 "nbformat_minor": 2
}
