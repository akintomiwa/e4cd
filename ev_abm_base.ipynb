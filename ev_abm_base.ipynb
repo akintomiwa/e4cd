{
 "cells": [
  {
   "attachments": {},
   "cell_type": "markdown",
   "metadata": {},
   "source": [
    "# AB Model from spec"
   ]
  },
  {
   "attachments": {},
   "cell_type": "markdown",
   "metadata": {},
   "source": [
    "## Setup"
   ]
  },
  {
   "attachments": {},
   "cell_type": "markdown",
   "metadata": {},
   "source": [
    "Package installation"
   ]
  },
  {
   "cell_type": "code",
   "execution_count": null,
   "metadata": {},
   "outputs": [],
   "source": [
    "# !pip3 install seaborn\n",
    "# !pip3 install python-statemachine\n",
    "# !pip3 install mesa\n",
    "# !pip3 install transitions\n",
    "# !pip3 install scipy\n",
    "# !pip3 install cufflinks\n",
    "# !pip3 install graphviz pygraphviz\n",
    "# !pip3 install graphviz\n",
    "# !pip3 install transitions[diagrams]\n",
    "# !pip3 uninstall mesa"
   ]
  },
  {
   "attachments": {},
   "cell_type": "markdown",
   "metadata": {},
   "source": [
    "Package importation"
   ]
  },
  {
   "cell_type": "code",
   "execution_count": null,
   "metadata": {},
   "outputs": [],
   "source": [
    "# imports\n",
    "import os\n",
    "import seaborn as sns\n",
    "from random import choice\n",
    "import warnings\n",
    "warnings.simplefilter(\"ignore\")\n",
    "import pandas as pd\n",
    "import numpy as np\n",
    "import mesa\n",
    "from mesa import Agent, Model\n",
    "from mesa.time import RandomActivation, RandomActivationByType, SimultaneousActivation\n",
    "from mesa.datacollection import DataCollector\n",
    "from matplotlib import pyplot as plt, patches\n",
    "import scipy.stats as ss\n",
    "import cufflinks as cf\n",
    "cf.go_offline()\n",
    "from plotly.offline import iplot\n",
    "from transitions import Machine\n",
    "import random\n",
    "from transitions.extensions import GraphMachine\n",
    "import graphviz\n",
    "import timeit\n",
    "from datetime import datetime\n",
    "import logging\n",
    "from collections import Counter\n",
    "\n",
    "# os.environ[\"PATH\"] += os.pathsep + '/Users/ia329/homebrew/bin' # for graphviz"
   ]
  },
  {
   "attachments": {},
   "cell_type": "markdown",
   "metadata": {},
   "source": [
    "Model component importation"
   ]
  },
  {
   "cell_type": "code",
   "execution_count": null,
   "metadata": {},
   "outputs": [],
   "source": [
    "import config.model_config as cfg\n",
    "import config.worker as worker\n",
    "from EV.agent import EV, ChargeStation\n",
    "import EV.model as model\n",
    "from EV.statemachine import EVSM, LSM\n",
    "from EV.model import get_evs_charge, get_evs_charge_level, get_evs_active, get_evs_queue, get_evs_travel, get_evs_not_idle, get_active_chargestations, get_eod_evs_socs, get_evs_destinations, get_ev_distance_covered\n",
    "# old:  get_evs_charging,"
   ]
  },
  {
   "attachments": {},
   "cell_type": "markdown",
   "metadata": {},
   "source": [
    "## Model Environment testing"
   ]
  },
  {
   "attachments": {},
   "cell_type": "markdown",
   "metadata": {},
   "source": [
    "Station config import"
   ]
  },
  {
   "cell_type": "code",
   "execution_count": null,
   "metadata": {},
   "outputs": [],
   "source": [
    "station_config['A-B']['CS_AB_1']\n",
    "# worker.sum_total_charging_stations(station_config)"
   ]
  },
  {
   "cell_type": "code",
   "execution_count": null,
   "metadata": {},
   "outputs": [],
   "source": [
    "# {'A-B': {'CS_A-B_1': [{'CPID': 'CS_A-B_1_1',\n",
    "#     'Power': '7',\n",
    "#     'Distance': '40',\n",
    "#     'Price': '6',\n",
    "#     'Green': '0',\n",
    "#     'Booking': '0'},\n",
    "#    {'CPID': 'CS_A-B_1_2',\n",
    "#     'Power': '7',\n",
    "#     'Distance': '40',\n",
    "#     'Price': '6',\n",
    "#     'Green': '0',\n",
    "#     'Booking': '0'},\n",
    "#    {'CPID': 'CS_A-B_1_3',\n",
    "#     'Power': '60',\n",
    "#     'Distance': '40',\n",
    "#     'Price': '10',\n",
    "#     'Green': '0',\n",
    "#     'Booking': '0'}],\n",
    "#   'CS_A-B_2': [{'CPID': 'CS_A-B_2_1',\n",
    "#     'Power': '7',\n",
    "#     'Distance': '20',\n",
    "#     'Price': '6',\n",
    "#     'Green': '0',\n",
    "#     'Booking': '0'},\n",
    "#    {'CPID': 'CS_A-B_2_2',\n",
    "#     'Power': '7',\n",
    "#     'Distance': '20',\n",
    "#     'Price': '6',\n",
    "#     'Green': '0',\n",
    "#     'Booking': '0'}],\n",
    "#   'CS_A-B_3': [{'CPID': 'CS_A-B_3_1',\n",
    "#     'Power': '7',\n",
    "#     'Distance': '50',\n",
    "#     'Price': '6',\n",
    "#     'Green': '0',\n",
    "#     'Booking': '0'},\n",
    "#    {'CPID': 'CS_A-B_3_2',\n",
    "#     'Power': '7',\n",
    "#     'Distance': '50',\n",
    "#     'Price': '6',\n",
    "#     'Green': '0',\n",
    "#     'Booking': '0'},\n",
    "#    {'CPID': 'CS_A-B_3_3',\n",
    "#     'Power': '60',\n",
    "#     'Distance': '50',\n",
    "#     'Price': '10',\n",
    "#     'Green': '0',\n",
    "#     'Booking': '0'}],\n",
    "#   'CS_A-B_4': [{'CPID': 'CS_A-B_4_1',\n",
    "#     'Power': '7',\n",
    "#     'Distance': '10',\n",
    "#     'Price': '6',\n",
    "#     'Green': '0',\n",
    "#     'Booking': '0'},\n",
    "#    {'CPID': 'CS_A-B_4_2',\n",
    "#     'Power': '7',\n",
    "#     'Distance': '10',\n",
    "#     'Price': '6',\n",
    "#     'Green': '0',\n",
    "#     'Booking': '0'},\n",
    "#    {'CPID': 'CS_A-B_4_3',\n",
    "#     'Power': '60',\n",
    "#     'Distance': '10',\n",
    "#     'Price': '10',\n",
    "#     'Green': '0',\n",
    "#     'Booking': '0'}],\n",
    "#   'CS_A-B_5': [{'CPID': 'CS_A-B_5_1',\n",
    "#     'Power': '7',\n",
    "#     'Distance': '30',\n",
    "#     'Price': '6',\n",
    "#     'Green': '0',\n",
    "#     'Booking': '0'},\n",
    "#    {'CPID': 'CS_A-B_5_2',\n",
    "#     'Power': '7',\n",
    "#     'Distance': '30',\n",
    "#     'Price': '6',\n",
    "#     'Green': '0',\n",
    "#     'Booking': '0'},\n",
    "#    {'CPID': 'CS_A-B_5_3',\n",
    "#     'Power': '7',\n",
    "#     'Distance': '30',\n",
    "#     'Price': '6',\n",
    "#     'Green': '0',\n",
    "#     'Booking': '0'}]},\n",
    "#  'A-C': {'CS_A-C_1': [{'CPID': 'CS_A-C_1_1',\n",
    "#     'Power': '7',\n",
    "#     'Distance': '40',\n",
    "#     'Price': '6',\n",
    "#     'Green': '0',\n",
    "#     'Booking': '0'},\n",
    "#    {'CPID': 'CS_A-C_1_2',\n",
    "#     'Power': '7',\n",
    "#     'Distance': '40',\n",
    "#     'Price': '6',\n",
    "#     'Green': '0',\n",
    "#     'Booking': '0'}],\n",
    "#   'CS_A-C_2': [{'CPID': 'CS_A-C_2_1',\n",
    "#     'Power': '7',\n",
    "#     'Distance': '40',\n",
    "#     'Price': '6',\n",
    "#     'Green': '0',\n",
    "#     'Booking': '0'},\n",
    "#    {'CPID': 'CS_A-C_2_2',\n",
    "#     'Power': '7',\n",
    "#     'Distance': '40',\n",
    "#     'Price': '6',\n",
    "#     'Green': '0',\n",
    "#     'Booking': '0'}],\n",
    "#   'CS_A-C_3': [{'CPID': 'CS_A-C_3_1',\n",
    "#     'Power': '7',\n",
    "#     'Distance': '40',\n",
    "#     'Price': '6',\n",
    "#     'Green': '0',\n",
    "#     'Booking': '0'},\n",
    "#    {'CPID': 'CS_A-C_3_2',\n",
    "#     'Power': '7',\n",
    "#     'Distance': '40',\n",
    "#     'Price': '6',\n",
    "#     'Green': '0',\n",
    "#     'Booking': '0'}],\n",
    "#   'CS_A-C_4': [{'CPID': 'CS_A-C_4_1',\n",
    "#     'Power': '7',\n",
    "#     'Distance': '40',\n",
    "#     'Price': '6',\n",
    "#     'Green': '0',\n",
    "#     'Booking': '0'},\n",
    "#    {'CPID': 'CS_A-C_4_2',\n",
    "#     'Power': '7',\n",
    "#     'Distance': '40',\n",
    "#     'Price': '6',\n",
    "#     'Green': '0',\n",
    "#     'Booking': '0'}]}}\n"
   ]
  },
  {
   "cell_type": "code",
   "execution_count": null,
   "metadata": {},
   "outputs": [],
   "source": [
    "# worker.get_routes(station_config)                   #works\n",
    "worker.find_cpid_for_charging_station(station_config, 'CS_A-C_1')                 # doesnt work, anymore due to new structure"
   ]
  },
  {
   "cell_type": "code",
   "execution_count": null,
   "metadata": {},
   "outputs": [],
   "source": [
    "# worker.count_charging_stations('A-B', station_config)\n",
    "\n",
    "\n",
    "\n",
    "# worker.get_target_charging_stations('A-B', station_config)                   # Works\n",
    "# worker.sum_total_charging_stations(station_config)                           # Works   \n",
    "# worker.get_routes(station_config)                                            # Works\n",
    "# worker.total_route_length(station_config, 'A-B')                             # Works\n",
    "# worker.cpids_for_route(station_config, 'A-B') # not working\n",
    "\n",
    "# worker.get_checkpoint_list(station_config, 'A-C')                           # Works\n",
    "# worker.get_charging_stations_on_route(station_config, 'A-C')                    # Works\n",
    "# worker.charge_points_on_route(station_config, 'A-B')                    # not working\n",
    "# worker.get_route_cps(station_config, 'A-B')                              #not working snymore\n",
    "\n",
    "# worker.find_cpid_for_charging_station(station_config, 'CS_AB_1_1')                    # not works\n",
    "\n"
   ]
  },
  {
   "cell_type": "code",
   "execution_count": null,
   "metadata": {},
   "outputs": [],
   "source": [
    "a = worker.get_routes(station_config)\n",
    "print(len(a))  \n",
    "print(a)"
   ]
  },
  {
   "cell_type": "code",
   "execution_count": null,
   "metadata": {},
   "outputs": [],
   "source": [
    "# worker.get_checkpoint_list(station_config, 'A-B')\n",
    "# worker.charge_points_on_route('A-B', station_config)\n",
    "# worker.get_charge_points_per_station('A-B', station_config)"
   ]
  },
  {
   "cell_type": "code",
   "execution_count": null,
   "metadata": {},
   "outputs": [],
   "source": [
    "station_config = worker.read_charging_data(cfg.STATION_PATH +'stations.csv')"
   ]
  },
  {
   "cell_type": "code",
   "execution_count": null,
   "metadata": {},
   "outputs": [],
   "source": [
    "worker.num_stations_per_route(station_config)"
   ]
  },
  {
   "cell_type": "code",
   "execution_count": null,
   "metadata": {},
   "outputs": [],
   "source": [
    "# station_config   "
   ]
  },
  {
   "cell_type": "code",
   "execution_count": null,
   "metadata": {},
   "outputs": [],
   "source": [
    "# worker.get_stations_for_route('A-B', station_config)\n",
    "# stations = worker.get_stations_for_route('A-B', station_config)\n",
    "# print(stations)  # Output: ['CS_A-B_1', 'CS_A-B_2', 'CS_A-B_3', 'CS_A-B_4', 'CS_A-B_5']\n"
   ]
  },
  {
   "cell_type": "markdown",
   "metadata": {},
   "source": []
  },
  {
   "attachments": {},
   "cell_type": "markdown",
   "metadata": {},
   "source": [
    "From input matrix to model params"
   ]
  },
  {
   "attachments": {},
   "cell_type": "markdown",
   "metadata": {},
   "source": [
    "Approach 2"
   ]
  },
  {
   "cell_type": "code",
   "execution_count": null,
   "metadata": {},
   "outputs": [],
   "source": [
    "station_config = worker.read_charging_stations(cfg.STATION_PATH +'stations.csv')"
   ]
  },
  {
   "cell_type": "code",
   "execution_count": null,
   "metadata": {},
   "outputs": [],
   "source": [
    "route_counts = Counter([station['Route'] for station in station_config])\n",
    "print(route_counts)"
   ]
  },
  {
   "cell_type": "code",
   "execution_count": null,
   "metadata": {},
   "outputs": [],
   "source": [
    "points_per_station_per_route = {}\n",
    "for station in station_config:\n",
    "    key = f\"{station['Route']}_{station['Station']}\"\n",
    "    if key not in points_per_station_per_route:\n",
    "        points_per_station_per_route[key] = []\n",
    "    points_per_station_per_route[key].append(station['CPID'])\n",
    "# print(points_per_station_per_route)\n",
    "print(points_per_station_per_route.keys())"
   ]
  },
  {
   "cell_type": "code",
   "execution_count": null,
   "metadata": {},
   "outputs": [],
   "source": [
    "routes = list(set([station['Route'] for station in station_config]))\n",
    "print(routes)"
   ]
  },
  {
   "cell_type": "code",
   "execution_count": null,
   "metadata": {},
   "outputs": [],
   "source": [
    "num_routes = len(routes)\n",
    "print(num_routes)"
   ]
  },
  {
   "attachments": {},
   "cell_type": "markdown",
   "metadata": {},
   "source": [
    "## Valid Model Environment"
   ]
  },
  {
   "attachments": {},
   "cell_type": "markdown",
   "metadata": {},
   "source": [
    "Approach 3"
   ]
  },
  {
   "cell_type": "code",
   "execution_count": null,
   "metadata": {},
   "outputs": [],
   "source": [
    "station_config = worker.read_csv(cfg.STATION_PATH +'stations.csv')"
   ]
  },
  {
   "cell_type": "code",
   "execution_count": null,
   "metadata": {},
   "outputs": [],
   "source": [
    "# station_config = worker.read_charging_data(cfg.STATION_PATH +'stations.csv')\n",
    "station_config"
   ]
  },
  {
   "cell_type": "code",
   "execution_count": null,
   "metadata": {},
   "outputs": [],
   "source": [
    "# get the number of charging stations per route\n",
    "stations_per_route = {route: len(station_config[route]) for route in station_config}\n",
    "print(stations_per_route)"
   ]
  },
  {
   "cell_type": "code",
   "execution_count": null,
   "metadata": {},
   "outputs": [],
   "source": [
    "# get the number of charging points per station per route\n",
    "points_per_station_per_route = {}\n",
    "for route in station_config:\n",
    "    for station in station_config[route]:\n",
    "        num_points = len(station_config[route][station])\n",
    "        if route not in points_per_station_per_route:\n",
    "            points_per_station_per_route[route] = {}\n",
    "        points_per_station_per_route[route][station] = num_points\n",
    "print(points_per_station_per_route)"
   ]
  },
  {
   "cell_type": "code",
   "execution_count": null,
   "metadata": {},
   "outputs": [],
   "source": [
    "# get a list of all routes\n",
    "routes = station_config.keys()\n",
    "print(routes)"
   ]
  },
  {
   "cell_type": "code",
   "execution_count": null,
   "metadata": {},
   "outputs": [],
   "source": [
    "# get the total number of routes\n",
    "num_routes = len(routes)\n",
    "print(num_routes)"
   ]
  },
  {
   "cell_type": "code",
   "execution_count": null,
   "metadata": {},
   "outputs": [],
   "source": [
    "# worker.get_charge_points_per_station_on_route(station_config, 'A-B')\n",
    "cs = worker.count_charge_points_by_station(station_config, 'A-B')                        #works\n",
    "# type(cs)\n",
    "# b = cs.values()\n",
    "# b = list(b)\n",
    "# type(b)\n",
    "cs"
   ]
  },
  {
   "cell_type": "code",
   "execution_count": null,
   "metadata": {},
   "outputs": [],
   "source": [
    "def get_values(d):\n",
    "    \"\"\"\n",
    "    Returns a list containing the associated values for each key in the dictionary.\n",
    "    \"\"\"\n",
    "    return list(d.values())\n",
    "# my_dict = {'a': 1, 'b': 2, 'c': 3}\n",
    "# values_list = get_values(my_dict)\n",
    "values_list = get_values(cs)\n",
    "print(values_list)  # Output: [1, 2, 3]\n",
    "\n",
    "# a = worker.count_charge_points_by_station(station_config, 'A-B') \n",
    "# # list = get_values(a) \n",
    "# # list = get_values(a) \n",
    "# print(a)\n",
    "# type(a)\n",
    "# print(a.keys())\n",
    "# b = list(a.keys())\n",
    "# print(b)\n",
    "\n"
   ]
  },
  {
   "cell_type": "code",
   "execution_count": null,
   "metadata": {},
   "outputs": [],
   "source": [
    "# worker.get_checkpoint_list(station_config, 'A-C')                           #  not work\n",
    "a = worker.get_charging_stations_on_route(station_config, 'A-B') \n",
    "print(a)"
   ]
  },
  {
   "cell_type": "code",
   "execution_count": null,
   "metadata": {},
   "outputs": [],
   "source": [
    "cs = worker.get_route_from_config('A-C', station_config)  \n",
    "# print(cs.keys())\n",
    "print(cs)"
   ]
  },
  {
   "cell_type": "code",
   "execution_count": null,
   "metadata": {},
   "outputs": [],
   "source": [
    "def cumulative_cs_distances(numbers):\n",
    "    result = []\n",
    "    for i in range(len(numbers)):\n",
    "        if i == 0:\n",
    "            result.append(numbers[i])\n",
    "        else:\n",
    "            result.append(numbers[i] + result[i-1])\n",
    "    return result\n",
    "\n",
    "def get_values(d):\n",
    "    \"\"\"\n",
    "    Returns a list containing the associated values for each key in the dictionary.\n",
    "    \"\"\"\n",
    "    return list(d.values())\n"
   ]
  },
  {
   "cell_type": "code",
   "execution_count": null,
   "metadata": {},
   "outputs": [],
   "source": [
    "a = worker.get_route_from_config('A-C', station_config)\n",
    "\n",
    "b = list(a.keys())\n",
    "c = cumulative_cs_distances(b)\n",
    "# print(a)\n",
    "print(c)"
   ]
  },
  {
   "cell_type": "code",
   "execution_count": null,
   "metadata": {},
   "outputs": [],
   "source": [
    "# worker.get_cumulative_distances('A-B', station_config)\n",
    "list = ['a', 'b', 'c', 'd', 'e']"
   ]
  },
  {
   "cell_type": "code",
   "execution_count": null,
   "metadata": {},
   "outputs": [],
   "source": [
    "a = worker.remove_list_item_seq(list)\n",
    "print(a)\n",
    "b = worker.remove_list_item_seq(list)\n",
    "print(b)\n",
    "c = worker.remove_list_item_seq(list)\n",
    "print(c)\n",
    "d = worker.remove_list_item_seq(list)\n",
    "print(d)\n",
    "e = worker.remove_list_item_seq(list)\n",
    "print(e)\n",
    "print(len(list))"
   ]
  },
  {
   "cell_type": "code",
   "execution_count": null,
   "metadata": {},
   "outputs": [],
   "source": [
    "class MyListClass:\n",
    "    def __init__(self, n, string_list):\n",
    "        \"\"\"\n",
    "        # This function creates an ’n’ number of class attributes named as each string in the list, and initialised as empty lists.\n",
    "        \"\"\"\n",
    "        for s in string_list:\n",
    "            setattr(self, s, [])\n",
    "            for i in range(n):\n",
    "                getattr(self, s).append(None)\n",
    "\n",
    "                \n"
   ]
  },
  {
   "cell_type": "code",
   "execution_count": null,
   "metadata": {},
   "outputs": [],
   "source": [
    "my_obj = MyListClass(5, ['foo', 'bar', 'baz'])\n",
    "print(my_obj.foo)\n",
    "# [None, None, None, None, None]\n",
    "\n",
    "my_obj.foo[0] = 42\n",
    "print(my_obj.foo)\n",
    "# [42, None, None, None, None]\n",
    "\n",
    "my_obj.bar.append('hello')\n",
    "print(my_obj.bar)\n",
    "# [None, None, None, None, None, 'hello']\n"
   ]
  },
  {
   "cell_type": "code",
   "execution_count": null,
   "metadata": {},
   "outputs": [],
   "source": [
    "def select_route_as_key(input):\n",
    "    \"\"\"\n",
    "    This function returns one of the keys in input dictionary, up to the integer value of the key\n",
    "    \"\"\"\n",
    "    # calculate the sum of values in the input dictionary\n",
    "    n = sum(input.values())\n",
    "    \n",
    "    # create a dictionary to keep track of the number of times each key is returned\n",
    "    counter = {key: 0 for key in input}\n",
    "    \n",
    "    # select a key and return it as a string\n",
    "    def helper():\n",
    "        for key in input:\n",
    "            if counter[key] < input[key]:\n",
    "                counter[key] += 1\n",
    "                return str(key)\n",
    "        # if all keys have been returned the maximum number of times, raise an exception\n",
    "        raise Exception('no more route assignments')\n",
    "    \n",
    "    # keep track of the number of times the function has been run\n",
    "    num_runs = 0\n",
    "    \n",
    "    # run the function at most n times\n",
    "    while num_runs < n:\n",
    "        try:\n",
    "            key = helper()\n",
    "            num_runs += 1\n",
    "            yield key\n",
    "        except Exception as e:\n",
    "            yield str(e)\n",
    "            return\n"
   ]
  },
  {
   "cell_type": "code",
   "execution_count": null,
   "metadata": {},
   "outputs": [],
   "source": [
    "input_dict = {'key1': 4, 'key2': 1, 'key3': 1}\n",
    "for key in select_route_as_key(input_dict):\n",
    "    print(key)"
   ]
  },
  {
   "cell_type": "code",
   "execution_count": null,
   "metadata": {},
   "outputs": [],
   "source": [
    "def get_charging_stations_along_route(station_config, route_name):\n",
    "    \"\"\"\n",
    "    Returns a dictionary of charging stations along the route. \n",
    "    The key is the station name and the value is the distance from the start of the route.   \n",
    "    \"\"\"\n",
    "    charging_stations = {}\n",
    "    route_stations = station_config.get(route_name)\n",
    "    if route_stations:\n",
    "        for station_name, station_data in route_stations.items():\n",
    "            for station in station_data:\n",
    "                charging_stations[station_name] = int(station['Distance'])\n",
    "    return charging_stations\n",
    "\n",
    "\n"
   ]
  },
  {
   "cell_type": "code",
   "execution_count": null,
   "metadata": {},
   "outputs": [],
   "source": [
    "# a = get_charging_stations_along_route(station_config, 'A-B')\n",
    "# print(a)\n",
    "b = worker.get_dict_values(get_charging_stations_along_route(station_config, 'A-B'))\n",
    "print(b)\n"
   ]
  },
  {
   "attachments": {},
   "cell_type": "markdown",
   "metadata": {},
   "source": [
    "Model parameters"
   ]
  },
  {
   "cell_type": "code",
   "execution_count": null,
   "metadata": {},
   "outputs": [],
   "source": [
    "# 365 days = 8760 hours, 30 days = 720 hours, 2 days = 48 hours, 7 days = 168 hours\n",
    "ticks = 48\n",
    "no_evs = 2"
   ]
  },
  {
   "attachments": {},
   "cell_type": "markdown",
   "metadata": {},
   "source": [
    "Run Model"
   ]
  },
  {
   "cell_type": "code",
   "execution_count": null,
   "metadata": {},
   "outputs": [],
   "source": [
    "# model_run = model.EVModel(ticks=ticks, no_evs=no_evs, no_css=no_css, no_cps=no_cps)\n",
    "# for i in range(ticks):\n",
    "#     model_run.step()\n",
    "\n",
    "# # last stable\n",
    "# model_run = model.EVModel(ticks=ticks, no_evs=no_evs, params=params)\n",
    "# for i in range(ticks):\n",
    "#     model_run.step()\n",
    "\n",
    "model_run = model.EVModel(ticks=ticks, no_evs=no_evs, params=station_config)\n",
    "for i in range(ticks):\n",
    "    model_run.step()"
   ]
  },
  {
   "cell_type": "code",
   "execution_count": null,
   "metadata": {},
   "outputs": [],
   "source": [
    "# import numpy as np\n",
    "\n",
    "# def matrix_to_list(matrix):\n",
    "#     # Convert the matrix to a nested list\n",
    "#     nested_list = matrix.tolist()\n",
    "\n",
    "#     # Return the nested list\n",
    "#     return nested_list\n",
    "# matrix = np.array([[1, 2, 3], [4, 5, 6], [7, 8, 9]])\n",
    "# nested_list = matrix_to_list(matrix)\n",
    "# print(nested_list)\n"
   ]
  },
  {
   "cell_type": "code",
   "execution_count": null,
   "metadata": {},
   "outputs": [],
   "source": [
    "# model_run.schedule.agents\n",
    "run_stats = model_run.datacollector.get_model_vars_dataframe()\n",
    "print(run_stats)"
   ]
  },
  {
   "attachments": {},
   "cell_type": "markdown",
   "metadata": {},
   "source": [
    "Export results to CSV file"
   ]
  },
  {
   "cell_type": "code",
   "execution_count": null,
   "metadata": {},
   "outputs": [],
   "source": [
    "# today's date as string\n",
    "date_str = str(datetime.today())\n",
    "# export csv\n",
    "model_run.datacollector.get_model_vars_dataframe().to_csv(cfg.DATA_PATH + 'data_' + date_str[0:10] + '_' + str(no_evs) + '_EV_agent_model_output.csv')"
   ]
  },
  {
   "attachments": {},
   "cell_type": "markdown",
   "metadata": {},
   "source": [
    "## Data import and preprocessing"
   ]
  },
  {
   "attachments": {},
   "cell_type": "markdown",
   "metadata": {},
   "source": [
    "Data import and Helper functions"
   ]
  },
  {
   "cell_type": "code",
   "execution_count": null,
   "metadata": {},
   "outputs": [],
   "source": [
    "import analysis.helper as helper\n",
    "import plotly.express as px\n",
    "import plotly.graph_objs as go\n",
    "import pandas as pd"
   ]
  },
  {
   "cell_type": "code",
   "execution_count": null,
   "metadata": {},
   "outputs": [],
   "source": [
    "data = pd.read_csv(cfg.DATA_PATH +'modeldatadata_2023-03-19_500_EV_agent_model_output.csv')\n",
    "\n",
    "data = data.drop(columns=['Unnamed: 0'])"
   ]
  },
  {
   "cell_type": "code",
   "execution_count": null,
   "metadata": {},
   "outputs": [],
   "source": [
    "# data.info()\n",
    "data.head()"
   ]
  },
  {
   "cell_type": "code",
   "execution_count": null,
   "metadata": {},
   "outputs": [],
   "source": [
    "a = helper.unpack_and_join(data, 'EVs Charge Level')\n",
    "print(a)"
   ]
  },
  {
   "cell_type": "code",
   "execution_count": null,
   "metadata": {},
   "outputs": [],
   "source": [
    "# # EV charge level per EV per timestep - 20 EVs unpacked\n",
    "# newdf = a[['EVs Charge Level', 'EVs Charge Level_unpacked_0', 'EVs Charge Level_unpacked_1', 'EVs Charge Level_unpacked_2', 'EVs Charge Level_unpacked_3', 'EVs Charge Level_unpacked_4', 'EVs Charge Level_unpacked_5', 'EVs Charge Level_unpacked_6', 'EVs Charge Level_unpacked_7', 'EVs Charge Level_unpacked_8', 'EVs Charge Level_unpacked_9', 'EVs Charge Level_unpacked_10', 'EVs Charge Level_unpacked_11', 'EVs Charge Level_unpacked_12', 'EVs Charge Level_unpacked_13', 'EVs Charge Level_unpacked_14', 'EVs Charge Level_unpacked_15', 'EVs Charge Level_unpacked_16', 'EVs Charge Level_unpacked_17', 'EVs Charge Level_unpacked_18', 'EVs Charge Level_unpacked_19']]\n",
    "# newdf.head()\n",
    "\n",
    "# EV charge level per EV per timestep - 20 EVs unpacked\n",
    "newdf = a[['EVs Charge Level', 'EVs Charge Level_unpacked_0', 'EVs Charge Level_unpacked_1', 'EVs Charge Level_unpacked_2', 'EVs Charge Level_unpacked_3', 'EVs Charge Level_unpacked_4']]\n",
    "newdf.head()"
   ]
  },
  {
   "cell_type": "code",
   "execution_count": null,
   "metadata": {},
   "outputs": [],
   "source": [
    "# trip decisions [a-b,b-a,a-c,c-a]\n",
    "# These change at end of day randomly"
   ]
  },
  {
   "attachments": {},
   "cell_type": "markdown",
   "metadata": {},
   "source": [
    "## Batching"
   ]
  },
  {
   "cell_type": "code",
   "execution_count": null,
   "metadata": {},
   "outputs": [],
   "source": [
    "from mesa.batchrunner import BatchRunner\n",
    "\n",
    "EVcounts = (100,500,1000)\n",
    "cpcounts = (1,2)\n",
    "tickcounts = (24,48)\n",
    "model_reporters={'EVs Charged': get_evs_charged,\n",
    "                'EVs Activated': get_evs_active,\n",
    "                'EVs Travelling': get_evs_travel,\n",
    "                'EVs Charge Level': get_evs_charge_level,\n",
    "                'EVs Currently charging': get_evs_charging,\n",
    "                'EVs Not Idle': get_evs_not_idle,\n",
    "                'EOD Battery SOC': get_eod_evs_socs,\n",
    "                'EVs Destinations': get_evs_destinations,\n",
    "                }\n",
    "# parameters = {\"no_evs\": range(1000,20000,3000), \"no_cps\": 1}\n",
    "parameters = {\"no_evs\": EVcounts, \"no_cps\": cpcounts, \"ticks\": tickcounts}\n",
    "batch_run = BatchRunner(model.EVModel, parameters, max_steps=24, iterations=1, model_reporters= model_reporters) #iterations=1\n",
    "batch_run.run_all()"
   ]
  },
  {
   "cell_type": "code",
   "execution_count": null,
   "metadata": {},
   "outputs": [],
   "source": [
    "# batch_df = batch_run.get_model_vars_dataframe()"
   ]
  },
  {
   "cell_type": "code",
   "execution_count": null,
   "metadata": {},
   "outputs": [],
   "source": [
    "# print(batch_df)"
   ]
  },
  {
   "attachments": {},
   "cell_type": "markdown",
   "metadata": {},
   "source": [
    "## Visualisations"
   ]
  },
  {
   "attachments": {},
   "cell_type": "markdown",
   "metadata": {},
   "source": [
    "Scatter plot"
   ]
  },
  {
   "cell_type": "code",
   "execution_count": null,
   "metadata": {},
   "outputs": [],
   "source": [
    "# plot_data_lines(newdf, 'Timestep', ['EVs Charge Level_unpacked_0', 'EVs Charge Level_unpacked_1', 'EVs Charge Level_unpacked_2', 'EVs Charge Level_unpacked_3', 'EVs Charge Level_unpacked_4'])"
   ]
  },
  {
   "cell_type": "code",
   "execution_count": null,
   "metadata": {},
   "outputs": [],
   "source": []
  },
  {
   "attachments": {},
   "cell_type": "markdown",
   "metadata": {},
   "source": [
    "## Scrapbook"
   ]
  },
  {
   "cell_type": "code",
   "execution_count": null,
   "metadata": {},
   "outputs": [],
   "source": []
  }
 ],
 "metadata": {
  "kernelspec": {
   "display_name": "Python 3",
   "language": "python",
   "name": "python3"
  },
  "language_info": {
   "codemirror_mode": {
    "name": "ipython",
    "version": 3
   },
   "file_extension": ".py",
   "mimetype": "text/x-python",
   "name": "python",
   "nbconvert_exporter": "python",
   "pygments_lexer": "ipython3",
   "version": "3.11.2"
  },
  "orig_nbformat": 4,
  "vscode": {
   "interpreter": {
    "hash": "aee8b7b246df8f9039afb4144a1f6fd8d2ca17a180786b69acc140d282b71a49"
   }
  }
 },
 "nbformat": 4,
 "nbformat_minor": 2
}
